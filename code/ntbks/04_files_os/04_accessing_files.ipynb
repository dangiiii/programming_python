{
 "cells": [
  {
   "attachments": {},
   "cell_type": "markdown",
   "metadata": {},
   "source": [
    "## 4 Accessing files and OS-functionality in python\n",
    "\n",
    "Navigating the file system and loading, reading and writing to and from files is an important aspect of working with data. That's why we will take a closer look at some of the functionalities provided by python to deal with this."
   ]
  },
  {
   "attachments": {},
   "cell_type": "markdown",
   "metadata": {},
   "source": [
    "### Accessing the OS-specific file system\n",
    "Whenever you want to access directories, navigate around the filesystem or create files it is usually a good idea to use the \"os\" package which comes with python by default. You just need to import it like this:"
   ]
  },
  {
   "cell_type": "code",
   "execution_count": 5,
   "metadata": {},
   "outputs": [],
   "source": [
    "import os"
   ]
  },
  {
   "attachments": {},
   "cell_type": "markdown",
   "metadata": {},
   "source": [
    "Get current working directory:"
   ]
  },
  {
   "cell_type": "code",
   "execution_count": 50,
   "metadata": {},
   "outputs": [
    {
     "name": "stdout",
     "output_type": "stream",
     "text": [
      "os.cwd(): /media/dan/1407183E63647361/Sciebo/WHK/Exercises/Python/programming_python/code/ntbks/04_files_os\n"
     ]
    }
   ],
   "source": [
    "print(f\"os.cwd(): {os.getcwd()}\")"
   ]
  },
  {
   "attachments": {},
   "cell_type": "markdown",
   "metadata": {},
   "source": [
    "Differing operation systems usually address folders and files differently. While you use \"\\\\\" in Windows to separate different folder levels (e.g. \"C:\\Windows\\system32\"), Linux and macOS use \"/\". These separators can lead to compatibility issues when being hardcoded. Luckily the os package offers solutions to this:"
   ]
  },
  {
   "cell_type": "code",
   "execution_count": 25,
   "metadata": {},
   "outputs": [
    {
     "name": "stdout",
     "output_type": "stream",
     "text": [
      "Seperator used in your current OS: /\n",
      "os.sep.join(): Path/to/folder\n",
      "win_path with extension: C:\\Windows\\system32/path_extension\n",
      "linux_path with extension: /home/myprofile/testdata/path_extension\n"
     ]
    }
   ],
   "source": [
    "print(f\"Seperator used in your current OS: {os.sep}\")\n",
    "\n",
    "l = [\"Path\",\"to\",\"folder\"]\n",
    "print(f\"os.sep.join(): {os.sep.join(l)}\")\n",
    "\n",
    "path_win = \"C:\\Windows\\system32\"\n",
    "path_linux = \"/home/myprofile/testdata\"\n",
    "path_extension = \"path_extension\"\n",
    "\n",
    "print(f\"win_path with extension: {os.path.join(path_win,path_extension)}\")\n",
    "print(f\"linux_path with extension: {os.path.join(path_linux,path_extension)}\")"
   ]
  },
  {
   "attachments": {},
   "cell_type": "markdown",
   "metadata": {},
   "source": [
    "There are also functions that help you evaluate whether or not some path exists as well as if it leads to a file or a folder."
   ]
  },
  {
   "cell_type": "code",
   "execution_count": 43,
   "metadata": {},
   "outputs": [
    {
     "name": "stdout",
     "output_type": "stream",
     "text": [
      "Does C:\\Windows\\system32/path_extension exist? False\n",
      "Does /media/dan/1407183E63647361/Sciebo/WHK/Exercises/Python/programming_python/code/ntbks/04_files_os/testfolder exist? True\n",
      "Does /media/dan/1407183E63647361/Sciebo/WHK/Exercises/Python/programming_python/code/ntbks/04_files_os/testfile.pdf exist? True\n"
     ]
    }
   ],
   "source": [
    "print(f\"Does {os.path.join(path_win,path_extension)} exist? {os.path.exists(os.path.join(path_win,path_extension))}\")\n",
    "\n",
    "testfolder_path = os.path.join(os.getcwd(),'testfolder')\n",
    "testfile_path = os.path.join(os.getcwd(),'testfile.pdf')\n",
    "\n",
    "print(f\"Does {testfolder_path} exist? {os.path.exists(testfolder_path)}\")\n",
    "print(f\"Does {testfile_path} exist? {os.path.exists(testfile_path)}\")"
   ]
  },
  {
   "cell_type": "code",
   "execution_count": 49,
   "metadata": {},
   "outputs": [
    {
     "name": "stdout",
     "output_type": "stream",
     "text": [
      "Is /media/dan/1407183E63647361/Sciebo/WHK/Exercises/Python/programming_python/code/ntbks/04_files_os/testfolder a file? False\n",
      "Is /media/dan/1407183E63647361/Sciebo/WHK/Exercises/Python/programming_python/code/ntbks/04_files_os/testfolder a directory? True\n",
      "Is /media/dan/1407183E63647361/Sciebo/WHK/Exercises/Python/programming_python/code/ntbks/04_files_os/testfile.pdf a file? True\n",
      "Is /media/dan/1407183E63647361/Sciebo/WHK/Exercises/Python/programming_python/code/ntbks/04_files_os/testfile.pdf a directory? False\n"
     ]
    }
   ],
   "source": [
    "print(f\"Is {testfolder_path} a file? {os.path.isfile(testfolder_path)}\")\n",
    "print(f\"Is {testfolder_path} a directory? {os.path.isdir(testfolder_path)}\")\n",
    "\n",
    "print(f\"Is {testfile_path} a file? {os.path.isfile(testfile_path)}\")\n",
    "print(f\"Is {testfile_path} a directory? {os.path.isdir(testfile_path)}\")"
   ]
  },
  {
   "attachments": {},
   "cell_type": "markdown",
   "metadata": {},
   "source": [
    "### Creating files and directories"
   ]
  },
  {
   "attachments": {},
   "cell_type": "markdown",
   "metadata": {},
   "source": [
    "You can also use the OS package to create a new directory directly from your python script."
   ]
  },
  {
   "cell_type": "code",
   "execution_count": 52,
   "metadata": {},
   "outputs": [
    {
     "ename": "FileExistsError",
     "evalue": "[Errno 17] File exists: '/media/dan/1407183E63647361/Sciebo/WHK/Exercises/Python/programming_python/code/ntbks/04_files_os/testfolder'",
     "output_type": "error",
     "traceback": [
      "\u001b[0;31m---------------------------------------------------------------------------\u001b[0m",
      "\u001b[0;31mFileExistsError\u001b[0m                           Traceback (most recent call last)",
      "\u001b[0;32m/tmp/ipykernel_13065/2302911052.py\u001b[0m in \u001b[0;36m<module>\u001b[0;34m\u001b[0m\n\u001b[0;32m----> 1\u001b[0;31m \u001b[0mos\u001b[0m\u001b[0;34m.\u001b[0m\u001b[0mmkdir\u001b[0m\u001b[0;34m(\u001b[0m\u001b[0mtestfolder_path\u001b[0m\u001b[0;34m)\u001b[0m\u001b[0;34m\u001b[0m\u001b[0;34m\u001b[0m\u001b[0m\n\u001b[0m",
      "\u001b[0;31mFileExistsError\u001b[0m: [Errno 17] File exists: '/media/dan/1407183E63647361/Sciebo/WHK/Exercises/Python/programming_python/code/ntbks/04_files_os/testfolder'"
     ]
    }
   ],
   "source": [
    "os.mkdir(testfolder_path)"
   ]
  },
  {
   "attachments": {},
   "cell_type": "markdown",
   "metadata": {},
   "source": [
    "Trying to blindly create files or folders can lead to errors as seen above where the folder already exists. A better way of doing this is to check whether or not a file or folder already exists: "
   ]
  },
  {
   "cell_type": "code",
   "execution_count": 81,
   "metadata": {},
   "outputs": [
    {
     "name": "stdout",
     "output_type": "stream",
     "text": [
      "Path already exists. Not creating new directory.\n",
      "Path already exists. Not creating new file.\n",
      "Created folder /media/dan/1407183E63647361/Sciebo/WHK/Exercises/Python/programming_python/code/ntbks/04_files_os/new_folder\n"
     ]
    }
   ],
   "source": [
    "if not os.path.exists(testfolder_path):\n",
    "    os.mkdir(testfolder_path)\n",
    "else:\n",
    "    print(\"Path already exists. Not creating new directory.\")\n",
    "    \n",
    "if not os.path.exists(testfile_path):\n",
    "    os.mkdir(testfile_path)\n",
    "else:\n",
    "    print(\"Path already exists. Not creating new file.\")\n",
    "    \n",
    "new_folder = os.path.join(os.getcwd(),\"new_folder\")\n",
    "\n",
    "if not os.path.exists(new_folder):\n",
    "    os.mkdir(new_folder)\n",
    "    print(f\"Created folder {new_folder}\")\n",
    "else:\n",
    "    print(\"Path already exists. Not creating new file.\")"
   ]
  },
  {
   "attachments": {},
   "cell_type": "markdown",
   "metadata": {},
   "source": [
    "You can use os.mknod() to create a new file. This will work on Windows and Linux but may fail on macOS:"
   ]
  },
  {
   "cell_type": "code",
   "execution_count": 85,
   "metadata": {},
   "outputs": [
    {
     "name": "stdout",
     "output_type": "stream",
     "text": [
      "Created file /media/dan/1407183E63647361/Sciebo/WHK/Exercises/Python/programming_python/code/ntbks/04_files_os/new_file.pdf\n"
     ]
    }
   ],
   "source": [
    "new_file = os.path.join(os.getcwd(),\"new_file.pdf\")\n",
    "\n",
    "if not os.path.exists(new_file):\n",
    "    os.mknod(new_file)\n",
    "    print(f\"Created file {new_file}\")\n",
    "else:\n",
    "    print(\"Path already exists. Not creating new file.\")"
   ]
  },
  {
   "attachments": {},
   "cell_type": "markdown",
   "metadata": {},
   "source": [
    "### Deleting files and directories\n",
    "Files and directories can also be deleted. There are different options which are explained in more detail https://stackoverflow.com/questions/6996603/how-can-i-delete-a-file-or-folder-in-python#6996628 . Deleting files and folders via the os package can be performed in the following way:"
   ]
  },
  {
   "cell_type": "code",
   "execution_count": 68,
   "metadata": {},
   "outputs": [
    {
     "ename": "FileNotFoundError",
     "evalue": "[Errno 2] No such file or directory: '/media/dan/1407183E63647361/Sciebo/WHK/Exercises/Python/programming_python/code/ntbks/04_files_os/new_file2.pdf'",
     "output_type": "error",
     "traceback": [
      "\u001b[0;31m---------------------------------------------------------------------------\u001b[0m",
      "\u001b[0;31mFileNotFoundError\u001b[0m                         Traceback (most recent call last)",
      "\u001b[0;32m/tmp/ipykernel_13065/688028456.py\u001b[0m in \u001b[0;36m<module>\u001b[0;34m\u001b[0m\n\u001b[1;32m      1\u001b[0m \u001b[0mnew_file2\u001b[0m \u001b[0;34m=\u001b[0m \u001b[0mos\u001b[0m\u001b[0;34m.\u001b[0m\u001b[0mpath\u001b[0m\u001b[0;34m.\u001b[0m\u001b[0mjoin\u001b[0m\u001b[0;34m(\u001b[0m\u001b[0mos\u001b[0m\u001b[0;34m.\u001b[0m\u001b[0mgetcwd\u001b[0m\u001b[0;34m(\u001b[0m\u001b[0;34m)\u001b[0m\u001b[0;34m,\u001b[0m\u001b[0;34m\"new_file2.pdf\"\u001b[0m\u001b[0;34m)\u001b[0m\u001b[0;34m\u001b[0m\u001b[0;34m\u001b[0m\u001b[0m\n\u001b[0;32m----> 2\u001b[0;31m \u001b[0mos\u001b[0m\u001b[0;34m.\u001b[0m\u001b[0mremove\u001b[0m\u001b[0;34m(\u001b[0m\u001b[0mnew_file2\u001b[0m\u001b[0;34m)\u001b[0m\u001b[0;34m\u001b[0m\u001b[0;34m\u001b[0m\u001b[0m\n\u001b[0m",
      "\u001b[0;31mFileNotFoundError\u001b[0m: [Errno 2] No such file or directory: '/media/dan/1407183E63647361/Sciebo/WHK/Exercises/Python/programming_python/code/ntbks/04_files_os/new_file2.pdf'"
     ]
    }
   ],
   "source": [
    "new_file2 = os.path.join(os.getcwd(),\"new_file2.pdf\")\n",
    "\n",
    "os.remove(new_file2)"
   ]
  },
  {
   "attachments": {},
   "cell_type": "markdown",
   "metadata": {},
   "source": [
    "Trying to remove a file or folder that does not exist will lead to a \"FileNotFoundError\" and crash your program. Thus you should always check if the path exists, just like in the examples shown to create things. A better way of deleting file(s) would be:"
   ]
  },
  {
   "cell_type": "code",
   "execution_count": 84,
   "metadata": {},
   "outputs": [
    {
     "name": "stdout",
     "output_type": "stream",
     "text": [
      "Deleted file /media/dan/1407183E63647361/Sciebo/WHK/Exercises/Python/programming_python/code/ntbks/04_files_os/new_file.pdf\n"
     ]
    }
   ],
   "source": [
    "if os.path.exists(new_file):\n",
    "    os.remove(new_file)\n",
    "    print(f\"Deleted file {new_file}\")\n",
    "else:\n",
    "    print(f\"File '{new_file}' does not exist.\")"
   ]
  },
  {
   "attachments": {},
   "cell_type": "markdown",
   "metadata": {},
   "source": [
    "Empty directories can be deleted in a similar fashion when using the os package:"
   ]
  },
  {
   "cell_type": "code",
   "execution_count": 86,
   "metadata": {},
   "outputs": [
    {
     "name": "stdout",
     "output_type": "stream",
     "text": [
      "Deleted directory /media/dan/1407183E63647361/Sciebo/WHK/Exercises/Python/programming_python/code/ntbks/04_files_os/new_folder\n"
     ]
    }
   ],
   "source": [
    "if os.path.exists(new_folder):\n",
    "    os.rmdir(new_folder)\n",
    "    print(f\"Deleted directory {new_folder}\")\n",
    "else:\n",
    "    print(f\"Directory '{new_folder}' does not exist.\")"
   ]
  },
  {
   "attachments": {},
   "cell_type": "markdown",
   "metadata": {},
   "source": [
    "os.rmdir only works if the folder you want to delete is empty, that means does not contain any files or subfolders, as can be seen in the following example which will run into an error:"
   ]
  },
  {
   "cell_type": "code",
   "execution_count": 101,
   "metadata": {},
   "outputs": [
    {
     "name": "stdout",
     "output_type": "stream",
     "text": [
      "Created folder /media/dan/1407183E63647361/Sciebo/WHK/Exercises/Python/programming_python/code/ntbks/04_files_os/new_folder\n",
      "Created file /media/dan/1407183E63647361/Sciebo/WHK/Exercises/Python/programming_python/code/ntbks/04_files_os/new_folder/new_folder_file\n"
     ]
    },
    {
     "ename": "OSError",
     "evalue": "[Errno 39] Directory not empty: '/media/dan/1407183E63647361/Sciebo/WHK/Exercises/Python/programming_python/code/ntbks/04_files_os/new_folder'",
     "output_type": "error",
     "traceback": [
      "\u001b[0;31m---------------------------------------------------------------------------\u001b[0m",
      "\u001b[0;31mOSError\u001b[0m                                   Traceback (most recent call last)",
      "\u001b[0;32m/tmp/ipykernel_13065/4287025295.py\u001b[0m in \u001b[0;36m<module>\u001b[0;34m\u001b[0m\n\u001b[1;32m     14\u001b[0m \u001b[0;34m\u001b[0m\u001b[0m\n\u001b[1;32m     15\u001b[0m \u001b[0;32mif\u001b[0m \u001b[0mos\u001b[0m\u001b[0;34m.\u001b[0m\u001b[0mpath\u001b[0m\u001b[0;34m.\u001b[0m\u001b[0mexists\u001b[0m\u001b[0;34m(\u001b[0m\u001b[0mnew_folder\u001b[0m\u001b[0;34m)\u001b[0m\u001b[0;34m:\u001b[0m\u001b[0;34m\u001b[0m\u001b[0;34m\u001b[0m\u001b[0m\n\u001b[0;32m---> 16\u001b[0;31m     \u001b[0mos\u001b[0m\u001b[0;34m.\u001b[0m\u001b[0mrmdir\u001b[0m\u001b[0;34m(\u001b[0m\u001b[0mnew_folder\u001b[0m\u001b[0;34m)\u001b[0m\u001b[0;34m\u001b[0m\u001b[0;34m\u001b[0m\u001b[0m\n\u001b[0m\u001b[1;32m     17\u001b[0m     \u001b[0mprint\u001b[0m\u001b[0;34m(\u001b[0m\u001b[0;34mf\"Deleted directory {new_folder}\"\u001b[0m\u001b[0;34m)\u001b[0m\u001b[0;34m\u001b[0m\u001b[0;34m\u001b[0m\u001b[0m\n\u001b[1;32m     18\u001b[0m \u001b[0;32melse\u001b[0m\u001b[0;34m:\u001b[0m\u001b[0;34m\u001b[0m\u001b[0;34m\u001b[0m\u001b[0m\n",
      "\u001b[0;31mOSError\u001b[0m: [Errno 39] Directory not empty: '/media/dan/1407183E63647361/Sciebo/WHK/Exercises/Python/programming_python/code/ntbks/04_files_os/new_folder'"
     ]
    }
   ],
   "source": [
    "if not os.path.exists(new_folder):\n",
    "    os.mkdir(new_folder)\n",
    "    print(f\"Created folder {new_folder}\")\n",
    "else:\n",
    "    print(\"Path already exists. Not creating new file.\")\n",
    "    \n",
    "new_folder_file = os.path.join(new_folder,\"new_folder_file\")\n",
    "\n",
    "if not os.path.exists(new_folder_file):\n",
    "    os.mknod(new_folder_file)\n",
    "    print(f\"Created file {new_folder_file}\")\n",
    "else:\n",
    "    print(\"Path already exists. Not creating new file.\")\n",
    "    \n",
    "if os.path.exists(new_folder):\n",
    "    os.rmdir(new_folder)\n",
    "    print(f\"Deleted directory {new_folder}\")\n",
    "else:\n",
    "    print(f\"Directory '{new_folder}' does not exist.\")"
   ]
  },
  {
   "attachments": {},
   "cell_type": "markdown",
   "metadata": {},
   "source": [
    "One way to circumvent this problem is by manually deleting everything in that folder and then fall back on the os package. An easier way in this case is to utilize the \"shutil\" package which also comes directly with python:"
   ]
  },
  {
   "cell_type": "code",
   "execution_count": 102,
   "metadata": {},
   "outputs": [
    {
     "name": "stdout",
     "output_type": "stream",
     "text": [
      "Deleted directory /media/dan/1407183E63647361/Sciebo/WHK/Exercises/Python/programming_python/code/ntbks/04_files_os/new_folder\n"
     ]
    }
   ],
   "source": [
    "import shutil\n",
    "\n",
    "if os.path.exists(new_folder):\n",
    "    shutil.rmtree(new_folder)\n",
    "    print(f\"Deleted directory {new_folder}\")\n",
    "else:\n",
    "    print(f\"Directory '{new_folder}' does not exist.\")"
   ]
  },
  {
   "attachments": {},
   "cell_type": "markdown",
   "metadata": {},
   "source": [
    "### More useful commands"
   ]
  },
  {
   "attachments": {},
   "cell_type": "markdown",
   "metadata": {},
   "source": [
    "List all files and subdirs in a folder:"
   ]
  },
  {
   "cell_type": "code",
   "execution_count": 107,
   "metadata": {},
   "outputs": [
    {
     "name": "stdout",
     "output_type": "stream",
     "text": [
      "list of files/folders in directory: ['04_accessing_files.ipynb', 'new_file.pdf', 'testfile.pdf', 'testfile.pdf2', 'testfolder', 'testfolder.pdf']\n"
     ]
    }
   ],
   "source": [
    "dir_list = os.listdir(os.getcwd())\n",
    "print(f\"list of files/folders in directory: {dir_list}\")"
   ]
  },
  {
   "attachments": {},
   "cell_type": "markdown",
   "metadata": {},
   "source": [
    "Get size (in bytes) for a specific file or folder:"
   ]
  },
  {
   "cell_type": "code",
   "execution_count": 116,
   "metadata": {},
   "outputs": [
    {
     "name": "stdout",
     "output_type": "stream",
     "text": [
      "Size of /media/dan/1407183E63647361/Sciebo/WHK/Exercises/Python/programming_python/code/ntbks/04_files_os/new_file.pdf: 0 bytes\n",
      "Size of /media/dan/1407183E63647361/Sciebo/WHK/Exercises/Python/programming_python/code/ntbks/04_files_os/testfolder: 0 bytes\n"
     ]
    }
   ],
   "source": [
    "print(f\"Size of {new_file}: {os.path.getsize(new_file)} bytes\")\n",
    "print(f\"Size of {testfolder_path}: {os.path.getsize(testfolder_path)} bytes\")"
   ]
  },
  {
   "attachments": {},
   "cell_type": "markdown",
   "metadata": {},
   "source": [
    "## Tasks"
   ]
  },
  {
   "attachments": {},
   "cell_type": "markdown",
   "metadata": {},
   "source": [
    "### 4.1\n",
    "Write code that generates four arbitrarily named files containing the suffix \".pdf\" as well as two arbitrarily names files with a random/without a suffix in the \"testfolder\" subdirectory. Additionally add two directories with names of your choice to the same directory (\"testfolder\")."
   ]
  },
  {
   "cell_type": "code",
   "execution_count": null,
   "metadata": {},
   "outputs": [],
   "source": [
    "### Your code here"
   ]
  },
  {
   "attachments": {},
   "cell_type": "markdown",
   "metadata": {},
   "source": [
    "### 4.2\n",
    "Write a list comprehension that puts all contents of the \"testfolder\" directory into a list."
   ]
  },
  {
   "cell_type": "code",
   "execution_count": null,
   "metadata": {},
   "outputs": [],
   "source": [
    "### Your code here"
   ]
  },
  {
   "attachments": {},
   "cell_type": "markdown",
   "metadata": {},
   "source": [
    "### 4.3\n",
    "Now write two more list comprehensions, but this time use conditional statements to make sure that one list only contains actual files while the other only contains the folders from \"testfolder\". "
   ]
  },
  {
   "cell_type": "code",
   "execution_count": 117,
   "metadata": {},
   "outputs": [],
   "source": [
    "### Your code here"
   ]
  },
  {
   "cell_type": "markdown",
   "metadata": {},
   "source": [
    "### 4.4\n",
    "Use list comprehensions again to only add files containing the \".pdf\" extension to the resulting list."
   ]
  },
  {
   "cell_type": "code",
   "execution_count": null,
   "metadata": {},
   "outputs": [],
   "source": [
    "### Your code here"
   ]
  }
 ],
 "metadata": {
  "kernelspec": {
   "display_name": "airflow",
   "language": "python",
   "name": "python3"
  },
  "language_info": {
   "codemirror_mode": {
    "name": "ipython",
    "version": 3
   },
   "file_extension": ".py",
   "mimetype": "text/x-python",
   "name": "python",
   "nbconvert_exporter": "python",
   "pygments_lexer": "ipython3",
   "version": "3.10.4"
  },
  "orig_nbformat": 4
 },
 "nbformat": 4,
 "nbformat_minor": 2
}
