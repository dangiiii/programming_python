{
 "cells": [
  {
   "attachments": {},
   "cell_type": "markdown",
   "metadata": {},
   "source": [
    "## 4 Accessing files and OS-functionality in python\n",
    "\n",
    "Navigating the file system and loading, reading and writing to and from files is an important aspect of working with data. That's why we will take a closer look at some of the functionalities provided by python to deal with this."
   ]
  },
  {
   "attachments": {},
   "cell_type": "markdown",
   "metadata": {},
   "source": [
    "### Accessing the OS-specific file system\n",
    "Whenever you want to access directories, navigate around the filesystem or create files it is usually a good idea to use the \"os\" package which comes with python by default. You just need to import it like this:"
   ]
  },
  {
   "cell_type": "code",
   "execution_count": null,
   "metadata": {},
   "outputs": [],
   "source": [
    "import os"
   ]
  },
  {
   "attachments": {},
   "cell_type": "markdown",
   "metadata": {},
   "source": [
    "Get current working directory:"
   ]
  },
  {
   "cell_type": "code",
   "execution_count": null,
   "metadata": {},
   "outputs": [],
   "source": [
    "print(f\"os.cwd(): {os.getcwd()}\")"
   ]
  },
  {
   "attachments": {},
   "cell_type": "markdown",
   "metadata": {},
   "source": [
    "Different operation systems usually address folders and files differently. While you use \"\\\\\" in Windows to separate different folder levels (e.g. \"C:\\Windows\\system32\"), POSIX systems like Linux and macOS use \"/\". These separators can lead to compatibility issues when being hardcoded. Luckily the os package offers solutions to this:"
   ]
  },
  {
   "cell_type": "code",
   "execution_count": null,
   "metadata": {},
   "outputs": [],
   "source": [
    "print(f\"Seperator used in your current OS: {os.sep}\")\n",
    "\n",
    "l = [\"Path\",\"to\",\"folder\"]\n",
    "print(f\"os.sep.join(): {os.sep.join(l)}\")\n",
    "\n",
    "path_win = \"C:\\Windows\\system32\"\n",
    "path_posix = \"/home/myprofile/testdata\"\n",
    "path_extension = \"path_extension\"\n",
    "\n",
    "print(f\"win_path with extension: {os.path.join(path_win,path_extension)}\")\n",
    "print(f\"posix_path with extension: {os.path.join(path_posix,path_extension)}\")"
   ]
  },
  {
   "attachments": {},
   "cell_type": "markdown",
   "metadata": {},
   "source": [
    "Depending on your OS one of the two paths printed out at the end should look correct (win_path for Windows, posix_path for Linux and MacOS )."
   ]
  },
  {
   "attachments": {},
   "cell_type": "markdown",
   "metadata": {},
   "source": [
    "If you want to split up a given path, the function os.path.split() might come in handy. It returns a tuple of two strings (head, tail), the second of which contains every character after the final slash. To make this more clear:"
   ]
  },
  {
   "cell_type": "code",
   "execution_count": null,
   "metadata": {},
   "outputs": [],
   "source": [
    "# for windows\n",
    "\n",
    "print(f\"windows path: {path_win}\")\n",
    "split_path = os.path.split(path_win)\n",
    "print(f\"windows path split: {split_path}  | head: '{split_path[0]}'   tail: '{split_path[-1]}'\")"
   ]
  },
  {
   "cell_type": "code",
   "execution_count": null,
   "metadata": {},
   "outputs": [],
   "source": [
    "# for linux and macos\n",
    "\n",
    "print(f\"posix path: {path_posix}\")\n",
    "split_path = os.path.split(path_posix)\n",
    "print(f\"posix path split: {split_path}  | head: '{split_path[0]}'   tail: '{split_path[-1]}'\")"
   ]
  },
  {
   "attachments": {},
   "cell_type": "markdown",
   "metadata": {},
   "source": [
    "As you will notice again, only one of the two cells above will work correctly due to <i>os.path.split()</i> relying on the separator for the underlying OS you are running the script/cell on."
   ]
  },
  {
   "attachments": {},
   "cell_type": "markdown",
   "metadata": {},
   "source": [
    "One more useful method that comes with the os-package is splitext() which again returns a tuple of two strings, albeit this time split at the final dot (second string still contains the \".\" at the front of the returned extension!):"
   ]
  },
  {
   "cell_type": "code",
   "execution_count": null,
   "metadata": {},
   "outputs": [],
   "source": [
    "print(f\"splitext() win: {os.path.splitext(os.path.join(path_win,'abc.pdf'))}\")\n",
    "print(f\"splitext() posix: {os.path.splitext(os.path.join(path_posix,'abc.pdf'))}\")"
   ]
  },
  {
   "attachments": {},
   "cell_type": "markdown",
   "metadata": {},
   "source": [
    "There are also functions that help you evaluate whether or not some path exists as well as if it leads to a file or a folder."
   ]
  },
  {
   "cell_type": "code",
   "execution_count": null,
   "metadata": {},
   "outputs": [],
   "source": [
    "print(f\"Does {os.path.join(path_win,path_extension)} exist? {os.path.exists(os.path.join(path_win,path_extension))}\")\n",
    "\n",
    "testfolder_path = os.path.join(os.getcwd(),'testfolder')\n",
    "testfile_path = os.path.join(os.getcwd(),\"04_accessing_files.ipynb\")\n",
    "\n",
    "print(f\"Does {testfolder_path} exist? {os.path.exists(testfolder_path)}\")\n",
    "print(f\"Does {testfile_path} exist? {os.path.exists(testfile_path)}\")"
   ]
  },
  {
   "cell_type": "code",
   "execution_count": null,
   "metadata": {},
   "outputs": [],
   "source": [
    "print(f\"Is {testfolder_path} a file? {os.path.isfile(testfolder_path)}\")\n",
    "print(f\"Is {testfolder_path} a directory? {os.path.isdir(testfolder_path)}\")\n",
    "\n",
    "print(f\"Is {testfile_path} a file? {os.path.isfile(testfile_path)}\")\n",
    "print(f\"Is {testfile_path} a directory? {os.path.isdir(testfile_path)}\")"
   ]
  },
  {
   "attachments": {},
   "cell_type": "markdown",
   "metadata": {},
   "source": [
    "#### Creating files and directories"
   ]
  },
  {
   "attachments": {},
   "cell_type": "markdown",
   "metadata": {},
   "source": [
    "You can also use the OS package to create a new directory directly from your python script."
   ]
  },
  {
   "cell_type": "code",
   "execution_count": null,
   "metadata": {},
   "outputs": [],
   "source": [
    "os.mkdir(testfolder_path)"
   ]
  },
  {
   "attachments": {},
   "cell_type": "markdown",
   "metadata": {},
   "source": [
    "Trying to blindly create files or folders can lead to errors as seen above where the folder already exists. A better way of doing this is to check whether or not a file or folder already exists: "
   ]
  },
  {
   "cell_type": "code",
   "execution_count": null,
   "metadata": {},
   "outputs": [],
   "source": [
    "if not os.path.exists(testfolder_path):\n",
    "    os.mkdir(testfolder_path)\n",
    "else:\n",
    "    print(\"Path already exists. Not creating new directory.\")\n",
    "    \n",
    "if not os.path.exists(testfile_path):\n",
    "    os.mkdir(testfile_path)\n",
    "else:\n",
    "    print(\"Path already exists. Not creating new file.\")\n",
    "    \n",
    "new_folder = os.path.join(os.getcwd(),\"new_folder\")\n",
    "\n",
    "if not os.path.exists(new_folder):\n",
    "    os.mkdir(new_folder)\n",
    "    print(f\"Created folder {new_folder}\")\n",
    "else:\n",
    "    print(\"Path already exists. Not creating new file.\")"
   ]
  },
  {
   "attachments": {},
   "cell_type": "markdown",
   "metadata": {},
   "source": [
    "You can use os.mknod() to create a new file. This will work on Windows and Linux but may fail on macOS:"
   ]
  },
  {
   "cell_type": "code",
   "execution_count": null,
   "metadata": {},
   "outputs": [],
   "source": [
    "new_file = os.path.join(os.getcwd(),\"new_file.pdf\")\n",
    "\n",
    "if not os.path.exists(new_file):\n",
    "    os.mknod(new_file)\n",
    "    print(f\"Created file {new_file}\")\n",
    "else:\n",
    "    print(\"Path already exists. Not creating new file.\")"
   ]
  },
  {
   "attachments": {},
   "cell_type": "markdown",
   "metadata": {},
   "source": [
    "#### Deleting files and directories\n",
    "Files and directories can also be deleted. There are different options which are explained in more detail [here](https://stackoverflow.com/questions/6996603/how-can-i-delete-a-file-or-folder-in-python#6996628). Deleting files and folders via the os package can be performed in the following way:"
   ]
  },
  {
   "cell_type": "code",
   "execution_count": null,
   "metadata": {},
   "outputs": [],
   "source": [
    "new_file2 = os.path.join(os.getcwd(),\"new_file2.pdf\")\n",
    "\n",
    "os.remove(new_file2)"
   ]
  },
  {
   "attachments": {},
   "cell_type": "markdown",
   "metadata": {},
   "source": [
    "Trying to remove a file or folder that does not exist will lead to a \"FileNotFoundError\" and crash your program. Thus you should always check if the path exists, just like in the examples shown to create things. A better way of deleting file(s) would be:"
   ]
  },
  {
   "cell_type": "code",
   "execution_count": null,
   "metadata": {},
   "outputs": [],
   "source": [
    "if os.path.exists(new_file):\n",
    "    os.remove(new_file)\n",
    "    print(f\"Deleted file {new_file}\")\n",
    "else:\n",
    "    print(f\"File '{new_file}' does not exist.\")"
   ]
  },
  {
   "attachments": {},
   "cell_type": "markdown",
   "metadata": {},
   "source": [
    "Empty directories can be deleted in a similar fashion when using the os package:"
   ]
  },
  {
   "cell_type": "code",
   "execution_count": null,
   "metadata": {},
   "outputs": [],
   "source": [
    "if os.path.exists(new_folder):\n",
    "    os.rmdir(new_folder)\n",
    "    print(f\"Deleted directory {new_folder}\")\n",
    "else:\n",
    "    print(f\"Directory '{new_folder}' does not exist.\")"
   ]
  },
  {
   "attachments": {},
   "cell_type": "markdown",
   "metadata": {},
   "source": [
    "os.rmdir only works if the folder you want to delete is empty, that means does not contain any files or subfolders, as can be seen in the following example which will run into an error:"
   ]
  },
  {
   "cell_type": "code",
   "execution_count": null,
   "metadata": {},
   "outputs": [],
   "source": [
    "if not os.path.exists(new_folder):\n",
    "    os.mkdir(new_folder)\n",
    "    print(f\"Created folder {new_folder}\")\n",
    "else:\n",
    "    print(\"Path already exists. Not creating new file.\")\n",
    "    \n",
    "new_folder_file = os.path.join(new_folder,\"new_folder_file\")\n",
    "\n",
    "if not os.path.exists(new_folder_file):\n",
    "    os.mknod(new_folder_file)\n",
    "    print(f\"Created file {new_folder_file}\")\n",
    "else:\n",
    "    print(\"Path already exists. Not creating new file.\")\n",
    "    \n",
    "if os.path.exists(new_folder):\n",
    "    os.rmdir(new_folder)\n",
    "    print(f\"Deleted directory {new_folder}\")\n",
    "else:\n",
    "    print(f\"Directory '{new_folder}' does not exist.\")"
   ]
  },
  {
   "attachments": {},
   "cell_type": "markdown",
   "metadata": {},
   "source": [
    "One way to circumvent this problem is to manually delete everything in that folder and then falling back on the os package. An easier way in this case is to utilize the \"shutil\" package which also comes directly with python:"
   ]
  },
  {
   "cell_type": "code",
   "execution_count": null,
   "metadata": {},
   "outputs": [],
   "source": [
    "import shutil\n",
    "\n",
    "if os.path.exists(new_folder):\n",
    "    shutil.rmtree(new_folder)\n",
    "    print(f\"Deleted directory {new_folder}\")\n",
    "else:\n",
    "    print(f\"Directory '{new_folder}' does not exist.\")"
   ]
  },
  {
   "attachments": {},
   "cell_type": "markdown",
   "metadata": {},
   "source": [
    "#### More useful commands"
   ]
  },
  {
   "attachments": {},
   "cell_type": "markdown",
   "metadata": {},
   "source": [
    "List all files and subdirs in a folder:"
   ]
  },
  {
   "cell_type": "code",
   "execution_count": null,
   "metadata": {},
   "outputs": [],
   "source": [
    "dir_list = os.listdir(os.getcwd())\n",
    "print(f\"list of files/folders in directory: {dir_list}\")"
   ]
  },
  {
   "attachments": {},
   "cell_type": "markdown",
   "metadata": {},
   "source": [
    "Get size (in bytes) for a specific file or folder:"
   ]
  },
  {
   "cell_type": "code",
   "execution_count": null,
   "metadata": {},
   "outputs": [],
   "source": [
    "print(f\"Size of '{testfile_path}': {os.path.getsize(testfile_path)} bytes\")\n",
    "print(f\"Size of '{testfolder_path}': {os.path.getsize(testfolder_path)} bytes\")"
   ]
  },
  {
   "attachments": {},
   "cell_type": "markdown",
   "metadata": {},
   "source": [
    "### Reading and Writing files\n",
    "Now that you have learned how to use the os package to navigate around the file system and get the path of certain files or folders, it's time to take a look at how to work with some of the types of files you might encounter. We will focus on reading and writing from and to text files in this notebook, more examples of handling different types of files (like images or dataframes) will be shown in upcoming notebooks.<br>\n",
    "<table style=\"width:50%\" align=\"left\">\n",
    "  <tr>\n",
    "    <th>Mode</th>\n",
    "    <th>Parameter</th>\n",
    "    <th>Description</th>\n",
    "  </tr>\n",
    "  <tr>\n",
    "    <td>write</td>\n",
    "    <td>w </td>\n",
    "    <td>Creates and writes to file if it does not exist yet. Otherwise opens existing file and <i><b>overwrites</b></i> any of the content in it. You can not read the content of the file while in this mode (\"UnsupportedOperation: not readable\").</td>\n",
    "  </tr>\n",
    "   <tr>\n",
    "    <td>read</td>\n",
    "    <td>r</td>\n",
    "    <td>Opens an <i><b>existing</b></i> file for reading -> Contents of file cannot be changed in this mode (\"UnsupportedOperation: not writable\").</td>\n",
    "  </tr>\n",
    "  <tr>\n",
    "    <td>append</td>\n",
    "    <td>a</td>\n",
    "    <td>Similar to 'write', but appends text to the end of a file instead of overwriting its previous content. You can not read the content of the file while in this mode (\"UnsupportedOperation: not readable\").</td>\n",
    "  </tr>\n",
    "</table>\n"
   ]
  },
  {
   "attachments": {},
   "cell_type": "markdown",
   "metadata": {},
   "source": [
    "#### Writing to a file\n",
    "Following are examples for the usage of the different modes. By using the \"with\" syntax you do not have to explicitly deal with closing the opened file as it automatically gets closed after the indended block ends:"
   ]
  },
  {
   "cell_type": "code",
   "execution_count": null,
   "metadata": {},
   "outputs": [],
   "source": [
    "f = open(\"text_write_open.txt\",\"w\")\n",
    "\n",
    "f.write(\"Writing to files is oftentimes needed.\")\n",
    "f.write(\"Once you wrap your head around the different modes its not that complicated.\")\n",
    "f.write(\"You just have to try it out and get familiar with it.\")\n",
    "\n",
    "f.close()\n",
    "\n",
    "# this will achieve the same result, but you do not manually have to remember to close the file afterwards.\n",
    "with open(\"text_write.txt\",\"w\") as file:\n",
    "    file.write(\"Writing to files is oftentimes needed.\")\n",
    "    file.write(\"Once you wrap your head around the different modes its not that complicated.\")\n",
    "    file.write(\"You just have to try it out and get familiar with it.\")"
   ]
  },
  {
   "attachments": {},
   "cell_type": "markdown",
   "metadata": {},
   "source": [
    "Now go to your file explorer (or even easier, use your IDE) and open up the files you just created. Are there any differences between them? Is this the way you intended to insert the text?\n",
    "Run the next code snippet and compare the results:"
   ]
  },
  {
   "cell_type": "code",
   "execution_count": null,
   "metadata": {},
   "outputs": [],
   "source": [
    "with open(\"text_write_lb.txt\",\"w\") as file:\n",
    "    file.write(\"Writing to files is oftentimes needed.\\n\")\n",
    "    file.write(\"Once you wrap your head around the different modes its not that complicated.\\n\")\n",
    "    file.write(\"You just have to try it out and get familiar with it.\\n\")"
   ]
  },
  {
   "attachments": {},
   "cell_type": "markdown",
   "metadata": {},
   "source": [
    "The same result can also be achieved like this, note that the variable name you use to access the file can of course be arbitrarily chosen:"
   ]
  },
  {
   "cell_type": "code",
   "execution_count": null,
   "metadata": {},
   "outputs": [],
   "source": [
    "l = [\"Writing to files is oftentimes needed.\\n\",\"Once you wrap your head around the different modes its not that complicated.\\n\",\"You just have to try it out and get familiar with it.\\n\"]\n",
    "\n",
    "with open(\"text_writelines.txt\",\"w\") as random_variable_name:\n",
    "    random_variable_name.writelines(l)"
   ]
  },
  {
   "attachments": {},
   "cell_type": "markdown",
   "metadata": {},
   "source": [
    "It's easy to forget that the write() and writelines() methods <i><b>do not automatically add a linebreak</b></i> when used, so you have to manually add this to the text you want to insert (\\n)."
   ]
  },
  {
   "attachments": {},
   "cell_type": "markdown",
   "metadata": {},
   "source": [
    "#### Appending to a file"
   ]
  },
  {
   "cell_type": "code",
   "execution_count": null,
   "metadata": {},
   "outputs": [],
   "source": [
    "with open(\"text_append.txt\",\"a\") as file:\n",
    "    file.write(\"I am learning Python!\\n\")\n",
    "    file.write(\"I am really enjoying it!\\n\")\n",
    "    file.write(\"And I want to add more lines to say how much I like it\\n\")"
   ]
  },
  {
   "attachments": {},
   "cell_type": "markdown",
   "metadata": {},
   "source": [
    "If you want to add further lines to this file, you can simply open it up again in append mode and write to it:"
   ]
  },
  {
   "cell_type": "code",
   "execution_count": null,
   "metadata": {},
   "outputs": [],
   "source": [
    "with open(\"text_append.txt\",\"a\") as file:\n",
    "    file.write(\"This line will be appended at the end of the file\\n\")"
   ]
  },
  {
   "attachments": {},
   "cell_type": "markdown",
   "metadata": {},
   "source": [
    "#### Reading from a file\n",
    "There are different ways of reading from a file, the simplest one being this:"
   ]
  },
  {
   "cell_type": "code",
   "execution_count": null,
   "metadata": {},
   "outputs": [],
   "source": [
    "with open(\"text_write_lb.txt\",\"r\") as file:\n",
    "    print(file.read())"
   ]
  },
  {
   "attachments": {},
   "cell_type": "markdown",
   "metadata": {},
   "source": [
    "The readlines() method reads a file upfront, line-by-line, and stores its content in a list. This is my preferred way of working with (smaller) files due to its simplicity, but it can become problematic once text files become very big (as it reads all the content upfront -> might become time consuming or even run into memory errors)."
   ]
  },
  {
   "cell_type": "code",
   "execution_count": null,
   "metadata": {},
   "outputs": [],
   "source": [
    "with open(\"text_write_lb.txt\",\"r\") as file:\n",
    "    lines = file.readlines()\n",
    "    print(f\"lines: {lines}\\n\")\n",
    "    for line in lines:\n",
    "        print(line)"
   ]
  },
  {
   "attachments": {},
   "cell_type": "markdown",
   "metadata": {},
   "source": [
    "Similar to the previous example, but in this case the content of the file isn't \"cached\" in a list but only read from the file once needed. This offers advantages when it comes to big files, but the syntax is a little less convenient:"
   ]
  },
  {
   "cell_type": "code",
   "execution_count": null,
   "metadata": {},
   "outputs": [],
   "source": [
    "with open(\"text_write_lb.txt\",\"r\") as file:\n",
    "    l = file.readline()\n",
    "    while l:\n",
    "        print(l)\n",
    "        l = file.readline()"
   ]
  },
  {
   "attachments": {},
   "cell_type": "markdown",
   "metadata": {},
   "source": [
    "### Tasks"
   ]
  },
  {
   "attachments": {},
   "cell_type": "markdown",
   "metadata": {},
   "source": [
    "#### 4.1\n",
    "Write code that generates four arbitrarily named files containing the suffix \".pdf\" as well as two arbitrarily names files with a random/without a suffix in the \"testfolder\" subdirectory. Additionally add two directories with names of your choice to the same directory (\"testfolder\"), at least one of those subdirectories should end with the suffix \".pdf\"."
   ]
  },
  {
   "cell_type": "code",
   "execution_count": null,
   "metadata": {},
   "outputs": [],
   "source": [
    "### Your code here"
   ]
  },
  {
   "attachments": {},
   "cell_type": "markdown",
   "metadata": {},
   "source": [
    "#### 4.2\n",
    "Write a list comprehension that puts all contents of the \"testfolder\" directory into a list."
   ]
  },
  {
   "cell_type": "code",
   "execution_count": null,
   "metadata": {},
   "outputs": [],
   "source": [
    "### Your code here"
   ]
  },
  {
   "attachments": {},
   "cell_type": "markdown",
   "metadata": {},
   "source": [
    "#### 4.3\n",
    "Now write two more list comprehensions, but this time use conditional statements to make sure that one list only contains actual files while the other only contains the folders from \"testfolder\". "
   ]
  },
  {
   "cell_type": "code",
   "execution_count": null,
   "metadata": {},
   "outputs": [],
   "source": [
    "### Your code here"
   ]
  },
  {
   "attachments": {},
   "cell_type": "markdown",
   "metadata": {},
   "source": [
    "#### 4.4\n",
    "Use list comprehensions again to only add files (not folders) containing the \".pdf\" extension to the resulting list."
   ]
  },
  {
   "cell_type": "code",
   "execution_count": null,
   "metadata": {},
   "outputs": [],
   "source": [
    "### Your code here"
   ]
  },
  {
   "attachments": {},
   "cell_type": "markdown",
   "metadata": {},
   "source": [
    "#### 4.5\n",
    "Create a folder named \"writelines\" which contains a file named \"text_45.txt\" and write five random lines of text to it, then close the file. Afterwards read from it, change the content of the third line and write it back to the stored file."
   ]
  },
  {
   "cell_type": "code",
   "execution_count": null,
   "metadata": {},
   "outputs": [],
   "source": [
    "### Your code here"
   ]
  },
  {
   "attachments": {},
   "cell_type": "markdown",
   "metadata": {},
   "source": [
    "#### 4.6\n",
    "Create a file named \"text_46.txt\" in the folder \"writelines\" and write the numbers from 1 to 10 (including 10) to it, each in its own line. Then open this file for reading, sum up all the values and afterwards append the result to it."
   ]
  },
  {
   "cell_type": "code",
   "execution_count": null,
   "metadata": {},
   "outputs": [],
   "source": [
    "### Your code here"
   ]
  }
 ],
 "metadata": {
  "kernelspec": {
   "display_name": "airflow",
   "language": "python",
   "name": "python3"
  },
  "language_info": {
   "codemirror_mode": {
    "name": "ipython",
    "version": 3
   },
   "file_extension": ".py",
   "mimetype": "text/x-python",
   "name": "python",
   "nbconvert_exporter": "python",
   "pygments_lexer": "ipython3",
   "version": "3.10.4"
  },
  "orig_nbformat": 4
 },
 "nbformat": 4,
 "nbformat_minor": 2
}
