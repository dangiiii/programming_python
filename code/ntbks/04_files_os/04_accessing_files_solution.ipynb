{
 "cells": [
  {
   "attachments": {},
   "cell_type": "markdown",
   "metadata": {},
   "source": [
    "## 4 Accessing files and OS-functionality in python\n",
    "\n",
    "Navigating the file system and loading, reading and writing to and from files is an important aspect of working with data. That's why we will take a closer look at some of the functionalities provided by python to deal with this."
   ]
  },
  {
   "attachments": {},
   "cell_type": "markdown",
   "metadata": {},
   "source": [
    "### Accessing the OS-specific file system\n",
    "Whenever you want to access directories, navigate around the filesystem or create files it is usually a good idea to use the \"os\" package which comes with python by default. You just need to import it like this:"
   ]
  },
  {
   "cell_type": "code",
   "execution_count": 35,
   "metadata": {},
   "outputs": [],
   "source": [
    "import os"
   ]
  },
  {
   "attachments": {},
   "cell_type": "markdown",
   "metadata": {},
   "source": [
    "Get current working directory:"
   ]
  },
  {
   "cell_type": "code",
   "execution_count": 36,
   "metadata": {},
   "outputs": [
    {
     "name": "stdout",
     "output_type": "stream",
     "text": [
      "os.cwd(): /media/dan/1407183E63647361/Sciebo/WHK/Exercises/Python/programming_python/code/ntbks/04_files_os\n"
     ]
    }
   ],
   "source": [
    "print(f\"os.cwd(): {os.getcwd()}\")"
   ]
  },
  {
   "attachments": {},
   "cell_type": "markdown",
   "metadata": {},
   "source": [
    "Differing operation systems usually address folders and files differently. While you use \"\\\\\" in Windows to separate different folder levels (e.g. \"C:\\Windows\\system32\"), Linux and macOS use \"/\". These separators can lead to compatibility issues when being hardcoded. Luckily the os package offers solutions to this:"
   ]
  },
  {
   "cell_type": "code",
   "execution_count": 37,
   "metadata": {},
   "outputs": [
    {
     "name": "stdout",
     "output_type": "stream",
     "text": [
      "Seperator used in your current OS: /\n",
      "os.sep.join(): Path/to/folder\n",
      "win_path with extension: C:\\Windows\\system32/path_extension\n",
      "linux_path with extension: /home/myprofile/testdata/path_extension\n"
     ]
    }
   ],
   "source": [
    "print(f\"Seperator used in your current OS: {os.sep}\")\n",
    "\n",
    "l = [\"Path\",\"to\",\"folder\"]\n",
    "print(f\"os.sep.join(): {os.sep.join(l)}\")\n",
    "\n",
    "path_win = \"C:\\Windows\\system32\"\n",
    "path_linux = \"/home/myprofile/testdata\"\n",
    "path_extension = \"path_extension\"\n",
    "\n",
    "print(f\"win_path with extension: {os.path.join(path_win,path_extension)}\")\n",
    "print(f\"linux_path with extension: {os.path.join(path_linux,path_extension)}\")"
   ]
  },
  {
   "attachments": {},
   "cell_type": "markdown",
   "metadata": {},
   "source": [
    "There are also functions that help you evaluate whether or not some path exists as well as if it leads to a file or a folder."
   ]
  },
  {
   "cell_type": "code",
   "execution_count": 70,
   "metadata": {},
   "outputs": [
    {
     "name": "stdout",
     "output_type": "stream",
     "text": [
      "Does C:\\Windows\\system32/path_extension exist? False\n",
      "Does /media/dan/1407183E63647361/Sciebo/WHK/Exercises/Python/programming_python/code/ntbks/04_files_os/testfolder exist? True\n",
      "Does /media/dan/1407183E63647361/Sciebo/WHK/Exercises/Python/programming_python/code/ntbks/04_files_os/04_accessing_files.ipynb exist? True\n"
     ]
    }
   ],
   "source": [
    "print(f\"Does {os.path.join(path_win,path_extension)} exist? {os.path.exists(os.path.join(path_win,path_extension))}\")\n",
    "\n",
    "testfolder_path = os.path.join(os.getcwd(),'testfolder')\n",
    "testfile_path = os.path.join(os.getcwd(),\"04_accessing_files.ipynb\")\n",
    "\n",
    "print(f\"Does {testfolder_path} exist? {os.path.exists(testfolder_path)}\")\n",
    "print(f\"Does {testfile_path} exist? {os.path.exists(testfile_path)}\")"
   ]
  },
  {
   "cell_type": "code",
   "execution_count": 39,
   "metadata": {},
   "outputs": [
    {
     "name": "stdout",
     "output_type": "stream",
     "text": [
      "Is /media/dan/1407183E63647361/Sciebo/WHK/Exercises/Python/programming_python/code/ntbks/04_files_os/testfolder a file? False\n",
      "Is /media/dan/1407183E63647361/Sciebo/WHK/Exercises/Python/programming_python/code/ntbks/04_files_os/testfolder a directory? True\n",
      "Is /media/dan/1407183E63647361/Sciebo/WHK/Exercises/Python/programming_python/code/ntbks/04_files_os/testfile.pdf a file? False\n",
      "Is /media/dan/1407183E63647361/Sciebo/WHK/Exercises/Python/programming_python/code/ntbks/04_files_os/testfile.pdf a directory? False\n"
     ]
    }
   ],
   "source": [
    "print(f\"Is {testfolder_path} a file? {os.path.isfile(testfolder_path)}\")\n",
    "print(f\"Is {testfolder_path} a directory? {os.path.isdir(testfolder_path)}\")\n",
    "\n",
    "print(f\"Is {testfile_path} a file? {os.path.isfile(testfile_path)}\")\n",
    "print(f\"Is {testfile_path} a directory? {os.path.isdir(testfile_path)}\")"
   ]
  },
  {
   "attachments": {},
   "cell_type": "markdown",
   "metadata": {},
   "source": [
    "#### Creating files and directories"
   ]
  },
  {
   "attachments": {},
   "cell_type": "markdown",
   "metadata": {},
   "source": [
    "You can also use the OS package to create a new directory directly from your python script."
   ]
  },
  {
   "cell_type": "code",
   "execution_count": 40,
   "metadata": {},
   "outputs": [
    {
     "ename": "FileExistsError",
     "evalue": "[Errno 17] File exists: '/media/dan/1407183E63647361/Sciebo/WHK/Exercises/Python/programming_python/code/ntbks/04_files_os/testfolder'",
     "output_type": "error",
     "traceback": [
      "\u001b[0;31m---------------------------------------------------------------------------\u001b[0m",
      "\u001b[0;31mFileExistsError\u001b[0m                           Traceback (most recent call last)",
      "\u001b[0;32m/tmp/ipykernel_10082/2302911052.py\u001b[0m in \u001b[0;36m<module>\u001b[0;34m\u001b[0m\n\u001b[0;32m----> 1\u001b[0;31m \u001b[0mos\u001b[0m\u001b[0;34m.\u001b[0m\u001b[0mmkdir\u001b[0m\u001b[0;34m(\u001b[0m\u001b[0mtestfolder_path\u001b[0m\u001b[0;34m)\u001b[0m\u001b[0;34m\u001b[0m\u001b[0;34m\u001b[0m\u001b[0m\n\u001b[0m",
      "\u001b[0;31mFileExistsError\u001b[0m: [Errno 17] File exists: '/media/dan/1407183E63647361/Sciebo/WHK/Exercises/Python/programming_python/code/ntbks/04_files_os/testfolder'"
     ]
    }
   ],
   "source": [
    "os.mkdir(testfolder_path)"
   ]
  },
  {
   "attachments": {},
   "cell_type": "markdown",
   "metadata": {},
   "source": [
    "Trying to blindly create files or folders can lead to errors as seen above where the folder already exists. A better way of doing this is to check whether or not a file or folder already exists: "
   ]
  },
  {
   "cell_type": "code",
   "execution_count": 41,
   "metadata": {},
   "outputs": [
    {
     "name": "stdout",
     "output_type": "stream",
     "text": [
      "Path already exists. Not creating new directory.\n",
      "Created folder /media/dan/1407183E63647361/Sciebo/WHK/Exercises/Python/programming_python/code/ntbks/04_files_os/new_folder\n"
     ]
    }
   ],
   "source": [
    "if not os.path.exists(testfolder_path):\n",
    "    os.mkdir(testfolder_path)\n",
    "else:\n",
    "    print(\"Path already exists. Not creating new directory.\")\n",
    "    \n",
    "if not os.path.exists(testfile_path):\n",
    "    os.mkdir(testfile_path)\n",
    "else:\n",
    "    print(\"Path already exists. Not creating new file.\")\n",
    "    \n",
    "new_folder = os.path.join(os.getcwd(),\"new_folder\")\n",
    "\n",
    "if not os.path.exists(new_folder):\n",
    "    os.mkdir(new_folder)\n",
    "    print(f\"Created folder {new_folder}\")\n",
    "else:\n",
    "    print(\"Path already exists. Not creating new file.\")"
   ]
  },
  {
   "attachments": {},
   "cell_type": "markdown",
   "metadata": {},
   "source": [
    "You can use os.mknod() to create a new file. This will work on Windows and Linux but may fail on macOS:"
   ]
  },
  {
   "cell_type": "code",
   "execution_count": 42,
   "metadata": {},
   "outputs": [
    {
     "name": "stdout",
     "output_type": "stream",
     "text": [
      "Created file /media/dan/1407183E63647361/Sciebo/WHK/Exercises/Python/programming_python/code/ntbks/04_files_os/new_file.pdf\n"
     ]
    }
   ],
   "source": [
    "new_file = os.path.join(os.getcwd(),\"new_file.pdf\")\n",
    "\n",
    "if not os.path.exists(new_file):\n",
    "    os.mknod(new_file)\n",
    "    print(f\"Created file {new_file}\")\n",
    "else:\n",
    "    print(\"Path already exists. Not creating new file.\")"
   ]
  },
  {
   "attachments": {},
   "cell_type": "markdown",
   "metadata": {},
   "source": [
    "#### Deleting files and directories\n",
    "Files and directories can also be deleted. There are different options which are explained in more detail https://stackoverflow.com/questions/6996603/how-can-i-delete-a-file-or-folder-in-python#6996628 . Deleting files and folders via the os package can be performed in the following way:"
   ]
  },
  {
   "cell_type": "code",
   "execution_count": 43,
   "metadata": {},
   "outputs": [
    {
     "ename": "FileNotFoundError",
     "evalue": "[Errno 2] No such file or directory: '/media/dan/1407183E63647361/Sciebo/WHK/Exercises/Python/programming_python/code/ntbks/04_files_os/new_file2.pdf'",
     "output_type": "error",
     "traceback": [
      "\u001b[0;31m---------------------------------------------------------------------------\u001b[0m",
      "\u001b[0;31mFileNotFoundError\u001b[0m                         Traceback (most recent call last)",
      "\u001b[0;32m/tmp/ipykernel_10082/736709713.py\u001b[0m in \u001b[0;36m<module>\u001b[0;34m\u001b[0m\n\u001b[1;32m      1\u001b[0m \u001b[0mnew_file2\u001b[0m \u001b[0;34m=\u001b[0m \u001b[0mos\u001b[0m\u001b[0;34m.\u001b[0m\u001b[0mpath\u001b[0m\u001b[0;34m.\u001b[0m\u001b[0mjoin\u001b[0m\u001b[0;34m(\u001b[0m\u001b[0mos\u001b[0m\u001b[0;34m.\u001b[0m\u001b[0mgetcwd\u001b[0m\u001b[0;34m(\u001b[0m\u001b[0;34m)\u001b[0m\u001b[0;34m,\u001b[0m\u001b[0;34m\"new_file2.pdf\"\u001b[0m\u001b[0;34m)\u001b[0m\u001b[0;34m\u001b[0m\u001b[0;34m\u001b[0m\u001b[0m\n\u001b[1;32m      2\u001b[0m \u001b[0;34m\u001b[0m\u001b[0m\n\u001b[0;32m----> 3\u001b[0;31m \u001b[0mos\u001b[0m\u001b[0;34m.\u001b[0m\u001b[0mremove\u001b[0m\u001b[0;34m(\u001b[0m\u001b[0mnew_file2\u001b[0m\u001b[0;34m)\u001b[0m\u001b[0;34m\u001b[0m\u001b[0;34m\u001b[0m\u001b[0m\n\u001b[0m",
      "\u001b[0;31mFileNotFoundError\u001b[0m: [Errno 2] No such file or directory: '/media/dan/1407183E63647361/Sciebo/WHK/Exercises/Python/programming_python/code/ntbks/04_files_os/new_file2.pdf'"
     ]
    }
   ],
   "source": [
    "new_file2 = os.path.join(os.getcwd(),\"new_file2.pdf\")\n",
    "\n",
    "os.remove(new_file2)"
   ]
  },
  {
   "attachments": {},
   "cell_type": "markdown",
   "metadata": {},
   "source": [
    "Trying to remove a file or folder that does not exist will lead to a \"FileNotFoundError\" and crash your program. Thus you should always check if the path exists, just like in the examples shown to create things. A better way of deleting file(s) would be:"
   ]
  },
  {
   "cell_type": "code",
   "execution_count": 50,
   "metadata": {},
   "outputs": [
    {
     "name": "stdout",
     "output_type": "stream",
     "text": [
      "File '/media/dan/1407183E63647361/Sciebo/WHK/Exercises/Python/programming_python/code/ntbks/04_files_os/new_file.pdf' does not exist.\n"
     ]
    }
   ],
   "source": [
    "if os.path.exists(new_file):\n",
    "    os.remove(new_file)\n",
    "    print(f\"Deleted file {new_file}\")\n",
    "else:\n",
    "    print(f\"File '{new_file}' does not exist.\")"
   ]
  },
  {
   "attachments": {},
   "cell_type": "markdown",
   "metadata": {},
   "source": [
    "Empty directories can be deleted in a similar fashion when using the os package:"
   ]
  },
  {
   "cell_type": "code",
   "execution_count": 45,
   "metadata": {},
   "outputs": [
    {
     "name": "stdout",
     "output_type": "stream",
     "text": [
      "Deleted directory /media/dan/1407183E63647361/Sciebo/WHK/Exercises/Python/programming_python/code/ntbks/04_files_os/new_folder\n"
     ]
    }
   ],
   "source": [
    "if os.path.exists(new_folder):\n",
    "    os.rmdir(new_folder)\n",
    "    print(f\"Deleted directory {new_folder}\")\n",
    "else:\n",
    "    print(f\"Directory '{new_folder}' does not exist.\")"
   ]
  },
  {
   "attachments": {},
   "cell_type": "markdown",
   "metadata": {},
   "source": [
    "os.rmdir only works if the folder you want to delete is empty, that means does not contain any files or subfolders, as can be seen in the following example which will run into an error:"
   ]
  },
  {
   "cell_type": "code",
   "execution_count": 46,
   "metadata": {},
   "outputs": [
    {
     "name": "stdout",
     "output_type": "stream",
     "text": [
      "Created folder /media/dan/1407183E63647361/Sciebo/WHK/Exercises/Python/programming_python/code/ntbks/04_files_os/new_folder\n",
      "Created file /media/dan/1407183E63647361/Sciebo/WHK/Exercises/Python/programming_python/code/ntbks/04_files_os/new_folder/new_folder_file\n"
     ]
    },
    {
     "ename": "OSError",
     "evalue": "[Errno 39] Directory not empty: '/media/dan/1407183E63647361/Sciebo/WHK/Exercises/Python/programming_python/code/ntbks/04_files_os/new_folder'",
     "output_type": "error",
     "traceback": [
      "\u001b[0;31m---------------------------------------------------------------------------\u001b[0m",
      "\u001b[0;31mOSError\u001b[0m                                   Traceback (most recent call last)",
      "\u001b[0;32m/tmp/ipykernel_10082/4287025295.py\u001b[0m in \u001b[0;36m<module>\u001b[0;34m\u001b[0m\n\u001b[1;32m     14\u001b[0m \u001b[0;34m\u001b[0m\u001b[0m\n\u001b[1;32m     15\u001b[0m \u001b[0;32mif\u001b[0m \u001b[0mos\u001b[0m\u001b[0;34m.\u001b[0m\u001b[0mpath\u001b[0m\u001b[0;34m.\u001b[0m\u001b[0mexists\u001b[0m\u001b[0;34m(\u001b[0m\u001b[0mnew_folder\u001b[0m\u001b[0;34m)\u001b[0m\u001b[0;34m:\u001b[0m\u001b[0;34m\u001b[0m\u001b[0;34m\u001b[0m\u001b[0m\n\u001b[0;32m---> 16\u001b[0;31m     \u001b[0mos\u001b[0m\u001b[0;34m.\u001b[0m\u001b[0mrmdir\u001b[0m\u001b[0;34m(\u001b[0m\u001b[0mnew_folder\u001b[0m\u001b[0;34m)\u001b[0m\u001b[0;34m\u001b[0m\u001b[0;34m\u001b[0m\u001b[0m\n\u001b[0m\u001b[1;32m     17\u001b[0m     \u001b[0mprint\u001b[0m\u001b[0;34m(\u001b[0m\u001b[0;34mf\"Deleted directory {new_folder}\"\u001b[0m\u001b[0;34m)\u001b[0m\u001b[0;34m\u001b[0m\u001b[0;34m\u001b[0m\u001b[0m\n\u001b[1;32m     18\u001b[0m \u001b[0;32melse\u001b[0m\u001b[0;34m:\u001b[0m\u001b[0;34m\u001b[0m\u001b[0;34m\u001b[0m\u001b[0m\n",
      "\u001b[0;31mOSError\u001b[0m: [Errno 39] Directory not empty: '/media/dan/1407183E63647361/Sciebo/WHK/Exercises/Python/programming_python/code/ntbks/04_files_os/new_folder'"
     ]
    }
   ],
   "source": [
    "if not os.path.exists(new_folder):\n",
    "    os.mkdir(new_folder)\n",
    "    print(f\"Created folder {new_folder}\")\n",
    "else:\n",
    "    print(\"Path already exists. Not creating new file.\")\n",
    "    \n",
    "new_folder_file = os.path.join(new_folder,\"new_folder_file\")\n",
    "\n",
    "if not os.path.exists(new_folder_file):\n",
    "    os.mknod(new_folder_file)\n",
    "    print(f\"Created file {new_folder_file}\")\n",
    "else:\n",
    "    print(\"Path already exists. Not creating new file.\")\n",
    "    \n",
    "if os.path.exists(new_folder):\n",
    "    os.rmdir(new_folder)\n",
    "    print(f\"Deleted directory {new_folder}\")\n",
    "else:\n",
    "    print(f\"Directory '{new_folder}' does not exist.\")"
   ]
  },
  {
   "attachments": {},
   "cell_type": "markdown",
   "metadata": {},
   "source": [
    "One way to circumvent this problem is to manually delete everything in that folder and then falling back on the os package. An easier way in this case is to utilize the \"shutil\" package which also comes directly with python:"
   ]
  },
  {
   "cell_type": "code",
   "execution_count": 47,
   "metadata": {},
   "outputs": [
    {
     "name": "stdout",
     "output_type": "stream",
     "text": [
      "Deleted directory /media/dan/1407183E63647361/Sciebo/WHK/Exercises/Python/programming_python/code/ntbks/04_files_os/new_folder\n"
     ]
    }
   ],
   "source": [
    "import shutil\n",
    "\n",
    "if os.path.exists(new_folder):\n",
    "    shutil.rmtree(new_folder)\n",
    "    print(f\"Deleted directory {new_folder}\")\n",
    "else:\n",
    "    print(f\"Directory '{new_folder}' does not exist.\")"
   ]
  },
  {
   "attachments": {},
   "cell_type": "markdown",
   "metadata": {},
   "source": [
    "#### More useful commands"
   ]
  },
  {
   "attachments": {},
   "cell_type": "markdown",
   "metadata": {},
   "source": [
    "List all files and subdirs in a folder:"
   ]
  },
  {
   "cell_type": "code",
   "execution_count": 48,
   "metadata": {},
   "outputs": [
    {
     "name": "stdout",
     "output_type": "stream",
     "text": [
      "list of files/folders in directory: ['04_accessing_files.ipynb', '04_accessing_files_solution.ipynb', 'testfile.pdf', 'testfolder', 'testfolder.pdf']\n"
     ]
    }
   ],
   "source": [
    "dir_list = os.listdir(os.getcwd())\n",
    "print(f\"list of files/folders in directory: {dir_list}\")"
   ]
  },
  {
   "attachments": {},
   "cell_type": "markdown",
   "metadata": {},
   "source": [
    "Get size (in bytes) for a specific file or folder:"
   ]
  },
  {
   "cell_type": "code",
   "execution_count": 52,
   "metadata": {},
   "outputs": [
    {
     "name": "stdout",
     "output_type": "stream",
     "text": [
      "Size of '04_accessing_files.ipynb': 20618 bytes\n",
      "Size of '/media/dan/1407183E63647361/Sciebo/WHK/Exercises/Python/programming_python/code/ntbks/04_files_os/testfolder': 4096 bytes\n"
     ]
    }
   ],
   "source": [
    "file = \"04_accessing_files.ipynb\"\n",
    "\n",
    "print(f\"Size of '{file}': {os.path.getsize(file)} bytes\")\n",
    "print(f\"Size of '{testfolder_path}': {os.path.getsize(testfolder_path)} bytes\")"
   ]
  },
  {
   "attachments": {},
   "cell_type": "markdown",
   "metadata": {},
   "source": [
    "### Reading and Writing files\n",
    "Now that you have learned how to use the os package to navigate around the file system and get the path of certain files or folders, it's time to take a look at how to work with some of the types of files you might encounter. We will focus on reading and writing from and to text files in this notebook, more examples of handling different types of files (like images or dataframes) will be shown in upcoming notebooks.<br>\n",
    "<table style=\"width:50%\" align=\"left\">\n",
    "  <tr>\n",
    "    <th>Mode</th>\n",
    "    <th>Parameter</th>\n",
    "    <th>Description</th>\n",
    "  </tr>\n",
    "  <tr>\n",
    "    <td>write</td>\n",
    "    <td>w </td>\n",
    "    <td>Creates and writes to file if it does not exist yet. Otherwise opens existing file and <i><b>overwrites</b></i> any of the content in it. You can not read the content of the file while in this mode (\"UnsupportedOperation: not readable\").</td>\n",
    "  </tr>\n",
    "   <tr>\n",
    "    <td>read</td>\n",
    "    <td>r</td>\n",
    "    <td>Opens an <i><b>existing</b></i> file for reading -> Contents of file cannot be changed in this mode (\"UnsupportedOperation: not writable\").</td>\n",
    "  </tr>\n",
    "  <tr>\n",
    "    <td>append</td>\n",
    "    <td>a</td>\n",
    "    <td>Similar to 'write', but appends text to the end of a file instead of overwriting its previous content. You can not read the content of the file while in this mode (\"UnsupportedOperation: not readable\").</td>\n",
    "  </tr>\n",
    "</table>\n"
   ]
  },
  {
   "attachments": {},
   "cell_type": "markdown",
   "metadata": {},
   "source": [
    "#### Writing to a file\n",
    "Following are examples for the usage of the different modes. By using the \"with\" syntax you do not have to explicitly deal with closing the opened file as it automatically gets closed after the indended block ends:"
   ]
  },
  {
   "cell_type": "code",
   "execution_count": 53,
   "metadata": {},
   "outputs": [],
   "source": [
    "f = open(\"text_write_open.txt\",\"w\")\n",
    "\n",
    "f.write(\"Writing to files is oftentimes needed.\")\n",
    "f.write(\"Once you wrap your head around the different modes its not that complicated.\")\n",
    "f.write(\"You just have to try it out and get familiar with it.\")\n",
    "\n",
    "f.close()\n",
    "\n",
    "# this will achieve the same result, but you do not manually have to remember to close the file afterwards.\n",
    "with open(\"text_write.txt\",\"w\") as file:\n",
    "    file.write(\"Writing to files is oftentimes needed.\")\n",
    "    file.write(\"Once you wrap your head around the different modes its not that complicated.\")\n",
    "    file.write(\"You just have to try it out and get familiar with it.\")"
   ]
  },
  {
   "attachments": {},
   "cell_type": "markdown",
   "metadata": {},
   "source": [
    "Now go to your file explorer (or even easier, use your IDE) and open up the files you just created. Are there any differences between them? Is this the way you intended to insert the text?\n",
    "Run the next code snippet and compare the results:"
   ]
  },
  {
   "cell_type": "code",
   "execution_count": 54,
   "metadata": {},
   "outputs": [],
   "source": [
    "with open(\"text_write_lb.txt\",\"w\") as file:\n",
    "    file.write(\"Writing to files is oftentimes needed.\\n\")\n",
    "    file.write(\"Once you wrap your head around the different modes its not that complicated.\\n\")\n",
    "    file.write(\"You just have to try it out and get familiar with it.\\n\")"
   ]
  },
  {
   "attachments": {},
   "cell_type": "markdown",
   "metadata": {},
   "source": [
    "The same result can also be achieved like this, note that the variable name you use to access the file can of course be arbitrarily chosen:"
   ]
  },
  {
   "cell_type": "code",
   "execution_count": 55,
   "metadata": {},
   "outputs": [],
   "source": [
    "l = [\"Writing to files is oftentimes needed.\\n\",\"Once you wrap your head around the different modes its not that complicated.\\n\",\"You just have to try it out and get familiar with it.\\n\"]\n",
    "\n",
    "with open(\"text_writelines.txt\",\"w\") as random_variable_name:\n",
    "    random_variable_name.writelines(l)"
   ]
  },
  {
   "attachments": {},
   "cell_type": "markdown",
   "metadata": {},
   "source": [
    "It's easy to forget that the write() and writelines() methods <i><b>do not automatically add a linebreak</b></i> when used, so you have to manually add this to the text you want to insert (\\n)."
   ]
  },
  {
   "attachments": {},
   "cell_type": "markdown",
   "metadata": {},
   "source": [
    "#### Appending to a file"
   ]
  },
  {
   "cell_type": "code",
   "execution_count": 56,
   "metadata": {},
   "outputs": [],
   "source": [
    "with open(\"text_append.txt\",\"a\") as file:\n",
    "    file.write(\"I am learning Python!\\n\")\n",
    "    file.write(\"I am really enjoying it!\\n\")\n",
    "    file.write(\"And I want to add more lines to say how much I like it\\n\")"
   ]
  },
  {
   "attachments": {},
   "cell_type": "markdown",
   "metadata": {},
   "source": [
    "If you want to add further lines to this file, you can simply open it up again in append mode and write to it:"
   ]
  },
  {
   "cell_type": "code",
   "execution_count": 57,
   "metadata": {},
   "outputs": [],
   "source": [
    "with open(\"text_append.txt\",\"a\") as file:\n",
    "    file.write(\"This line will be appended at the end of the file\\n\")"
   ]
  },
  {
   "attachments": {},
   "cell_type": "markdown",
   "metadata": {},
   "source": [
    "#### Reading from a file\n",
    "There are different ways of reading from a file, the simplest one being this:"
   ]
  },
  {
   "cell_type": "code",
   "execution_count": 58,
   "metadata": {},
   "outputs": [
    {
     "name": "stdout",
     "output_type": "stream",
     "text": [
      "Writing to files is oftentimes needed.\n",
      "Once you wrap your head around the different modes its not that complicated.\n",
      "You just have to try it out and get familiar with it.\n",
      "\n"
     ]
    }
   ],
   "source": [
    "with open(\"text_write_lb.txt\",\"r\") as file:\n",
    "    print(file.read())"
   ]
  },
  {
   "attachments": {},
   "cell_type": "markdown",
   "metadata": {},
   "source": [
    "The readlines() method reads a file upfront, line-by-line, and stores its content in a list. This is my preferred way of working with (smaller) files due to its simplicity, but it can become problematic once text files become very big (as it reads all the content upfront -> might become time consuming or even run into memory errors)."
   ]
  },
  {
   "cell_type": "code",
   "execution_count": 59,
   "metadata": {},
   "outputs": [
    {
     "name": "stdout",
     "output_type": "stream",
     "text": [
      "lines: ['Writing to files is oftentimes needed.\\n', 'Once you wrap your head around the different modes its not that complicated.\\n', 'You just have to try it out and get familiar with it.\\n']\n",
      "\n",
      "Writing to files is oftentimes needed.\n",
      "\n",
      "Once you wrap your head around the different modes its not that complicated.\n",
      "\n",
      "You just have to try it out and get familiar with it.\n",
      "\n"
     ]
    }
   ],
   "source": [
    "with open(\"text_write_lb.txt\",\"r\") as file:\n",
    "    lines = file.readlines()\n",
    "    print(f\"lines: {lines}\\n\")\n",
    "    for line in lines:\n",
    "        print(line)"
   ]
  },
  {
   "attachments": {},
   "cell_type": "markdown",
   "metadata": {},
   "source": [
    "Similar to the previous example, but in this case the content of the file isn't \"cached\" in a list but only read from the file once needed. This offers advantages when it comes to big files, but the syntax is a little less convenient:"
   ]
  },
  {
   "cell_type": "code",
   "execution_count": 60,
   "metadata": {},
   "outputs": [
    {
     "name": "stdout",
     "output_type": "stream",
     "text": [
      "Writing to files is oftentimes needed.\n",
      "\n",
      "Once you wrap your head around the different modes its not that complicated.\n",
      "\n",
      "You just have to try it out and get familiar with it.\n",
      "\n"
     ]
    }
   ],
   "source": [
    "with open(\"text_write_lb.txt\",\"r\") as file:\n",
    "    l = file.readline()\n",
    "    while l:\n",
    "        print(l)\n",
    "        l = file.readline()"
   ]
  },
  {
   "attachments": {},
   "cell_type": "markdown",
   "metadata": {},
   "source": [
    "### Tasks"
   ]
  },
  {
   "attachments": {},
   "cell_type": "markdown",
   "metadata": {},
   "source": [
    "#### 4.1\n",
    "Write code that generates four arbitrarily named files containing the suffix \".pdf\" as well as two arbitrarily names files with a random/without a suffix in the \"testfolder\" subdirectory. Additionally add two directories with names of your choice to the same directory (\"testfolder\"), at least one of those subdirectories should end with the suffix \".pdf\"."
   ]
  },
  {
   "cell_type": "code",
   "execution_count": 61,
   "metadata": {},
   "outputs": [],
   "source": [
    "file_names = [\"411.pdf\",\"412.pdf\",\"413.pdf\",\"414.pdf\",\"415.bla\",\"416.blub\"]\n",
    "subdir_names = [\"sub411\",\"sub412.pdf\"]\n",
    "\n",
    "for file_name in file_names:\n",
    "    path = os.path.join(\"testfolder\",file_name)\n",
    "    if not os.path.exists(path):\n",
    "        os.mknod(path)\n",
    "    else:\n",
    "        print(f\"Path '{path}' already exists.\")\n",
    "        \n",
    "for subdir_name in subdir_names:\n",
    "    path = os.path.join(\"testfolder\",subdir_name)\n",
    "    if not os.path.exists(path):\n",
    "        os.mkdir(path)\n",
    "    else:\n",
    "        print(f\"Path '{path}' already exists.\")"
   ]
  },
  {
   "attachments": {},
   "cell_type": "markdown",
   "metadata": {},
   "source": [
    "#### 4.2\n",
    "Write a list comprehension that puts all contents of the \"testfolder\" directory into a list."
   ]
  },
  {
   "cell_type": "code",
   "execution_count": 63,
   "metadata": {},
   "outputs": [
    {
     "name": "stdout",
     "output_type": "stream",
     "text": [
      "['411.pdf', '412.pdf', '413.pdf', '414.pdf', '415.bla', '416.blub', 'sub411', 'sub412.pdf']\n"
     ]
    }
   ],
   "source": [
    "l = [el for el in os.listdir(os.path.join(\"testfolder\"))]\n",
    "\n",
    "print(l)"
   ]
  },
  {
   "attachments": {},
   "cell_type": "markdown",
   "metadata": {},
   "source": [
    "#### 4.3\n",
    "Now write two more list comprehensions, but this time use conditional statements to make sure that one list only contains actual files while the other only contains the folders from \"testfolder\". "
   ]
  },
  {
   "cell_type": "code",
   "execution_count": 64,
   "metadata": {},
   "outputs": [
    {
     "name": "stdout",
     "output_type": "stream",
     "text": [
      "files: ['411.pdf', '412.pdf', '413.pdf', '414.pdf', '415.bla', '416.blub']\n",
      "dirs: ['sub411', 'sub412.pdf']\n"
     ]
    }
   ],
   "source": [
    "files = [el for el in os.listdir(\"testfolder\") if os.path.isfile(os.path.join(\"testfolder\",el))]\n",
    "subdirs = [el for el in os.listdir(\"testfolder\") if os.path.isdir(os.path.join(\"testfolder\",el))]\n",
    "\n",
    "print(f\"files: {files}\")\n",
    "print(f\"dirs: {subdirs}\")"
   ]
  },
  {
   "attachments": {},
   "cell_type": "markdown",
   "metadata": {},
   "source": [
    "#### 4.4\n",
    "Use list comprehensions again to only add files (not folders) containing the \".pdf\" extension to the resulting list."
   ]
  },
  {
   "cell_type": "code",
   "execution_count": 65,
   "metadata": {},
   "outputs": [
    {
     "name": "stdout",
     "output_type": "stream",
     "text": [
      "pdfs: ['411.pdf', '412.pdf', '413.pdf', '414.pdf']\n"
     ]
    }
   ],
   "source": [
    "pdfs = [el for el in os.listdir(\"testfolder\") if (os.path.isfile(os.path.join(\"testfolder\",el)) and el[-4:] == \".pdf\")]\n",
    "\n",
    "print(f\"pdfs: {pdfs}\")"
   ]
  },
  {
   "attachments": {},
   "cell_type": "markdown",
   "metadata": {},
   "source": [
    "#### 4.5\n",
    "Create and write five random lines of text to a file named \"text_45.txt\", then close the file. Afterwards read from it, change the content of the third line and write it back to the stored file."
   ]
  },
  {
   "cell_type": "code",
   "execution_count": 66,
   "metadata": {},
   "outputs": [],
   "source": [
    "lines = [\"hi\\n\",\"there\\n\",\"these\\n\",\"are\\n\",\"textlines\\n\"]\n",
    "\n",
    "with open(\"text_45.txt\",\"w\") as f:\n",
    "    f.writelines(lines)"
   ]
  },
  {
   "cell_type": "code",
   "execution_count": 67,
   "metadata": {},
   "outputs": [],
   "source": [
    "with open(\"text_45.txt\") as f:\n",
    "    l = f.readlines()\n",
    "    \n",
    "with open(\"text_45.txt\",\"w\") as f:\n",
    "    l[2] = \"changed text\\n\"\n",
    "    f.writelines(l)"
   ]
  },
  {
   "attachments": {},
   "cell_type": "markdown",
   "metadata": {},
   "source": [
    "#### 4.6\n",
    "Create a file named \"text_46.txt\" and write the numbers from 1 to 10 (including 10) to it, each in its own line. Then open this file for reading, sum up all the values and afterwards append the result to it."
   ]
  },
  {
   "cell_type": "code",
   "execution_count": 68,
   "metadata": {},
   "outputs": [],
   "source": [
    "with open(\"text_46.txt\",\"w\") as f:\n",
    "    for i in range(1,11):\n",
    "        f.write(f\"{i}\\n\")\n",
    "        \n",
    "with open(\"text_46.txt\") as f:\n",
    "    l = f.readlines()\n",
    "    l = [int(el) for el in l]\n",
    "    s = sum(l)\n",
    "\n",
    "with open(\"text_46.txt\",\"a\") as f:\n",
    "    f.write(f\"sum: {str(s)}\")"
   ]
  }
 ],
 "metadata": {
  "kernelspec": {
   "display_name": "airflow",
   "language": "python",
   "name": "python3"
  },
  "language_info": {
   "codemirror_mode": {
    "name": "ipython",
    "version": 3
   },
   "file_extension": ".py",
   "mimetype": "text/x-python",
   "name": "python",
   "nbconvert_exporter": "python",
   "pygments_lexer": "ipython3",
   "version": "3.10.4"
  },
  "orig_nbformat": 4
 },
 "nbformat": 4,
 "nbformat_minor": 2
}
