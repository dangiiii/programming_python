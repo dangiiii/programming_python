{
 "cells": [
  {
   "cell_type": "markdown",
   "metadata": {},
   "source": [
    "## 2 Functions in python\n",
    "<br>\n",
    "Some observations about functions in Python: <br> "
   ]
  },
  {
   "cell_type": "markdown",
   "metadata": {},
   "source": [
    "- Syntax for function definitions: keyword __def__ followed by the function name and parentheses with a colon at the end\n",
    "- parameters / arguments need to be placed inside the parentheses\n",
    "- the code follows after the colon\n",
    "- __indentation__: the code block must be indented (1 tab space)\n",
    "- returning something is optional in Python; putting simply __return__ at the end is equivalent to __return None__"
   ]
  },
  {
   "cell_type": "markdown",
   "metadata": {},
   "source": [
    "## 2.1 Examples of functions in python\n",
    "Functions are the core of programming workflows in python. They comprise routines which are reused throughout your application and can contain variable declarations, statements or other routines. <br>\n",
    "A simple example would be a function containing just a print statement:"
   ]
  },
  {
   "cell_type": "code",
   "execution_count": null,
   "metadata": {},
   "outputs": [],
   "source": [
    "def printme(): \n",
    "    print('hard coded print')\n",
    "\n",
    "printme()# calling a function"
   ]
  },
  {
   "cell_type": "code",
   "execution_count": null,
   "metadata": {},
   "outputs": [],
   "source": [
    "def printme_custom(string): #same function name with a single parameter\n",
    "    print(string) \n",
    "\n",
    "printme_custom('not so hard coded anymore')"
   ]
  },
  {
   "attachments": {},
   "cell_type": "markdown",
   "metadata": {},
   "source": [
    "You can also chain function outputs together like this:"
   ]
  },
  {
   "cell_type": "code",
   "execution_count": null,
   "metadata": {},
   "outputs": [],
   "source": [
    "def polynomial(x, a, b, c, d): # for numerical python the convention is array then parameters\n",
    "    return a**3*x+b**2*x+c*x+d # a return statement can contain every possible python object. even multiple ones\n",
    "\n",
    "printme_custom(polynomial(1,2,3,4,5))"
   ]
  },
  {
   "cell_type": "markdown",
   "metadata": {},
   "source": [
    "## 2.1.1 Passing by reference\n",
    "In Python all arguments are passed by reference, meaning that values of variables outside the function are changed when referenced to inside the function. <br>\n",
    "An example:"
   ]
  },
  {
   "cell_type": "code",
   "execution_count": null,
   "metadata": {},
   "outputs": [],
   "source": [
    "mylist = [10, 50, 1000]\n",
    "\n",
    "def changesomething (var):\n",
    "    var[1] = 500"
   ]
  },
  {
   "cell_type": "code",
   "execution_count": null,
   "metadata": {},
   "outputs": [],
   "source": [
    "print(mylist)#print list before calling changesomething\n",
    "changesomething(mylist)\n",
    "print(mylist)#list after the function is called"
   ]
  },
  {
   "cell_type": "markdown",
   "metadata": {},
   "source": [
    "As visible, the value of the second element in the list was manipulated within the function and the effect is permanent."
   ]
  },
  {
   "cell_type": "markdown",
   "metadata": {},
   "source": [
    "## 2.1.2 Function arguments\n",
    "There are four types of function arguments:\n",
    "- Required arguments\n",
    "- Keyword arguments\n",
    "- Default arguments\n",
    "- Variable-length arguments\n",
    "\n",
    "Required arguments are the ones which must be passed (see function __changesomething__ above). <br>\n",
    "Let's see some examples as to what the other three indicate:"
   ]
  },
  {
   "cell_type": "markdown",
   "metadata": {},
   "source": [
    "__Keyword arguments__:"
   ]
  },
  {
   "cell_type": "code",
   "execution_count": null,
   "metadata": {},
   "outputs": [],
   "source": [
    "# Function definition with keyword args\n",
    "def printmore( name, age ):\n",
    "\n",
    "   print (\"Name: \", name)\n",
    "   print (\"Age \", age)\n",
    "   return\n",
    "\n",
    "# calling the function is allowed while reversing the order\n",
    "printmore( age = 23, name = \"Andreas\" )"
   ]
  },
  {
   "cell_type": "markdown",
   "metadata": {},
   "source": [
    "__Note__: The Python Interpreter associates each argument with its corresponding parameter by its name. The order therefore is irrelevant."
   ]
  },
  {
   "cell_type": "markdown",
   "metadata": {},
   "source": [
    "__Default arguments__:"
   ]
  },
  {
   "cell_type": "code",
   "execution_count": null,
   "metadata": {},
   "outputs": [],
   "source": [
    "# Function definition with default args\n",
    "def printmore_def_arg( name, age = 25 ):\n",
    "    print (\"Name: \", name)\n",
    "    print (\"Age \", age)\n",
    "    return\n",
    "\n",
    "printmore_def_arg('Mike') # if no argument is passed for age, the default argument is assumed"
   ]
  },
  {
   "cell_type": "markdown",
   "metadata": {},
   "source": [
    "__Variable-length arguments__:"
   ]
  },
  {
   "cell_type": "code",
   "execution_count": null,
   "metadata": {},
   "outputs": [],
   "source": [
    "# Function definition with a variable-length argument\n",
    "def printinfo( arg1, *vartuple ):\n",
    "    \n",
    "    print (\"\\ndef arg: \")\n",
    "    print (arg1)\n",
    "   \n",
    "    print ('var args: ')\n",
    "    for v in vartuple:\n",
    "        print (v)\n",
    "    return\n",
    "\n",
    "# Now you can call printinfo function\n",
    "printinfo( 1 )\n",
    "printinfo( 2, 3, 4 )"
   ]
  },
  {
   "cell_type": "markdown",
   "metadata": {},
   "source": [
    "## 2.1.3 Lambda functions | Anonymous functions\n",
    "\n",
    "Using the __lambda__ keyword we are able to define an anonymous function. Its primary purpose is that it allows quick definition of a function without using the __def__ keyword. Moreover:"
   ]
  },
  {
   "cell_type": "markdown",
   "metadata": {},
   "source": [
    "- They take any number of arguments, return just one value in the form of an expression\n",
    "\n",
    "- They cannot contain commands or multiple expressions\n",
    "\n",
    "- print() calls are not allowed, because lambda requires an expression\n",
    "\n",
    "- local namespace: variables other than those in their parameter list and those in the global namespace are not accessible\n",
    "\n",
    "Some examples:"
   ]
  },
  {
   "cell_type": "markdown",
   "metadata": {},
   "source": [
    "It uses the following syntax: \n",
    "\n",
    "lambda [arg1 [,arg2,.....argn]]:expression"
   ]
  },
  {
   "cell_type": "markdown",
   "metadata": {},
   "source": [
    "Some examples: "
   ]
  },
  {
   "cell_type": "code",
   "execution_count": null,
   "metadata": {},
   "outputs": [],
   "source": [
    "f = lambda: 'foo'\n",
    "print(f())"
   ]
  },
  {
   "cell_type": "code",
   "execution_count": null,
   "metadata": {},
   "outputs": [],
   "source": [
    "mult = lambda a1, a2: a1 * a2\n",
    "\n",
    "print (\"result : \", mult( 10, 3 ))\n",
    "print (\"result : \", mult( 10, 1.5 ))"
   ]
  },
  {
   "cell_type": "markdown",
   "metadata": {},
   "source": [
    "A typical application of lambda function is when you want to use functions such as __sorted()__:"
   ]
  },
  {
   "cell_type": "code",
   "execution_count": null,
   "metadata": {},
   "outputs": [],
   "source": [
    "list_tosort = ['We', 'want', 'to', 'sort', 'a', 'bit']\n",
    "sorted(list_tosort)"
   ]
  },
  {
   "attachments": {},
   "cell_type": "markdown",
   "metadata": {},
   "source": [
    "You can evidently see that uppercased words are sorted before lowercased words. <br>\n",
    "Using the key keyword, we can first lowercase each list element. Thus:"
   ]
  },
  {
   "cell_type": "code",
   "execution_count": null,
   "metadata": {},
   "outputs": [],
   "source": [
    "def tolowercase(elem): return elem.lower()\n",
    "\n",
    "tolowercase('Example')"
   ]
  },
  {
   "cell_type": "markdown",
   "metadata": {},
   "source": [
    "Combining this with the *key* keyword we can achieve the following:"
   ]
  },
  {
   "cell_type": "code",
   "execution_count": null,
   "metadata": {},
   "outputs": [],
   "source": [
    "sorted(list_tosort, key=tolowercase)"
   ]
  },
  {
   "cell_type": "markdown",
   "metadata": {},
   "source": [
    "All works as expected, the thing is, we needed to define a separate function for this. This is not a huge disadvantage, however maybe this special function is never used again and was generated only for this specific purpose. We can do better:"
   ]
  },
  {
   "cell_type": "code",
   "execution_count": null,
   "metadata": {},
   "outputs": [],
   "source": [
    "sorted(list_tosort, key = lambda elem: elem.lower())"
   ]
  },
  {
   "cell_type": "markdown",
   "metadata": {},
   "source": [
    "Much shorter! Lambda functions are limited to one expression only, which is the value returned."
   ]
  },
  {
   "cell_type": "markdown",
   "metadata": {},
   "source": [
    "## 2.1.4 Returning values"
   ]
  },
  {
   "cell_type": "code",
   "execution_count": null,
   "metadata": {},
   "outputs": [],
   "source": [
    "def add( arg1, arg2 ):\n",
    "    sum = arg1 + arg2\n",
    "    return sum\n",
    "\n",
    "ret = add( 10, 20 )\n",
    "print (\"result : \", ret )"
   ]
  },
  {
   "cell_type": "code",
   "execution_count": null,
   "metadata": {},
   "outputs": [],
   "source": [
    "def arithmetics( arg1, arg2 ):\n",
    "    sum = arg1 + arg2\n",
    "    sub = arg1 - arg2\n",
    "    return (sum, sub) # in this case, we return a tuple\n",
    "\n",
    "ret = arithmetics( 10, 20 )\n",
    "print (\"result : \", ret )"
   ]
  },
  {
   "cell_type": "markdown",
   "metadata": {},
   "source": [
    "Both of the following functions are equivalent:"
   ]
  },
  {
   "cell_type": "code",
   "execution_count": null,
   "metadata": {},
   "outputs": [],
   "source": [
    "def doNothing():\n",
    "    return\n",
    "\n",
    "def doNothing2():\n",
    "    return None\n",
    "\n",
    "print(f\"doNothing return value: {doNothing()}\")\n",
    "print(f\"doNothing2 return value: {doNothing2()}\")"
   ]
  },
  {
   "cell_type": "markdown",
   "metadata": {},
   "source": [
    "## 2.2 Global and local variable in Python"
   ]
  },
  {
   "attachments": {},
   "cell_type": "markdown",
   "metadata": {},
   "source": [
    "Variables defined within a function body are called *local variables*, the ones defined outside a function body are called *global variables*. This definition follows the same rules as you may know them from e.g. C/C++/Java etc. <br>\n",
    "A local variable can only be accessed within its function and therefore is only visible there -- local __scope__.\n",
    "Contrary, a global variable is also visible within a function body where you may also have local variables. Changing the value of a global var has a visible effect everywhere."
   ]
  },
  {
   "cell_type": "code",
   "execution_count": null,
   "metadata": {},
   "outputs": [],
   "source": [
    "global_list = []\n",
    "\n",
    "def someFunction():#we change the content of the globally visible list\n",
    "    global_list.append('this')\n",
    "    global_list.append('and')\n",
    "    global_list.append('that')\n",
    "  \n",
    "someFunction()\n",
    "\n",
    "print (global_list)"
   ]
  },
  {
   "cell_type": "code",
   "execution_count": null,
   "metadata": {},
   "outputs": [],
   "source": [
    "def parse_stuff_global():\n",
    "    global global_param\n",
    "    global_param = \"hello globe\"\n",
    "    \n",
    "def parse_stuff_local():\n",
    "    local_param = \"hello local\"\n",
    "\n",
    "def print_stuff():\n",
    "    print(f\"globally defined parameter value: '{global_param}'\")\n",
    "    # print(f\"globally defined parameter value: '{local_param}'\") ### leads to: NameError: name 'local_param' is not defined\n",
    "    \n",
    "parse_stuff_global()\n",
    "parse_stuff_local()\n",
    "print_stuff()"
   ]
  },
  {
   "cell_type": "markdown",
   "metadata": {},
   "source": [
    "## 2.3 Importing first packages and using them in a calculation"
   ]
  },
  {
   "cell_type": "code",
   "execution_count": null,
   "metadata": {},
   "outputs": [],
   "source": [
    "import numpy as np # imports numpy, a numerical python package, to use predefined objects for calculations"
   ]
  },
  {
   "cell_type": "code",
   "execution_count": null,
   "metadata": {},
   "outputs": [],
   "source": [
    "xx = np.linspace(0,9,20) # this creates an array of 20 numbers evenly (linearly) spaced between 0 and 9\n",
    "result = polynomial(xx, 1,1,1,1) # functions can operate on np.linspace objects\n",
    "\n",
    "print(result) # this is the result of the calculation"
   ]
  },
  {
   "cell_type": "markdown",
   "metadata": {},
   "source": [
    "## 2.3.1 Unpacking parameters"
   ]
  },
  {
   "cell_type": "code",
   "execution_count": null,
   "metadata": {
    "scrolled": true
   },
   "outputs": [],
   "source": [
    "params = {'a':1, 'b':1, 'c':1, 'd':1} # dictionary of parameters a list also works, but order is important when only passing a list\n",
    "params2 = {'a':1, 'd':1, 'c':1, 'b':1}\n",
    "res1 = polynomial(x=xx, **params) # this unpacks the values from the dictionary into the function call unpacking is a powerful tool\n",
    "res2 = polynomial(x=xx, **params2) # the order of the parameters inside is not important when passing a dictionary\n",
    "\n",
    "print(res1)\n",
    "print(res2)"
   ]
  },
  {
   "cell_type": "markdown",
   "metadata": {},
   "source": [
    "## 2.3.2 Recursive functions"
   ]
  },
  {
   "cell_type": "code",
   "execution_count": null,
   "metadata": {},
   "outputs": [],
   "source": [
    "# Recursive funtions can be used analogously to other programming languages\n",
    "\n",
    "def recur_fibo(n): # this function returns the nth element of the fibonacci sequence\n",
    "    if n <= 1:\n",
    "        return n\n",
    "    else:\n",
    "        return(recur_fibo(n-1) + recur_fibo(n-2))\n",
    "    \n",
    "el = 9 \n",
    "fib = recur_fibo(el)\n",
    "print(f\" {el}. element of fibonacci sequence: {fib}\")"
   ]
  },
  {
   "cell_type": "markdown",
   "metadata": {},
   "source": [
    "## Dynamic programming in Python\n",
    "The elements of a list are dynamically accessible while python interprets the code. This can be used to append to lists and manipulate values.\n",
    "### Task 2.2.1\n",
    "write a function that creates a list of the Fibonacci numbers up to n"
   ]
  },
  {
   "cell_type": "code",
   "execution_count": null,
   "metadata": {},
   "outputs": [],
   "source": [
    "# This is dynamic programming (commonly used in python)\n",
    "def list_fib(n):\n",
    "    result = [0, 1]\n",
    "    if n==1:\n",
    "        return [0]\n",
    "    if n==2:\n",
    "        return result\n",
    "    else:\n",
    "        for i in range(2,n): # starting from 2 since the first 2 numbers have to be seeded\n",
    "            result.append(result[i-1]+result[i-2]) # access the last 2 elements and add them. then append them to the list\n",
    "    return result\n",
    "\n",
    "list_fib(10)"
   ]
  },
  {
   "cell_type": "markdown",
   "metadata": {},
   "source": [
    "## Functional programming with a list comprehension\n",
    "we will be discussing this in detail later"
   ]
  },
  {
   "cell_type": "code",
   "execution_count": null,
   "metadata": {},
   "outputs": [],
   "source": [
    "fib = [0,1] # seednumbers\n",
    "[fib.append(fib[-1]+fib[-2]) for ctr in range(2,10)] # list comprehension because we can\n",
    "print(fib)"
   ]
  },
  {
   "cell_type": "code",
   "execution_count": null,
   "metadata": {},
   "outputs": [],
   "source": [
    "fact = lambda x: 1 if x == 0 else x * fact(x-1)\n",
    "print(fact(3))"
   ]
  },
  {
   "cell_type": "code",
   "execution_count": null,
   "metadata": {},
   "outputs": [],
   "source": [
    "test = np.linspace(0,10)\n",
    "test_map = map(lambda x: x**2, test)\n",
    "\n",
    "print(f\"test: {test}\")\n",
    "print(f\"list(test_map): {list(test_map)}\")"
   ]
  }
 ],
 "metadata": {
  "kernelspec": {
   "display_name": "Python 3",
   "language": "python",
   "name": "python3"
  },
  "language_info": {
   "codemirror_mode": {
    "name": "ipython",
    "version": 3
   },
   "file_extension": ".py",
   "mimetype": "text/x-python",
   "name": "python",
   "nbconvert_exporter": "python",
   "pygments_lexer": "ipython3",
   "version": "3.10.4"
  }
 },
 "nbformat": 4,
 "nbformat_minor": 2
}
