{
 "cells": [
  {
   "cell_type": "markdown",
   "metadata": {},
   "source": [
    "## Data types"
   ]
  },
  {
   "cell_type": "code",
   "execution_count": 51,
   "metadata": {},
   "outputs": [],
   "source": [
    "import sys"
   ]
  },
  {
   "cell_type": "code",
   "execution_count": 52,
   "metadata": {},
   "outputs": [],
   "source": [
    "a = 5 # int\n",
    "b = 10.1 # float\n",
    "c = 2j # complex\n",
    "d = 'text' # string\n",
    "e = [1,2,3] #list\n",
    "f = (1,2,3) # tuple\n",
    "g = range(0,10) #range\n",
    "h = {1, 2, 3} # set\n",
    "g = frozenset(h) #frozenset\n",
    "i = False # bool\n",
    "j = b\"moreText\" # bytes\n",
    "k = bytearray(5) # bytearray\n",
    "l = memoryview(bytes(5)) # memoryview"
   ]
  },
  {
   "cell_type": "code",
   "execution_count": 53,
   "metadata": {},
   "outputs": [
    {
     "name": "stdout",
     "output_type": "stream",
     "text": [
      "<class 'bytes'>\n",
      "<class 'memoryview'>\n"
     ]
    }
   ],
   "source": [
    "# check the data type\n",
    "print(type(j))\n",
    "print(type(l))"
   ]
  },
  {
   "attachments": {},
   "cell_type": "markdown",
   "metadata": {},
   "source": [
    "#### Strings"
   ]
  },
  {
   "cell_type": "code",
   "execution_count": 54,
   "metadata": {},
   "outputs": [
    {
     "name": "stdout",
     "output_type": "stream",
     "text": [
      "Python is a programming language and an animal\n",
      "this is a snake and it is 5 metres long\n",
      "that is a very very very long animal\n",
      "True\n",
      "False\n",
      "True\n",
      "True\n",
      "b is a? True\n",
      "b is a? True\n",
      "b is a? False\n",
      "b is a? True\n"
     ]
    }
   ],
   "source": [
    "s1 = 'Python is a programming language and an animal'\n",
    "\n",
    "s2 = \"this is a snake and it is \" + str(5) + \" metres long\"\n",
    "\n",
    "s3 = 'that is a ' + 'very '*3 + 'long animal'\n",
    "\n",
    "print (s1)\n",
    "print (s2)\n",
    "print (s3)\n",
    "\n",
    "s4 = 'This'\n",
    "s5 = 'This'\n",
    "s6 = 'this'\n",
    "\n",
    "print(s4 == s5)\n",
    "print(s4 == s6)\n",
    "print(s4 is s5)\n",
    "print(s4 is s4)\n",
    "\n",
    "\n",
    "a = [1,2,3,4,5]\n",
    "b = a\n",
    "print('b is a? ' + str(b is a))\n",
    "print('b is a? ' + str(b == a))\n",
    "\n",
    "b = a[:]\n",
    "print('b is a? ' + str(b is a))\n",
    "print('b is a? ' + str(b == a))"
   ]
  },
  {
   "cell_type": "code",
   "execution_count": 55,
   "metadata": {},
   "outputs": [
    {
     "name": "stdout",
     "output_type": "stream",
     "text": [
      "caching example:\n",
      "True\n",
      "True\n",
      "True\n",
      "True\n",
      "False\n",
      "True\n"
     ]
    },
    {
     "name": "stderr",
     "output_type": "stream",
     "text": [
      "<>:5: SyntaxWarning: \"is\" with a literal. Did you mean \"==\"?\n",
      "<>:7: SyntaxWarning: \"is\" with a literal. Did you mean \"==\"?\n",
      "<>:8: SyntaxWarning: \"is\" with a literal. Did you mean \"==\"?\n",
      "<>:10: SyntaxWarning: \"is\" with a literal. Did you mean \"==\"?\n",
      "<>:11: SyntaxWarning: \"is\" with a literal. Did you mean \"==\"?\n",
      "<>:5: SyntaxWarning: \"is\" with a literal. Did you mean \"==\"?\n",
      "<>:7: SyntaxWarning: \"is\" with a literal. Did you mean \"==\"?\n",
      "<>:8: SyntaxWarning: \"is\" with a literal. Did you mean \"==\"?\n",
      "<>:10: SyntaxWarning: \"is\" with a literal. Did you mean \"==\"?\n",
      "<>:11: SyntaxWarning: \"is\" with a literal. Did you mean \"==\"?\n",
      "/tmp/ipykernel_10690/676555821.py:5: SyntaxWarning: \"is\" with a literal. Did you mean \"==\"?\n",
      "  print(10000 is 10**4)\n",
      "/tmp/ipykernel_10690/676555821.py:7: SyntaxWarning: \"is\" with a literal. Did you mean \"==\"?\n",
      "  print('a' is 'a')\n",
      "/tmp/ipykernel_10690/676555821.py:8: SyntaxWarning: \"is\" with a literal. Did you mean \"==\"?\n",
      "  print('aa' is 'a'*2)\n",
      "/tmp/ipykernel_10690/676555821.py:10: SyntaxWarning: \"is\" with a literal. Did you mean \"==\"?\n",
      "  print('aa' is x * 2)\n",
      "/tmp/ipykernel_10690/676555821.py:11: SyntaxWarning: \"is\" with a literal. Did you mean \"==\"?\n",
      "  print('aa' is sys.intern(x * 2))\n"
     ]
    }
   ],
   "source": [
    "#Python caches small integer and string objects, therefore is sometimes holds true for small values\n",
    "#cf. slides\n",
    "print('caching example:')\n",
    "print(10000 == 10**4)\n",
    "print(10000 is 10**4)\n",
    "\n",
    "print('a' is 'a')\n",
    "print('aa' is 'a'*2)\n",
    "x = 'a'\n",
    "print('aa' is x * 2)\n",
    "print('aa' is sys.intern(x * 2))"
   ]
  },
  {
   "cell_type": "code",
   "execution_count": 56,
   "metadata": {},
   "outputs": [
    {
     "name": "stdout",
     "output_type": "stream",
     "text": [
      "The data file is 5 MB large\n",
      "\n",
      "result of intern experiment:\n",
      "stringA is stringB: True\n",
      "stringD is stringC: False\n"
     ]
    }
   ],
   "source": [
    "print ( 'The data file is ' + str(5) + ' MB large')\n",
    "\n",
    "\n",
    "print ( '\\nresult of intern experiment:')\n",
    "stringA = sys.intern('myString'*1000)\n",
    "stringB = sys.intern('myString'*1000)\n",
    "\n",
    "print(f\"stringA is stringB: {stringA is stringB}\")\n",
    "\n",
    "stringC = 'myNewString'*1000\n",
    "stringD = 'myNewString'*1000\n",
    "\n",
    "print(f\"stringD is stringC: {stringD is stringC}\")"
   ]
  },
  {
   "attachments": {},
   "cell_type": "markdown",
   "metadata": {},
   "source": [
    "some more identity checks:"
   ]
  },
  {
   "cell_type": "code",
   "execution_count": 65,
   "metadata": {},
   "outputs": [
    {
     "name": "stdout",
     "output_type": "stream",
     "text": [
      "stringA <= stringB: True\n",
      "len(stringB): 5\n",
      "stringA == stringB[:-2]: True\n",
      "stringC[::]: abcdefghijkl\n",
      "stringC[::2]: acegik\n",
      "id(stringA): 140476210216432\n"
     ]
    }
   ],
   "source": [
    "stringA = 'abc'\n",
    "stringB = 'abcde'\n",
    "\n",
    "print(f\"stringA <= stringB: {stringA <= stringB}\")\n",
    "print(f\"len(stringB): {len(stringB)}\")\n",
    "\n",
    "print(f\"stringA == stringB[:-2]: {stringA == stringB[:-2]}\")\n",
    "\n",
    "stringC = 'abcdefghijkl'\n",
    "print(f\"stringC[::]: {stringC[::]}\")\n",
    "print(f\"stringC[::2]: {stringC[::2]}\")\n",
    "\n",
    "#stringA[0] = 'A' --> this leads to an error\n",
    "print(f\"id(stringA): {id(stringA)}\")"
   ]
  },
  {
   "attachments": {},
   "cell_type": "markdown",
   "metadata": {},
   "source": [
    "You can also capture input in the following way:"
   ]
  },
  {
   "cell_type": "code",
   "execution_count": null,
   "metadata": {},
   "outputs": [
    {
     "name": "stdout",
     "output_type": "stream",
     "text": [
      "User entered: hi\n"
     ]
    }
   ],
   "source": [
    "user_input = input(\"Enter a message... \")\n",
    "print('User entered: ' + user_input)"
   ]
  },
  {
   "cell_type": "markdown",
   "metadata": {},
   "source": [
    "#### Non-decimal numerics"
   ]
  },
  {
   "cell_type": "code",
   "execution_count": 4,
   "metadata": {
    "scrolled": true
   },
   "outputs": [
    {
     "data": {
      "text/plain": [
       "5"
      ]
     },
     "execution_count": 4,
     "metadata": {},
     "output_type": "execute_result"
    }
   ],
   "source": [
    "0B101 # binary number"
   ]
  },
  {
   "cell_type": "code",
   "execution_count": 5,
   "metadata": {},
   "outputs": [
    {
     "data": {
      "text/plain": [
       "8"
      ]
     },
     "execution_count": 5,
     "metadata": {},
     "output_type": "execute_result"
    }
   ],
   "source": [
    "0B101 + 0b011 # addition in binary"
   ]
  },
  {
   "cell_type": "code",
   "execution_count": 6,
   "metadata": {},
   "outputs": [
    {
     "data": {
      "text/plain": [
       "'0b10100'"
      ]
     },
     "execution_count": 6,
     "metadata": {},
     "output_type": "execute_result"
    }
   ],
   "source": [
    "bin(20) # the result of bin() is a string!"
   ]
  },
  {
   "cell_type": "code",
   "execution_count": 7,
   "metadata": {},
   "outputs": [
    {
     "data": {
      "text/plain": [
       "11"
      ]
     },
     "execution_count": 7,
     "metadata": {},
     "output_type": "execute_result"
    }
   ],
   "source": [
    "0o13 # octal number"
   ]
  },
  {
   "cell_type": "code",
   "execution_count": 8,
   "metadata": {},
   "outputs": [
    {
     "data": {
      "text/plain": [
       "31"
      ]
     },
     "execution_count": 8,
     "metadata": {},
     "output_type": "execute_result"
    }
   ],
   "source": [
    "0x1F # hexadecimal number"
   ]
  },
  {
   "cell_type": "markdown",
   "metadata": {},
   "source": [
    "#### Bitwise operations"
   ]
  },
  {
   "cell_type": "code",
   "execution_count": 9,
   "metadata": {
    "scrolled": true
   },
   "outputs": [
    {
     "data": {
      "text/plain": [
       "'0b11'"
      ]
     },
     "execution_count": 9,
     "metadata": {},
     "output_type": "execute_result"
    }
   ],
   "source": [
    "bin(0b011 & 0b10010111) # result of a bitwise AND"
   ]
  },
  {
   "cell_type": "code",
   "execution_count": 10,
   "metadata": {},
   "outputs": [
    {
     "data": {
      "text/plain": [
       "'0b10010111'"
      ]
     },
     "execution_count": 10,
     "metadata": {},
     "output_type": "execute_result"
    }
   ],
   "source": [
    "bin(0b011 | 0b10010111) # result of a bitwise OR"
   ]
  },
  {
   "cell_type": "code",
   "execution_count": 11,
   "metadata": {},
   "outputs": [
    {
     "data": {
      "text/plain": [
       "'0b10010100'"
      ]
     },
     "execution_count": 11,
     "metadata": {},
     "output_type": "execute_result"
    }
   ],
   "source": [
    "bin(0b011 ^ 0b10010111) # result of a bitwise XOR"
   ]
  },
  {
   "cell_type": "code",
   "execution_count": 12,
   "metadata": {},
   "outputs": [
    {
     "data": {
      "text/plain": [
       "'0b1100'"
      ]
     },
     "execution_count": 12,
     "metadata": {},
     "output_type": "execute_result"
    }
   ],
   "source": [
    "bin(0b011 << 2) # bitshift of 2 bits"
   ]
  },
  {
   "cell_type": "code",
   "execution_count": 13,
   "metadata": {
    "scrolled": true
   },
   "outputs": [
    {
     "data": {
      "text/plain": [
       "'-0b100'"
      ]
     },
     "execution_count": 13,
     "metadata": {},
     "output_type": "execute_result"
    }
   ],
   "source": [
    "bin(~0b011) # bitflip or complement"
   ]
  },
  {
   "cell_type": "markdown",
   "metadata": {},
   "source": [
    "As we can see, creating the complement of the binary two results in their 2's complement value, i.e. in the negative number:"
   ]
  },
  {
   "cell_type": "code",
   "execution_count": 14,
   "metadata": {
    "scrolled": true
   },
   "outputs": [
    {
     "name": "stdout",
     "output_type": "stream",
     "text": [
      "-4\n"
     ]
    }
   ],
   "source": [
    "print(int(~0b011))"
   ]
  },
  {
   "cell_type": "markdown",
   "metadata": {},
   "source": [
    "Question: How can we create a true 1's complement for the following binary?"
   ]
  },
  {
   "cell_type": "code",
   "execution_count": 15,
   "metadata": {},
   "outputs": [],
   "source": [
    "a = 0b100101"
   ]
  },
  {
   "cell_type": "code",
   "execution_count": 16,
   "metadata": {},
   "outputs": [
    {
     "data": {
      "text/plain": [
       "'0b11010'"
      ]
     },
     "execution_count": 16,
     "metadata": {},
     "output_type": "execute_result"
    }
   ],
   "source": [
    "b = a ^ (  (1 << a.bit_length()) - 1  )\n",
    "bin(b)"
   ]
  },
  {
   "cell_type": "code",
   "execution_count": 17,
   "metadata": {},
   "outputs": [
    {
     "data": {
      "text/plain": [
       "'0b111111'"
      ]
     },
     "execution_count": 17,
     "metadata": {},
     "output_type": "execute_result"
    }
   ],
   "source": [
    "# test the result\n",
    "c = a + b; \n",
    "bin(c)"
   ]
  },
  {
   "cell_type": "code",
   "execution_count": 18,
   "metadata": {},
   "outputs": [
    {
     "data": {
      "text/plain": [
       "True"
      ]
     },
     "execution_count": 18,
     "metadata": {},
     "output_type": "execute_result"
    }
   ],
   "source": [
    "(c+1) == ( 1 << (c.bit_length()) )"
   ]
  },
  {
   "cell_type": "markdown",
   "metadata": {},
   "source": [
    "#### Floats in Python"
   ]
  },
  {
   "cell_type": "markdown",
   "metadata": {},
   "source": [
    "1.23 = 123e-3"
   ]
  },
  {
   "cell_type": "code",
   "execution_count": 19,
   "metadata": {},
   "outputs": [
    {
     "name": "stdout",
     "output_type": "stream",
     "text": [
      "1.23\n",
      "1.23\n"
     ]
    }
   ],
   "source": [
    "print(1.23)\n",
    "print(123e-2)"
   ]
  },
  {
   "cell_type": "code",
   "execution_count": 20,
   "metadata": {},
   "outputs": [],
   "source": [
    "i1 = 1000.0"
   ]
  },
  {
   "cell_type": "code",
   "execution_count": 21,
   "metadata": {},
   "outputs": [],
   "source": [
    "i2 = 1e3 "
   ]
  },
  {
   "cell_type": "code",
   "execution_count": 22,
   "metadata": {},
   "outputs": [
    {
     "name": "stdout",
     "output_type": "stream",
     "text": [
      "1000.0\n",
      "1000.0\n"
     ]
    }
   ],
   "source": [
    "print(i1)\n",
    "print(i2)"
   ]
  },
  {
   "cell_type": "code",
   "execution_count": 23,
   "metadata": {},
   "outputs": [
    {
     "name": "stdout",
     "output_type": "stream",
     "text": [
      "33.0\n"
     ]
    }
   ],
   "source": [
    "print(0.33e2)"
   ]
  },
  {
   "cell_type": "code",
   "execution_count": 24,
   "metadata": {
    "scrolled": true
   },
   "outputs": [
    {
     "name": "stdout",
     "output_type": "stream",
     "text": [
      "-420.0\n"
     ]
    }
   ],
   "source": [
    "print(-0.42e3)"
   ]
  },
  {
   "cell_type": "code",
   "execution_count": 25,
   "metadata": {
    "scrolled": true
   },
   "outputs": [
    {
     "name": "stdout",
     "output_type": "stream",
     "text": [
      "-0.01\n"
     ]
    }
   ],
   "source": [
    "print(-1e-2)"
   ]
  },
  {
   "cell_type": "code",
   "execution_count": 26,
   "metadata": {},
   "outputs": [
    {
     "name": "stdout",
     "output_type": "stream",
     "text": [
      "-1.0\n"
     ]
    }
   ],
   "source": [
    "print(-1E0)"
   ]
  },
  {
   "cell_type": "code",
   "execution_count": 27,
   "metadata": {},
   "outputs": [
    {
     "name": "stdout",
     "output_type": "stream",
     "text": [
      "2.0\n"
     ]
    }
   ],
   "source": [
    "print(2E0)"
   ]
  },
  {
   "cell_type": "markdown",
   "metadata": {},
   "source": [
    "#### Precision"
   ]
  },
  {
   "cell_type": "code",
   "execution_count": 28,
   "metadata": {},
   "outputs": [
    {
     "name": "stdout",
     "output_type": "stream",
     "text": [
      "0.13\n"
     ]
    }
   ],
   "source": [
    "print(0.14 - 0.01)"
   ]
  },
  {
   "cell_type": "code",
   "execution_count": 29,
   "metadata": {},
   "outputs": [
    {
     "name": "stdout",
     "output_type": "stream",
     "text": [
      "0.029999999999999805\n",
      "1.0299999999999998\n",
      "2.03\n"
     ]
    }
   ],
   "source": [
    "print(1.13 - 1.1)\n",
    "print(2.13 - 1.1)\n",
    "print(3.13 - 1.1)"
   ]
  },
  {
   "attachments": {},
   "cell_type": "markdown",
   "metadata": {},
   "source": [
    "<div class=\"alert alert-warning alert-info\">\n",
    "<b>Hint:</b> Due to the way floating numbers are stored in memory on a computer, there can be errors in the results of mathematical operations. These are referred to as floating point errors and typically decrease when the minuend increases.\n",
    "</div>"
   ]
  },
  {
   "cell_type": "code",
   "execution_count": 30,
   "metadata": {},
   "outputs": [
    {
     "name": "stdout",
     "output_type": "stream",
     "text": [
      "10.0000000000001\n"
     ]
    }
   ],
   "source": [
    "print (10 + 0.0000000000001)"
   ]
  },
  {
   "cell_type": "code",
   "execution_count": 31,
   "metadata": {
    "scrolled": true
   },
   "outputs": [
    {
     "name": "stdout",
     "output_type": "stream",
     "text": [
      "10.0\n"
     ]
    }
   ],
   "source": [
    "print (10 + 0.00000000000000000001) # more example of rounding due to insignificance of the added value"
   ]
  },
  {
   "cell_type": "markdown",
   "metadata": {},
   "source": [
    "<div class=\"alert alert-warning alert-info\">\n",
    "<b>Hint:</b> You should be aware that there may be possible errors in floating point arithmetics in Python. <br> Depending on the task (Astrophysics?), this may very well be an issue!\n",
    "</div>"
   ]
  },
  {
   "cell_type": "markdown",
   "metadata": {},
   "source": [
    "The question remains, how much precision do we need. This is not a simple question to answer and very much depends on the task and your experience in the task at hand. There are modules in Python dealing with this question, for more information refer to the [guide here](https://docs.python.org/3/library/decimal.html#module-decimal)."
   ]
  },
  {
   "cell_type": "markdown",
   "metadata": {},
   "source": [
    "### Conversion of types"
   ]
  },
  {
   "cell_type": "code",
   "execution_count": 32,
   "metadata": {},
   "outputs": [
    {
     "name": "stdout",
     "output_type": "stream",
     "text": [
      "Now: 63\n"
     ]
    }
   ],
   "source": [
    "print('Now: ' + str (c))"
   ]
  },
  {
   "cell_type": "code",
   "execution_count": 33,
   "metadata": {},
   "outputs": [
    {
     "name": "stdout",
     "output_type": "stream",
     "text": [
      "37.0\n"
     ]
    }
   ],
   "source": [
    "print(float (a))"
   ]
  },
  {
   "cell_type": "markdown",
   "metadata": {},
   "source": [
    "<div class=\"alert alert-warning alert-info\">\n",
    "<b>Hint:</b> Complex numbers cannot be converted to another number type!\n",
    "</div>"
   ]
  },
  {
   "cell_type": "code",
   "execution_count": 34,
   "metadata": {},
   "outputs": [
    {
     "name": "stdout",
     "output_type": "stream",
     "text": [
      "False\n"
     ]
    }
   ],
   "source": [
    "#isinstance(var, classinfo)\n",
    "print (isinstance(c,complex))"
   ]
  },
  {
   "cell_type": "code",
   "execution_count": 35,
   "metadata": {},
   "outputs": [
    {
     "name": "stdout",
     "output_type": "stream",
     "text": [
      "True\n"
     ]
    }
   ],
   "source": [
    "#isinstance(var, classinfo) --> classinfo can be a tuple of types\n",
    "print (isinstance(a,(complex, float, int)))"
   ]
  },
  {
   "cell_type": "code",
   "execution_count": 36,
   "metadata": {},
   "outputs": [
    {
     "name": "stdout",
     "output_type": "stream",
     "text": [
      "1\n",
      "1\n",
      "1\n",
      "10\n",
      "255\n"
     ]
    }
   ],
   "source": [
    "print(int(1.5))\n",
    "print(int(1.0))\n",
    "print(int(True))\n",
    "print(int('10'))\n",
    "print(int(0xFF))"
   ]
  },
  {
   "cell_type": "code",
   "execution_count": 37,
   "metadata": {},
   "outputs": [
    {
     "name": "stdout",
     "output_type": "stream",
     "text": [
      "1.0\n",
      "10.0\n",
      "0\n",
      "10\n",
      "255.0\n"
     ]
    }
   ],
   "source": [
    "print(float(1))\n",
    "print(float(10))\n",
    "print(int(False))\n",
    "print(int('10'))\n",
    "print(float(0xFF))"
   ]
  },
  {
   "cell_type": "code",
   "execution_count": 38,
   "metadata": {
    "scrolled": true
   },
   "outputs": [
    {
     "name": "stdout",
     "output_type": "stream",
     "text": [
      "0.0\n",
      "1.0\n"
     ]
    }
   ],
   "source": [
    "print(1j.real)\n",
    "print(1j.imag)"
   ]
  },
  {
   "cell_type": "markdown",
   "metadata": {},
   "source": [
    "### Working with data types"
   ]
  },
  {
   "cell_type": "code",
   "execution_count": 39,
   "metadata": {},
   "outputs": [
    {
     "name": "stdout",
     "output_type": "stream",
     "text": [
      "25.0\n"
     ]
    }
   ],
   "source": [
    "print (50/2)"
   ]
  },
  {
   "cell_type": "markdown",
   "metadata": {},
   "source": [
    "<div class=\"alert alert-warning alert-info\">\n",
    "<b>Hint:</b> The result of a division is always zero.\n",
    "</div>"
   ]
  },
  {
   "cell_type": "code",
   "execution_count": 40,
   "metadata": {},
   "outputs": [
    {
     "name": "stdout",
     "output_type": "stream",
     "text": [
      "9\n"
     ]
    }
   ],
   "source": [
    "print(29//3)# floor division results in an int"
   ]
  },
  {
   "cell_type": "code",
   "execution_count": 41,
   "metadata": {},
   "outputs": [
    {
     "name": "stdout",
     "output_type": "stream",
     "text": [
      "(9, 2)\n"
     ]
    }
   ],
   "source": [
    "print(divmod(29,3)) # returns the quotient and the remainder"
   ]
  },
  {
   "cell_type": "code",
   "execution_count": 42,
   "metadata": {},
   "outputs": [
    {
     "name": "stdout",
     "output_type": "stream",
     "text": [
      "0.5\n"
     ]
    }
   ],
   "source": [
    "print(8 / 4 ** 2) # exponentiation has higher precedence than mult or div"
   ]
  },
  {
   "cell_type": "code",
   "execution_count": 43,
   "metadata": {},
   "outputs": [
    {
     "name": "stdout",
     "output_type": "stream",
     "text": [
      "4.0\n"
     ]
    }
   ],
   "source": [
    "print((8 / 4) ** 2)"
   ]
  }
 ],
 "metadata": {
  "kernelspec": {
   "display_name": "Python 3",
   "language": "python",
   "name": "python3"
  },
  "language_info": {
   "codemirror_mode": {
    "name": "ipython",
    "version": 3
   },
   "file_extension": ".py",
   "mimetype": "text/x-python",
   "name": "python",
   "nbconvert_exporter": "python",
   "pygments_lexer": "ipython3",
   "version": "3.10.4"
  }
 },
 "nbformat": 4,
 "nbformat_minor": 2
}
