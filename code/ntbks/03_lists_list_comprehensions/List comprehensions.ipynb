{
 "cells": [
  {
   "cell_type": "markdown",
   "metadata": {},
   "source": [
    "# List comprehensions"
   ]
  },
  {
   "attachments": {},
   "cell_type": "markdown",
   "metadata": {},
   "source": [
    "## Basics\n",
    "List comprehensions are a powerful tool to rewrite code in a short way. As a rule of thumb, any code that can be written in a loop, can also be rewritten with the help of a list comprehension. Let's start with a simple example:"
   ]
  },
  {
   "cell_type": "code",
   "execution_count": 1,
   "metadata": {},
   "outputs": [
    {
     "name": "stdout",
     "output_type": "stream",
     "text": [
      "[0, 1, 4, 9, 16, 25, 36]\n"
     ]
    }
   ],
   "source": [
    "empty_list = []\n",
    "\n",
    "for i in range (0,7):\n",
    "    empty_list.append(i**2)\n",
    "print(empty_list)"
   ]
  },
  {
   "cell_type": "code",
   "execution_count": 2,
   "metadata": {},
   "outputs": [
    {
     "name": "stdout",
     "output_type": "stream",
     "text": [
      "[0, 1, 4, 9, 16, 25, 36]\n"
     ]
    }
   ],
   "source": [
    "## same effect with list comprehensions \n",
    "empty_list_2 = [i**2 for i in range(0,7)]\n",
    "print(empty_list_2)"
   ]
  },
  {
   "cell_type": "markdown",
   "metadata": {},
   "source": [
    "The basic syntax explained: __x**2__ holds the effect of what should happen __for x__ regarding the chosen elements, in this case the elements __in range(0,7)__.<br>\n",
    "Let's look at another example with strings:"
   ]
  },
  {
   "cell_type": "code",
   "execution_count": 4,
   "metadata": {},
   "outputs": [
    {
     "name": "stdout",
     "output_type": "stream",
     "text": [
      "['this', 'is', 'the', 'string', 'we', 'want', 'to', 'work', 'with']\n"
     ]
    }
   ],
   "source": [
    "s = 'this is the string we want to work with'\n",
    "l = s.split(' ')\n",
    "print(l)"
   ]
  },
  {
   "cell_type": "code",
   "execution_count": 5,
   "metadata": {},
   "outputs": [
    {
     "name": "stdout",
     "output_type": "stream",
     "text": [
      "['THIS', 'IS', 'THE', 'STRING', 'WE', 'WANT', 'TO', 'WORK', 'WITH']\n"
     ]
    }
   ],
   "source": [
    "new_list = []\n",
    "for elem in l:\n",
    "    new_list.append(elem.upper())\n",
    "print(new_list)"
   ]
  },
  {
   "cell_type": "code",
   "execution_count": 6,
   "metadata": {},
   "outputs": [
    {
     "name": "stdout",
     "output_type": "stream",
     "text": [
      "['THIS', 'IS', 'THE', 'STRING', 'WE', 'WANT', 'TO', 'WORK', 'WITH']\n"
     ]
    }
   ],
   "source": [
    "## with list comprehension\n",
    "another_list = [s.upper() for s in l]\n",
    "print(another_list)"
   ]
  },
  {
   "attachments": {},
   "cell_type": "markdown",
   "metadata": {},
   "source": [
    "### Conditional statements\n",
    "List comprehensions can be modified with if statements:"
   ]
  },
  {
   "cell_type": "code",
   "execution_count": 11,
   "metadata": {},
   "outputs": [
    {
     "name": "stdout",
     "output_type": "stream",
     "text": [
      "['WE', 'WANT', 'WORK', 'WITH']\n"
     ]
    }
   ],
   "source": [
    "another_list = [s.upper() for s in l if s[0] == 'w']\n",
    "print(another_list)"
   ]
  },
  {
   "cell_type": "markdown",
   "metadata": {},
   "source": [
    "What we achieved was a selection of elements, i.e. we chose to include and capitalize words only if the original word starts with a __*w*__."
   ]
  },
  {
   "attachments": {},
   "cell_type": "markdown",
   "metadata": {},
   "source": [
    "### Nested loops\n",
    "List comprehensions can also be used to rewrite nested loops like this one:                    "
   ]
  },
  {
   "cell_type": "code",
   "execution_count": 8,
   "metadata": {},
   "outputs": [
    {
     "name": "stdout",
     "output_type": "stream",
     "text": [
      "['A', 'B', 'C', 'AA', 'BB', 'CC', 'AAA', 'BBB', 'CCC']\n"
     ]
    }
   ],
   "source": [
    "a = [['A', 'B', 'C'], ['AA', 'BB', 'CC'], ['AAA', 'BBB', 'CCC'],]\n",
    "\n",
    "res = []\n",
    "for e1 in a:\n",
    "    for e2 in e1:\n",
    "        res.append(e2)\n",
    "print (res)"
   ]
  },
  {
   "attachments": {},
   "cell_type": "markdown",
   "metadata": {},
   "source": [
    "Using list comprehensions:"
   ]
  },
  {
   "cell_type": "code",
   "execution_count": 9,
   "metadata": {},
   "outputs": [
    {
     "data": {
      "text/plain": [
       "['A', 'B', 'C', 'AA', 'BB', 'CC', 'AAA', 'BBB', 'CCC']"
      ]
     },
     "execution_count": 9,
     "metadata": {},
     "output_type": "execute_result"
    }
   ],
   "source": [
    "res_2 = [e2 for e1 in a for e2 in e1]\n",
    "res_2"
   ]
  },
  {
   "attachments": {},
   "cell_type": "markdown",
   "metadata": {},
   "source": [
    "Now this is difficult to read. If you transfer nested loops into nested list comprehensions, remember to keep the order intact. This means, the first comprehension is the outer loop, the second comprehension is the inner loop."
   ]
  },
  {
   "attachments": {},
   "cell_type": "markdown",
   "metadata": {},
   "source": [
    "### Comprehensions on lists in lists\n",
    "\n",
    "Applying a function to each sublist in a list, can also be done with a comprehension - imagine you want to square each element in a list but keep the internal structure of the container as a whole:"
   ]
  },
  {
   "cell_type": "code",
   "execution_count": 2,
   "metadata": {},
   "outputs": [
    {
     "name": "stdout",
     "output_type": "stream",
     "text": [
      "[[1, 4, 9], [16, 25, 36], [49, 64, 81]]\n"
     ]
    }
   ],
   "source": [
    "x = [[1,2,3],[4,5,6],[7,8,9]]\n",
    "res = [[n**2 for n in y] for y in x]# [n+1 for n in y]  <-- this part keeps the structure of lists intact\n",
    "#for y in x <-- we have to iterate over every list in x\n",
    "print(res)"
   ]
  },
  {
   "cell_type": "markdown",
   "metadata": {},
   "source": [
    "This can also be achieved by a _map_:"
   ]
  },
  {
   "cell_type": "code",
   "execution_count": 5,
   "metadata": {},
   "outputs": [
    {
     "data": {
      "text/plain": [
       "[1, 4, 9]"
      ]
     },
     "execution_count": 5,
     "metadata": {},
     "output_type": "execute_result"
    }
   ],
   "source": [
    "def show_result(map_object):\n",
    "    for item in map_object:\n",
    "        print(item, end=' ')\n",
    "    print('')  # for new line\n",
    "    \n",
    "map_result = [map(lambda x:x**2 ,y) for y in x]\n",
    "list(map_result[0])"
   ]
  },
  {
   "cell_type": "markdown",
   "metadata": {},
   "source": [
    "## Advanced list comprehensions"
   ]
  },
  {
   "cell_type": "markdown",
   "metadata": {},
   "source": [
    "Understanding list comprehensions can be tricky sometimes, consider this example:"
   ]
  },
  {
   "cell_type": "code",
   "execution_count": null,
   "metadata": {},
   "outputs": [
    {
     "name": "stdout",
     "output_type": "stream",
     "text": [
      "[0, 2, 4, 6, 8, 1, 3, 5, 7, 9]\n"
     ]
    }
   ],
   "source": [
    "res = [x for i in range(2) for x in range(10) if i == x%2]\n",
    "\n",
    "print(res) # we have to print the output, to get an idea of this nested comprehension"
   ]
  },
  {
   "cell_type": "markdown",
   "metadata": {},
   "source": [
    "Try to understand how the output is created, we have, in fact, two loops here.<br>\n",
    "Any list comprehension can be rewritten into loops, let's try this:"
   ]
  },
  {
   "cell_type": "code",
   "execution_count": null,
   "metadata": {},
   "outputs": [
    {
     "name": "stdout",
     "output_type": "stream",
     "text": [
      "[0, 2, 4, 6, 8, 1, 3, 5, 7, 9]\n"
     ]
    }
   ],
   "source": [
    "res = []\n",
    "for i in range(2):\n",
    "    for x in range(10):\n",
    "        if x % 2 == i:\n",
    "            res.append(x)\n",
    "print(res) # this is much more readable!"
   ]
  },
  {
   "cell_type": "markdown",
   "metadata": {},
   "source": [
    "As you can see, this leads to the same output as the list comprehension above. <br>\n",
    "Hint: Look at the similarity between the nested loops and the syntax in the list comprehension: The chronology of the outer and the inner loop must be maintained, followed be the if-statement."
   ]
  },
  {
   "cell_type": "markdown",
   "metadata": {},
   "source": [
    "## List comprehensions for sets and dictionaries"
   ]
  },
  {
   "attachments": {},
   "cell_type": "markdown",
   "metadata": {},
   "source": [
    "Turning a list of strings into a set:"
   ]
  },
  {
   "cell_type": "code",
   "execution_count": 10,
   "metadata": {},
   "outputs": [
    {
     "name": "stdout",
     "output_type": "stream",
     "text": [
      "{'s', 'a', 'r', 'i', 'l', 'f', 'o', 'n', 'w', 'd'}\n"
     ]
    }
   ],
   "source": [
    "strlist = 'data science is a nice field of research dealing with lots of data samples'.split(' ')\n",
    "newset = {s[0] for s in strlist} # if you want to create sets, use the curly brackets\n",
    "print(newset)"
   ]
  },
  {
   "attachments": {},
   "cell_type": "markdown",
   "metadata": {},
   "source": [
    "And now creating a dictionary that generates key-value pairs out of the first character of each word and its corresponding length:"
   ]
  },
  {
   "cell_type": "code",
   "execution_count": 11,
   "metadata": {},
   "outputs": [
    {
     "name": "stdout",
     "output_type": "stream",
     "text": [
      "{'a': 1, 'n': 3, 'l': 6, 'i': 9, 'w': 5, 'o': 2, 'd': 9}\n"
     ]
    }
   ],
   "source": [
    "strlist_2 = 'a new list including words of different length'.split(' ')\n",
    "newdict = {s[0]:len(s) for s in strlist_2} # dictionaries are created as expected, using key:values and the {}\n",
    "print(newdict)"
   ]
  },
  {
   "cell_type": "markdown",
   "metadata": {},
   "source": [
    "### Practice"
   ]
  },
  {
   "cell_type": "code",
   "execution_count": null,
   "metadata": {},
   "outputs": [],
   "source": [
    "text = ''"
   ]
  }
 ],
 "metadata": {
  "kernelspec": {
   "display_name": "Python 3",
   "language": "python",
   "name": "python3"
  },
  "language_info": {
   "codemirror_mode": {
    "name": "ipython",
    "version": 3
   },
   "file_extension": ".py",
   "mimetype": "text/x-python",
   "name": "python",
   "nbconvert_exporter": "python",
   "pygments_lexer": "ipython3",
   "version": "3.10.4"
  }
 },
 "nbformat": 4,
 "nbformat_minor": 2
}
