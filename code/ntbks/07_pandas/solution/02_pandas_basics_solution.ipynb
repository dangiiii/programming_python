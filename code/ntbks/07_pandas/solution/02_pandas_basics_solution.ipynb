{
 "cells": [
  {
   "cell_type": "markdown",
   "metadata": {},
   "source": [
    "### Series in pandas\n",
    "\n",
    "Series are one-dimensional arrays."
   ]
  },
  {
   "cell_type": "code",
   "execution_count": null,
   "metadata": {},
   "outputs": [],
   "source": [
    "import pandas as pd"
   ]
  },
  {
   "cell_type": "code",
   "execution_count": null,
   "metadata": {},
   "outputs": [],
   "source": [
    "#create a Series from a list\n",
    "l = [0,1,2,3,4,5]\n",
    "ser = pd.Series(l)\n",
    "ser"
   ]
  },
  {
   "cell_type": "code",
   "execution_count": null,
   "metadata": {},
   "outputs": [],
   "source": [
    "#some additional info\n",
    "print(type(ser))\n",
    "print(ser.shape)"
   ]
  },
  {
   "cell_type": "code",
   "execution_count": null,
   "metadata": {},
   "outputs": [],
   "source": [
    "rangeSeries = pd.Series(range(-3, 4))\n",
    "print(rangeSeries)"
   ]
  },
  {
   "cell_type": "code",
   "execution_count": null,
   "metadata": {},
   "outputs": [],
   "source": [
    "#this sets the indexes to the strings defined\n",
    "names = ['NYT', 'WP', 'LAT', 'CNN', 'BBC', 'TG']\n",
    "ser = pd.Series(l, index = names)\n",
    "ser"
   ]
  },
  {
   "cell_type": "code",
   "execution_count": null,
   "metadata": {},
   "outputs": [],
   "source": [
    "#looking up data becomes easier now\n",
    "print(ser['LAT'])"
   ]
  },
  {
   "cell_type": "code",
   "execution_count": null,
   "metadata": {},
   "outputs": [],
   "source": [
    "a = ser > 3\n",
    "print(a)"
   ]
  },
  {
   "cell_type": "code",
   "execution_count": null,
   "metadata": {},
   "outputs": [],
   "source": [
    "#what's going on here?\n",
    "print (ser[a])"
   ]
  },
  {
   "cell_type": "markdown",
   "metadata": {},
   "source": [
    "### From dictionary to Series\n",
    "\n",
    "This can be done simply with the following code, note that the keys in the dictionary become the index of the data:"
   ]
  },
  {
   "cell_type": "code",
   "execution_count": null,
   "metadata": {},
   "outputs": [],
   "source": [
    "# simple dictionary\n",
    "data = {'NYT':0, 'WP':1, 'LAT':2, 'CNN':3, 'BBC':4, 'TG':5}\n",
    "\n",
    "# Convert the dictionary into a pd.Series, and view it\n",
    "media = pd.Series(data)\n",
    "media"
   ]
  },
  {
   "cell_type": "code",
   "execution_count": null,
   "metadata": {},
   "outputs": [],
   "source": [
    "media.index = ['New York Times', 'Washington Post', 'Los Angeles Times', 'Cable News Network', 'British Broadcasting Company', 'The Guardian']"
   ]
  },
  {
   "cell_type": "code",
   "execution_count": null,
   "metadata": {},
   "outputs": [],
   "source": [
    "media"
   ]
  },
  {
   "cell_type": "markdown",
   "metadata": {},
   "source": [
    "### Dataframes in pandas\n",
    "\n",
    "Dataframes can be treated like tables and there is a number of ways to create them:\n"
   ]
  },
  {
   "cell_type": "code",
   "execution_count": null,
   "metadata": {},
   "outputs": [],
   "source": [
    "#if the lists are of equal length\n",
    "data = {'medium': ['NYT', 'WP', 'LAT', 'CNN', 'BBC', 'TG'], \n",
    "        'articles': [2000, 8000, 3000, 500, 12000, 1000], \n",
    "        'reporters': [25, 76, 30, 10, 100, 15]}#number are fictional\n",
    "df = pd.DataFrame(data)\n",
    "df"
   ]
  },
  {
   "cell_type": "markdown",
   "metadata": {},
   "source": [
    "If you have access to the dictionary, the column ordering can be defined:"
   ]
  },
  {
   "cell_type": "code",
   "execution_count": null,
   "metadata": {},
   "outputs": [],
   "source": [
    "df_new = pd.DataFrame(data, columns=['reporters', 'articles', 'medium'])\n",
    "df_new"
   ]
  },
  {
   "cell_type": "code",
   "execution_count": null,
   "metadata": {},
   "outputs": [],
   "source": [
    "#adding a new column\n",
    "df_new['long name'] = ['New York Times', 'Washington Post', 'Los Angeles Times', 'Cable News Network', 'British Broadcasting Company', 'The Guardian']"
   ]
  },
  {
   "cell_type": "code",
   "execution_count": null,
   "metadata": {},
   "outputs": [],
   "source": [
    "#deleting a column\n",
    "del df_new['medium']\n",
    "df_new"
   ]
  },
  {
   "cell_type": "code",
   "execution_count": null,
   "metadata": {},
   "outputs": [],
   "source": [
    "#transpose\n",
    "df_new.T"
   ]
  },
  {
   "cell_type": "code",
   "execution_count": null,
   "metadata": {},
   "outputs": [],
   "source": [
    "df_new.T.T"
   ]
  },
  {
   "cell_type": "markdown",
   "metadata": {},
   "source": [
    "### Indexing in Pandas"
   ]
  },
  {
   "cell_type": "markdown",
   "metadata": {},
   "source": [
    "The __iloc__ function is useful to slice parts from a DataFrame. It behaves differently, depending on whether we pass ranges or index elements directly."
   ]
  },
  {
   "cell_type": "code",
   "execution_count": null,
   "metadata": {},
   "outputs": [],
   "source": [
    "df_new"
   ]
  },
  {
   "cell_type": "code",
   "execution_count": null,
   "metadata": {},
   "outputs": [],
   "source": [
    "res = df_new.iloc[-2:]\n",
    "res"
   ]
  },
  {
   "cell_type": "code",
   "execution_count": null,
   "metadata": {},
   "outputs": [],
   "source": [
    "res = df_new.iloc[0,2]\n",
    "res"
   ]
  },
  {
   "cell_type": "markdown",
   "metadata": {},
   "source": [
    "As we can see, passing the range __[0:n]__ extracts the first n-1 rows and using __[0,2]__ accesses the third element in the  first row. "
   ]
  },
  {
   "cell_type": "markdown",
   "metadata": {},
   "source": [
    "<div class=\"alert alert-block alert-warning\">\n",
    "<b>Note:</b> Notice the difference in data types - in the former case we retrieve a DataFrame as a result while in the latter case we have a string!\n",
    "</div>"
   ]
  },
  {
   "cell_type": "markdown",
   "metadata": {},
   "source": [
    "We can also use this to change values in the DataFrame directly:"
   ]
  },
  {
   "cell_type": "code",
   "execution_count": null,
   "metadata": {},
   "outputs": [],
   "source": [
    "df_new.iloc[0,2] = 'The New York Times'\n",
    "df_new"
   ]
  },
  {
   "cell_type": "code",
   "execution_count": null,
   "metadata": {},
   "outputs": [],
   "source": [
    "#df_new.loc['2000']"
   ]
  },
  {
   "cell_type": "markdown",
   "metadata": {},
   "source": [
    "### Extracting Series from Pandas DataFrames"
   ]
  },
  {
   "cell_type": "markdown",
   "metadata": {},
   "source": [
    "Using __iloc__ we are able to extract Series from DataFrames. The following two cells demontrate this effect:"
   ]
  },
  {
   "cell_type": "code",
   "execution_count": null,
   "metadata": {},
   "outputs": [],
   "source": [
    "ser = df_new.iloc[:,2]\n",
    "ser"
   ]
  },
  {
   "cell_type": "code",
   "execution_count": null,
   "metadata": {},
   "outputs": [],
   "source": [
    "ser2 = df_new.iloc[1:4,2]\n",
    "ser2"
   ]
  },
  {
   "cell_type": "markdown",
   "metadata": {},
   "source": [
    "We can extract a row from a DataFrame using the __loc__ function and passing along a label which needs to match some value in the first column of the DataFrame:"
   ]
  },
  {
   "cell_type": "code",
   "execution_count": null,
   "metadata": {},
   "outputs": [],
   "source": [
    "res_1 = df_new.loc[1]\n",
    "res_1"
   ]
  },
  {
   "cell_type": "markdown",
   "metadata": {},
   "source": [
    "This results in a Series and can be used to extract new values, e.g.:"
   ]
  },
  {
   "cell_type": "code",
   "execution_count": null,
   "metadata": {},
   "outputs": [],
   "source": [
    "res_1['reporters']"
   ]
  },
  {
   "cell_type": "markdown",
   "metadata": {},
   "source": [
    "Passing along a list of values works too, however this results in a DataFrame: "
   ]
  },
  {
   "cell_type": "code",
   "execution_count": null,
   "metadata": {},
   "outputs": [],
   "source": [
    "res_2 = df_new.loc[[1,2]]\n",
    "res_2"
   ]
  },
  {
   "cell_type": "markdown",
   "metadata": {},
   "source": [
    "We can also pass ranges to __loc__:"
   ]
  },
  {
   "cell_type": "code",
   "execution_count": null,
   "metadata": {},
   "outputs": [],
   "source": [
    "resdf = df_new.iloc[1:4]"
   ]
  },
  {
   "cell_type": "code",
   "execution_count": null,
   "metadata": {},
   "outputs": [],
   "source": [
    "resdf"
   ]
  },
  {
   "cell_type": "code",
   "execution_count": null,
   "metadata": {
    "scrolled": true
   },
   "outputs": [],
   "source": [
    "res_3 = df_new.loc[1:4]\n",
    "res_3"
   ]
  },
  {
   "cell_type": "markdown",
   "metadata": {},
   "source": [
    "And this also works for the columns:"
   ]
  },
  {
   "cell_type": "code",
   "execution_count": null,
   "metadata": {},
   "outputs": [],
   "source": [
    "res_4 = df_new.loc[1:4, 'reporters':'articles']\n",
    "res_4"
   ]
  },
  {
   "cell_type": "markdown",
   "metadata": {},
   "source": [
    "Passing a single element as the list parameter results in a DataFrame:"
   ]
  },
  {
   "cell_type": "code",
   "execution_count": null,
   "metadata": {},
   "outputs": [],
   "source": [
    "res_5 = df_new.loc[[1]]\n",
    "res_5"
   ]
  },
  {
   "cell_type": "markdown",
   "metadata": {},
   "source": [
    "Sometimes, we want to change the index of our DataFrame - this can be done like this:"
   ]
  },
  {
   "cell_type": "code",
   "execution_count": null,
   "metadata": {
    "scrolled": true
   },
   "outputs": [],
   "source": [
    "res_3.set_index('long name', inplace=True)\n",
    "res_3.loc['Washington Post':]#todo"
   ]
  },
  {
   "cell_type": "code",
   "execution_count": null,
   "metadata": {},
   "outputs": [],
   "source": [
    "res_3"
   ]
  },
  {
   "cell_type": "markdown",
   "metadata": {},
   "source": [
    "### Logical indexing in DataFrames"
   ]
  },
  {
   "cell_type": "markdown",
   "metadata": {},
   "source": [
    "With the help of [logical indexing](https://pandas.pydata.org/pandas-docs/stable/user_guide/indexing.html) we can retrieve data from our DataFrames more easily. E.g. we can pass arrays or Series of True/False values to the __.loc__ indexer to select those values where the Series resolves in __True__. "
   ]
  },
  {
   "cell_type": "code",
   "execution_count": null,
   "metadata": {},
   "outputs": [],
   "source": [
    "#let's create some larger artificial data for the sake of simplicity\n",
    "datalarge = {'medium': ['NYT', 'WP', 'LAT', 'CNN', 'BBC', 'TG','NYT', 'WP', 'LAT', 'CNN', 'BBC', 'TG'], \n",
    "        'articles': [2000, 8000, 3000, 500, 12000, 1000, 3000, 8000, 5000, 500, 1000, 1000], \n",
    "        'reporters': [25, 76, 30, 10, 100, 15, 26, 71, 10, 10, 101, 15],\n",
    "        'sections': [13, 25, 23, 22, 12, 3, 6, 10, 23 ,19, 18, 6], \n",
    "        'articles_per_week': [200, 250, 190, 222, 120, 300, 506, 116, 213 ,119, 418, 61], \n",
    "        }#number are fictional\n",
    "dflarge = pd.DataFrame(datalarge)\n",
    "dflarge"
   ]
  },
  {
   "cell_type": "code",
   "execution_count": null,
   "metadata": {},
   "outputs": [],
   "source": [
    "dflarge.loc[dflarge['medium'] == 'NYT']"
   ]
  },
  {
   "cell_type": "code",
   "execution_count": null,
   "metadata": {},
   "outputs": [],
   "source": [
    "tmp = (dflarge['medium'] == 'NYT')\n",
    "print(type(tmp))\n",
    "print(tmp)"
   ]
  },
  {
   "cell_type": "markdown",
   "metadata": {},
   "source": [
    "Several things are to be noticed in this example:\n",
    "- the __dflarge['medium'] == 'NYT'__ statement returns a Pandas Series of True/False values\n",
    "- we can use this Series as input for the __loc__ statement to retrieve all the rows where our statement matches the desired result\n",
    "- in our case we were looking for all rows containing NYT as the medium"
   ]
  },
  {
   "cell_type": "code",
   "execution_count": null,
   "metadata": {},
   "outputs": [],
   "source": [
    "#this works also for the larger than / smaller than operator\n",
    "dflarge.loc[dflarge['articles'] > 2000]"
   ]
  },
  {
   "cell_type": "code",
   "execution_count": null,
   "metadata": {},
   "outputs": [],
   "source": [
    "#again, if you want to filter out specific columns, use the second argument\n",
    "dflarge.loc[dflarge['articles'] > 2000, ['medium','articles']]"
   ]
  },
  {
   "cell_type": "code",
   "execution_count": null,
   "metadata": {},
   "outputs": [],
   "source": [
    "df_new"
   ]
  },
  {
   "cell_type": "code",
   "execution_count": null,
   "metadata": {},
   "outputs": [],
   "source": [
    "#Setting the values in a column using the.loc indexer\n",
    "df_new.loc['Washington Post','reporters'] = 80\n",
    "df_new"
   ]
  },
  {
   "cell_type": "markdown",
   "metadata": {},
   "source": [
    "### Tasks\n",
    "Have a look at the comments in the following cells. For each comment, use a new cell and subsequently solve the task demanded in the respective cell. Use the data from this DataFrame and make use of the __.loc__ indexer in each task:"
   ]
  },
  {
   "cell_type": "code",
   "execution_count": null,
   "metadata": {},
   "outputs": [],
   "source": [
    "dflarge"
   ]
  },
  {
   "attachments": {},
   "cell_type": "markdown",
   "metadata": {},
   "source": [
    "#### Task 1:\n",
    "Select rows with medium LAT and all columns between 'articles' and 'sections'"
   ]
  },
  {
   "cell_type": "code",
   "execution_count": null,
   "metadata": {},
   "outputs": [],
   "source": [
    "dflarge.loc[dflarge['medium'] == 'LAT', 'articles':'sections']"
   ]
  },
  {
   "attachments": {},
   "cell_type": "markdown",
   "metadata": {},
   "source": [
    "#### Task 2:\n",
    "Select rows where the medium column ends with 'T'"
   ]
  },
  {
   "cell_type": "code",
   "execution_count": null,
   "metadata": {},
   "outputs": [],
   "source": [
    "dflarge.loc[dflarge['medium'].str.endswith('T')]"
   ]
  },
  {
   "attachments": {},
   "cell_type": "markdown",
   "metadata": {},
   "source": [
    "#### Task 3:\n",
    "Select rows with medium equal to the values in this list: ['BBC', 'CNN', 'WP']"
   ]
  },
  {
   "cell_type": "code",
   "execution_count": null,
   "metadata": {},
   "outputs": [],
   "source": [
    "dflarge.loc[dflarge['medium'].isin(['BBC', 'CNN', 'WP'])] "
   ]
  },
  {
   "attachments": {},
   "cell_type": "markdown",
   "metadata": {},
   "source": [
    "#### Task 4:\n",
    "Select rows with medium WP and 3000 articles or more"
   ]
  },
  {
   "cell_type": "code",
   "execution_count": null,
   "metadata": {},
   "outputs": [],
   "source": [
    "dflarge.loc[dflarge['medium'].str.endswith('WP') & (dflarge['reporters'] >= 75)]"
   ]
  },
  {
   "attachments": {},
   "cell_type": "markdown",
   "metadata": {},
   "source": [
    "#### Task 5:\n",
    "Select rows with id column between 2 and 5, and just return 'reporters' and 'sections' columns"
   ]
  },
  {
   "cell_type": "code",
   "execution_count": null,
   "metadata": {},
   "outputs": [],
   "source": [
    "dflarge.loc[2:5, ['reporters', 'sections']] "
   ]
  },
  {
   "attachments": {},
   "cell_type": "markdown",
   "metadata": {},
   "source": [
    "#### Task 6:\n",
    "Select rows where the length of the medium name is 3 letters by making use of a lambda function:"
   ]
  },
  {
   "cell_type": "code",
   "execution_count": null,
   "metadata": {},
   "outputs": [],
   "source": [
    "dflarge.loc[dflarge['medium'].apply(lambda x: len(x) == 3)]"
   ]
  },
  {
   "attachments": {},
   "cell_type": "markdown",
   "metadata": {},
   "source": [
    "Form a separate variable 'idx' with your selections from the lambda function from the cell above"
   ]
  },
  {
   "cell_type": "code",
   "execution_count": null,
   "metadata": {},
   "outputs": [],
   "source": [
    "idx = dflarge['medium'].apply(lambda x: len(x) == 3)\n",
    "idx"
   ]
  },
  {
   "attachments": {},
   "cell_type": "markdown",
   "metadata": {},
   "source": [
    "Select only the True values in 'idx' and only the 3 columns 'reporters', 'sections', 'articles_per_week':"
   ]
  },
  {
   "cell_type": "code",
   "execution_count": null,
   "metadata": {},
   "outputs": [],
   "source": [
    "dflarge.loc[idx, ['reporters', 'sections', 'articles_per_week']]"
   ]
  }
 ],
 "metadata": {
  "kernelspec": {
   "display_name": "Python 3",
   "language": "python",
   "name": "python3"
  },
  "language_info": {
   "codemirror_mode": {
    "name": "ipython",
    "version": 3
   },
   "file_extension": ".py",
   "mimetype": "text/x-python",
   "name": "python",
   "nbconvert_exporter": "python",
   "pygments_lexer": "ipython3",
   "version": "3.10.4"
  }
 },
 "nbformat": 4,
 "nbformat_minor": 2
}
