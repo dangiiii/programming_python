{
 "cells": [
  {
   "cell_type": "markdown",
   "metadata": {},
   "source": [
    "### Working with missing values\n",
    "\n",
    "It occurs rather frequently that DataFrames are incomplete regarding the content of all data rows. There will probably be no occasion in which complete rows are entered empty, however it may very well occur that some part of an observation is missing.<br>\n",
    "The question is how to deal with this situation? Let's have a look at the following DataFrame."
   ]
  },
  {
   "cell_type": "code",
   "execution_count": null,
   "metadata": {},
   "outputs": [],
   "source": [
    "import pandas as pd\n",
    "import numpy as np\n",
    "data = {'col1': [1,2,3,None,5], 'col2' : ['a',np.nan,'c','d','b'], 'col3' : [10,20,30,np.nan,np.nan], \n",
    "        'col4' : [np.nan,np.nan,np.nan,np.nan,0.6], 'col5' : [np.nan,np.nan,np.nan,np.nan,np.nan], \n",
    "        'col6' : ['a','b','c','d','e'], 'col7' : [10,25,40,np.nan,15]}\n",
    "\n",
    "df = pd.DataFrame.from_dict(data)"
   ]
  },
  {
   "cell_type": "code",
   "execution_count": null,
   "metadata": {
    "scrolled": false
   },
   "outputs": [],
   "source": [
    "df"
   ]
  },
  {
   "cell_type": "code",
   "execution_count": null,
   "metadata": {},
   "outputs": [],
   "source": [
    "df.isnull()"
   ]
  },
  {
   "cell_type": "code",
   "execution_count": null,
   "metadata": {},
   "outputs": [],
   "source": [
    "df.col1.isnull()#return a Series"
   ]
  },
  {
   "cell_type": "markdown",
   "metadata": {},
   "source": [
    "As you can see, we entered some 'missing' values on purpose, in this case, the Python __None__ type as well as the __np.nan__ type are converted and handled as __np.nan__ in the pandas DataFrame. The first thing you should do is check the DataFrame for these values so you have an overview of the completeness of your data.\n",
    "Of course, you can use the __.describe()__ function here and compare the values but checking per column is more thorough."
   ]
  },
  {
   "cell_type": "code",
   "execution_count": null,
   "metadata": {},
   "outputs": [],
   "source": [
    "#combining isnull() with sum() results in a nice overview\n",
    "df.isnull().sum()"
   ]
  },
  {
   "cell_type": "markdown",
   "metadata": {},
   "source": [
    "### Removing  data from a DataFrame\n"
   ]
  },
  {
   "cell_type": "markdown",
   "metadata": {},
   "source": [
    "What to do if data is missing in a DataFrame? One way is to remove observations (rows) or attributes (columns) completely. This can be done if you are sure that it does not harm your information harvesting overall!<br>\n",
    "Have a look at our DataFrame - it is easy to see that column 5 does not carry any valuable informartion whatsoever - let's remove it!"
   ]
  },
  {
   "cell_type": "code",
   "execution_count": null,
   "metadata": {},
   "outputs": [],
   "source": [
    "df.drop('col5', axis = 1, inplace=True)\n",
    "#in such a case you may want to know, where the data came from after all or if there was an import error!"
   ]
  },
  {
   "cell_type": "code",
   "execution_count": null,
   "metadata": {},
   "outputs": [],
   "source": [
    "df"
   ]
  },
  {
   "cell_type": "markdown",
   "metadata": {},
   "source": [
    "One may argue, whether there is much information contained in __col4__ as well, but let's leave it for the time being."
   ]
  },
  {
   "cell_type": "code",
   "execution_count": null,
   "metadata": {},
   "outputs": [],
   "source": [
    "#this command removes any column where a np.nan value is found; \n",
    "#omitting the axis parameter results in the same behaviour for rows\n",
    "df1 = df.dropna(axis = 1)\n",
    "df1"
   ]
  },
  {
   "cell_type": "markdown",
   "metadata": {},
   "source": [
    "### Imputing data"
   ]
  },
  {
   "cell_type": "markdown",
   "metadata": {},
   "source": [
    "We can try to fill in the missing data using the __fillna()__ function. This makes sense for numerical data. Let's try this for a single column."
   ]
  },
  {
   "cell_type": "code",
   "execution_count": null,
   "metadata": {},
   "outputs": [],
   "source": [
    "df.col1.fillna(4.0, inplace=True)\n",
    "df"
   ]
  },
  {
   "cell_type": "markdown",
   "metadata": {},
   "source": [
    "We don't always want to guess the correct value, neither do we want to inspect each entry specifically, nor is this feasible if the DataFrame is large! A good measure may be to use the mean value in a column. Whether or not this makes sense depends on your knowledge of the data!"
   ]
  },
  {
   "cell_type": "code",
   "execution_count": null,
   "metadata": {},
   "outputs": [],
   "source": [
    "print(df.col7.mean())"
   ]
  },
  {
   "cell_type": "code",
   "execution_count": null,
   "metadata": {},
   "outputs": [],
   "source": [
    "df.col7.fillna(df.col7.mean(), inplace=True)\n",
    "df"
   ]
  },
  {
   "cell_type": "code",
   "execution_count": null,
   "metadata": {
    "scrolled": true
   },
   "outputs": [],
   "source": [
    "df.describe()"
   ]
  },
  {
   "cell_type": "markdown",
   "metadata": {},
   "source": [
    "Using __describe()__ on the column gives a description on the numerical data in the DataFrame:\n",
    "- count: the number of non-null elements in this column\n",
    "- mean: the mean value of the column\n",
    "- std: the standard deviation\n",
    "- min/max: min and max value respectively\n",
    "- 25%/50%/75%: The respective percentile"
   ]
  },
  {
   "cell_type": "code",
   "execution_count": null,
   "metadata": {
    "scrolled": false
   },
   "outputs": [],
   "source": [
    "df.col2.describe()#applied on non-numerical data"
   ]
  },
  {
   "cell_type": "markdown",
   "metadata": {},
   "source": [
    "Applied on a column, we can retrieve:\n",
    "- count: the number of values\n",
    "- the number of unique values\n",
    "- the top value\n",
    "- the frequency of the top value"
   ]
  },
  {
   "cell_type": "code",
   "execution_count": null,
   "metadata": {},
   "outputs": [],
   "source": [
    "df.col7.describe()"
   ]
  },
  {
   "cell_type": "markdown",
   "metadata": {},
   "source": [
    "### Correlation in data"
   ]
  },
  {
   "cell_type": "markdown",
   "metadata": {},
   "source": [
    "Here is a link to some [housing data](https://www.kaggle.com/schirmerchad/bostonhoustingmlnd) in the Boston suburbian area. The column __RM__ describes the size in square metres per real estate, the __MEDV__ column refers to the value of the object in question."
   ]
  },
  {
   "cell_type": "code",
   "execution_count": null,
   "metadata": {},
   "outputs": [],
   "source": [
    "dfh = pd.read_csv('data/housing.csv', encoding= 'utf-8')\n",
    "dfh.head()"
   ]
  },
  {
   "cell_type": "markdown",
   "metadata": {},
   "source": [
    "Using the __corr()__ function we can quickly establish correlation factors for all variables and it is obvious to see that there is a positive correlation between the size of an object and its value, as we expected!"
   ]
  },
  {
   "cell_type": "code",
   "execution_count": null,
   "metadata": {},
   "outputs": [],
   "source": [
    "dfh.corr()"
   ]
  },
  {
   "cell_type": "markdown",
   "metadata": {},
   "source": [
    "### Working with data\n"
   ]
  },
  {
   "cell_type": "markdown",
   "metadata": {},
   "source": [
    "Let's work a bit with a concrete data set and apply our knowledge about data engineering / data wrangling to answer some conrete questions! Here is a [link](https://www.kaggle.com/russellyates88/suicide-rates-overview-1985-to-2016) to a data set describing suicides rates in various countries. We import the data into a DataFrame and take an initial glimpse at it."
   ]
  },
  {
   "cell_type": "code",
   "execution_count": null,
   "metadata": {},
   "outputs": [],
   "source": [
    "dfS = pd.read_csv('data/suicide_data.csv')"
   ]
  },
  {
   "cell_type": "code",
   "execution_count": null,
   "metadata": {},
   "outputs": [],
   "source": [
    "#rename some column names\n",
    "dfS.rename(columns = {' gdp_for_year ($) ':'gdp_year', 'gdp_per_capita ($)':'gdp_cap'}, inplace = True)"
   ]
  },
  {
   "cell_type": "code",
   "execution_count": null,
   "metadata": {
    "scrolled": true
   },
   "outputs": [],
   "source": [
    "#if you are unsure about the meaning of the specified data, look it up under the link!\n",
    "dfS.head()"
   ]
  },
  {
   "cell_type": "code",
   "execution_count": null,
   "metadata": {
    "scrolled": true
   },
   "outputs": [],
   "source": [
    "dfS.describe()"
   ]
  },
  {
   "cell_type": "markdown",
   "metadata": {},
   "source": [
    "__Grouping__ allows for aggregation over certain columns, e.g. iw want to know all suicide values per country, we can sum all the entries with respect to each country. "
   ]
  },
  {
   "cell_type": "code",
   "execution_count": null,
   "metadata": {},
   "outputs": [],
   "source": [
    "dfGroup = dfS.groupby(['country']).sum()\n",
    "dfGroup"
   ]
  },
  {
   "cell_type": "markdown",
   "metadata": {},
   "source": [
    "Other forms of aggregation are:\n",
    "- count: number of non-null observations\n",
    "- sum:\tSum of values\n",
    "- mean:\tMean of values\n",
    "- mad:\tMean absolute deviation\n",
    "- median: Arithmetic median of values\n",
    "- min:\tMinimum\n",
    "- max:\tMaximum\n",
    "- mode:\tMode\n",
    "- abs:\tAbsolute Value\n",
    "- prod:\tProduct of values\n",
    "- std:\tstandard deviation\n",
    "- var:  variance\n",
    "- sem: standard error of the mean\n",
    "- quantile:\tSample quantile (value at %)\n",
    "- cumsum:\tCumulative sum\n",
    "- cumprod:\tCumulative product\n",
    "- cummax:\tCumulative maximum\n",
    "- cummin:\tCumulative minimum"
   ]
  },
  {
   "cell_type": "markdown",
   "metadata": {},
   "source": [
    "If we want to retrieve parts from our DataFrame we can achieve this by using comparion: Certain values of columns which match our defined criteria.   "
   ]
  },
  {
   "cell_type": "code",
   "execution_count": null,
   "metadata": {},
   "outputs": [],
   "source": [
    "#retrieve a DataFrame listing all rows which match the string 'Germany' in the column country\n",
    "#or: give me all the data regarding Germany\n",
    "dfG = dfS[dfS.country == 'Germany']\n",
    "dfG.head()"
   ]
  },
  {
   "cell_type": "code",
   "execution_count": null,
   "metadata": {
    "scrolled": true
   },
   "outputs": [],
   "source": [
    "dfG.describe()"
   ]
  },
  {
   "attachments": {},
   "cell_type": "markdown",
   "metadata": {},
   "source": [
    "### Tasks:\n",
    "#### Task 1:\n",
    "Retrieve all data of male persons in Germany from the year 2000"
   ]
  },
  {
   "cell_type": "code",
   "execution_count": null,
   "metadata": {},
   "outputs": [],
   "source": [
    "### your code here"
   ]
  },
  {
   "cell_type": "code",
   "execution_count": null,
   "metadata": {},
   "outputs": [],
   "source": [
    "### your code here"
   ]
  },
  {
   "attachments": {},
   "cell_type": "markdown",
   "metadata": {},
   "source": [
    "#### Task 2:\n",
    "Retrieve all data onwards from 2000 regarding [Generation X](https://en.wikipedia.org/wiki/Generation_X). What are the countries involved?"
   ]
  },
  {
   "cell_type": "code",
   "execution_count": null,
   "metadata": {},
   "outputs": [],
   "source": [
    "### your code here"
   ]
  },
  {
   "cell_type": "code",
   "execution_count": null,
   "metadata": {},
   "outputs": [],
   "source": [
    "### your code here"
   ]
  },
  {
   "attachments": {},
   "cell_type": "markdown",
   "metadata": {},
   "source": [
    "#### Task 3:\n",
    "Retrieve all data from the DataFrame regarding Generation X in Germany between 2000 and 2010 (excluding both)"
   ]
  },
  {
   "cell_type": "code",
   "execution_count": null,
   "metadata": {},
   "outputs": [],
   "source": [
    "### your code here"
   ]
  },
  {
   "attachments": {},
   "cell_type": "markdown",
   "metadata": {},
   "source": [
    "#### Task 4.1:\n",
    "(based on t2) List the suicide rates of the richest (per capita) 10% of all the countries between [2000,2010]\n",
    "#make use of the .quantile() function"
   ]
  },
  {
   "cell_type": "code",
   "execution_count": null,
   "metadata": {},
   "outputs": [],
   "source": [
    "### your code here"
   ]
  },
  {
   "cell_type": "code",
   "execution_count": null,
   "metadata": {},
   "outputs": [],
   "source": [
    "### your code here"
   ]
  },
  {
   "attachments": {},
   "cell_type": "markdown",
   "metadata": {},
   "source": [
    "#### Task 4.2:\n",
    "Solve the same question for the poorest 10%:"
   ]
  },
  {
   "cell_type": "code",
   "execution_count": null,
   "metadata": {},
   "outputs": [],
   "source": [
    "### your code here"
   ]
  },
  {
   "cell_type": "code",
   "execution_count": null,
   "metadata": {},
   "outputs": [],
   "source": [
    "### your code here"
   ]
  },
  {
   "attachments": {},
   "cell_type": "markdown",
   "metadata": {},
   "source": [
    "#### Task 5:\n",
    "In Germany - for GenX, are the suicides rates higher for men or women?"
   ]
  },
  {
   "cell_type": "code",
   "execution_count": null,
   "metadata": {},
   "outputs": [],
   "source": [
    "### your code here"
   ]
  },
  {
   "cell_type": "code",
   "execution_count": null,
   "metadata": {},
   "outputs": [],
   "source": [
    "### your code here"
   ]
  },
  {
   "attachments": {},
   "cell_type": "markdown",
   "metadata": {},
   "source": [
    "#### Task 6:\n",
    "Which generation has the highest abolute suicide rates in Germany?"
   ]
  },
  {
   "cell_type": "code",
   "execution_count": null,
   "metadata": {},
   "outputs": [],
   "source": [
    "### your code here"
   ]
  },
  {
   "cell_type": "code",
   "execution_count": null,
   "metadata": {},
   "outputs": [],
   "source": [
    "### your code here"
   ]
  }
 ],
 "metadata": {
  "kernelspec": {
   "display_name": "Python 3",
   "language": "python",
   "name": "python3"
  },
  "language_info": {
   "codemirror_mode": {
    "name": "ipython",
    "version": 3
   },
   "file_extension": ".py",
   "mimetype": "text/x-python",
   "name": "python",
   "nbconvert_exporter": "python",
   "pygments_lexer": "ipython3",
   "version": "3.10.4"
  }
 },
 "nbformat": 4,
 "nbformat_minor": 2
}
