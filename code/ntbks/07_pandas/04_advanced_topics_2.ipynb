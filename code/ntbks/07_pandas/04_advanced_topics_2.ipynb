{
 "cells": [
  {
   "cell_type": "markdown",
   "metadata": {},
   "source": [
    "### Applying functions in pandas"
   ]
  },
  {
   "cell_type": "markdown",
   "metadata": {},
   "source": [
    "If you work with large data frames going over a list of elements or a series is not efficient and probably slow. It is more effective to make use of functions in pandas. To this end, we will make use of the __apply( )__ function."
   ]
  },
  {
   "cell_type": "code",
   "execution_count": null,
   "metadata": {},
   "outputs": [],
   "source": [
    "import pandas as pd\n",
    "df = pd.read_csv('data/suicide_data.csv')"
   ]
  },
  {
   "cell_type": "code",
   "execution_count": null,
   "metadata": {
    "scrolled": true
   },
   "outputs": [],
   "source": [
    "df.head()"
   ]
  },
  {
   "cell_type": "code",
   "execution_count": null,
   "metadata": {},
   "outputs": [],
   "source": [
    "df.describe()"
   ]
  },
  {
   "cell_type": "code",
   "execution_count": null,
   "metadata": {},
   "outputs": [],
   "source": [
    "def suicide_rating(x):\n",
    "    if x >= 16.0:\n",
    "        return 'high'\n",
    "    else:\n",
    "        if x <= 1.0:\n",
    "            return 'low'\n",
    "        else:\n",
    "            return 'medium'"
   ]
  },
  {
   "cell_type": "code",
   "execution_count": null,
   "metadata": {},
   "outputs": [],
   "source": [
    "df['rating'] = df['suicides/100k pop'].apply(suicide_rating)\n",
    "df.head()"
   ]
  },
  {
   "cell_type": "code",
   "execution_count": null,
   "metadata": {},
   "outputs": [],
   "source": [
    "#let's rename some columns\n",
    "df.rename(columns={' gdp_for_year ($) ':'gdp_year', 'gdp_per_capita ($)':'gdp_cap'}, inplace=True)\n",
    "df.columns"
   ]
  },
  {
   "cell_type": "code",
   "execution_count": null,
   "metadata": {},
   "outputs": [],
   "source": [
    "#we can apply a lambda function to a column, to remove the colons\n",
    "df['gdp_year'] = df['gdp_year'].apply(lambda x: str(x).replace(',', ''))\n",
    "df.gdp_year"
   ]
  },
  {
   "cell_type": "code",
   "execution_count": null,
   "metadata": {},
   "outputs": [],
   "source": [
    "#let's add a period so we can correctly convert the content to numerical data \n",
    "df['gdp_year'] = df['gdp_year'].apply(lambda x: x[:-3] + '.' + x[-3:])\n",
    "df['gdp_year'] = pd.to_numeric(df['gdp_year'], errors='coerce')\n",
    "\n",
    "df.gdp_year"
   ]
  },
  {
   "cell_type": "code",
   "execution_count": null,
   "metadata": {},
   "outputs": [],
   "source": [
    "dfT = df.groupby(['country'])['gdp_year'].mean()\n",
    "dfT.sort_values(inplace=True)\n",
    "dfT.head(150)"
   ]
  },
  {
   "cell_type": "markdown",
   "metadata": {},
   "source": [
    "If we want to make use of the added categories low, mid, high, we can group by country and rating and sum up the suicides per category:"
   ]
  },
  {
   "cell_type": "code",
   "execution_count": null,
   "metadata": {},
   "outputs": [],
   "source": [
    "dfG= df.groupby(['country', 'rating'])['suicides/100k pop'].count()\n",
    "dfG = pd.DataFrame(dfG)\n",
    "dfG.head(20)"
   ]
  },
  {
   "cell_type": "markdown",
   "metadata": {},
   "source": [
    "So to sum it up, we were able to create a new column describing the situation in a country regarding the suicide rate. We created a function __suicide_rating__ which creates a new value (low, medium, high) depending on a threshold which, in this case, we too from the 1st and 3rd qaurtile (see the description of the DataFrame).<br>\n",
    "After aggregating over each country we now have a grouping of the absolute suicide rates per country into these three categories."
   ]
  },
  {
   "cell_type": "code",
   "execution_count": null,
   "metadata": {},
   "outputs": [],
   "source": [
    "import matplotlib.pyplot as plt\n",
    "%matplotlib inline"
   ]
  },
  {
   "cell_type": "code",
   "execution_count": null,
   "metadata": {
    "scrolled": true
   },
   "outputs": [],
   "source": [
    "dfSum = df.groupby(['country'])['suicides/100k pop'].count()\n",
    "dfSum"
   ]
  },
  {
   "cell_type": "code",
   "execution_count": null,
   "metadata": {},
   "outputs": [],
   "source": [
    "dfMean = df.groupby(['country'])['gdp_year'].mean()\n",
    "dfMean"
   ]
  },
  {
   "cell_type": "code",
   "execution_count": null,
   "metadata": {},
   "outputs": [],
   "source": [
    "import matplotlib.pyplot as plt\n",
    "import pandas as pd\n",
    "import numpy as np\n",
    "import string"
   ]
  },
  {
   "cell_type": "code",
   "execution_count": null,
   "metadata": {},
   "outputs": [],
   "source": [
    "#pd.concat([s1, s2], axis=1).reset_index()\n",
    "dfNew = pd.concat([dfSum, dfMean], axis=1)\n",
    "dfNew"
   ]
  },
  {
   "cell_type": "code",
   "execution_count": null,
   "metadata": {},
   "outputs": [],
   "source": [
    "dfNew.reset_index('country', inplace=True)\n",
    "dfNew.rename(columns={'suicides/100k pop':'x', 'gdp_year':'y', 'country':'val'}, inplace=True)\n",
    "dfNew"
   ]
  },
  {
   "cell_type": "code",
   "execution_count": null,
   "metadata": {},
   "outputs": [],
   "source": [
    "fig, ax = plt.subplots()\n",
    "ax = dfNew.set_index('x')['y'].plot(style='o')\n",
    "\n",
    "def label_point(x, y, val, ax):\n",
    "    a = pd.concat({'x': x, 'y': y, 'val': val}, axis=1)\n",
    "    for i, point in a.iterrows():\n",
    "        ax.text(point['x'], point['y'], str(point['val'])[:3])\n",
    "\n",
    "label_point(dfNew.x, dfNew.y, dfNew.val, ax)\n",
    "\n",
    "dfNew.plot('x', 'y', kind='scatter', ax=ax, figsize=(12, 8))"
   ]
  },
  {
   "cell_type": "markdown",
   "metadata": {},
   "source": [
    "Ok, so this plot needs a bit polishing, but this is something to be done in the data cleaning / plotting section.<br>\n",
    "What information can you derive from this?"
   ]
  },
  {
   "cell_type": "code",
   "execution_count": null,
   "metadata": {},
   "outputs": [],
   "source": []
  }
 ],
 "metadata": {
  "kernelspec": {
   "display_name": "Python 3",
   "language": "python",
   "name": "python3"
  },
  "language_info": {
   "codemirror_mode": {
    "name": "ipython",
    "version": 3
   },
   "file_extension": ".py",
   "mimetype": "text/x-python",
   "name": "python",
   "nbconvert_exporter": "python",
   "pygments_lexer": "ipython3",
   "version": "3.10.4"
  }
 },
 "nbformat": 4,
 "nbformat_minor": 2
}
