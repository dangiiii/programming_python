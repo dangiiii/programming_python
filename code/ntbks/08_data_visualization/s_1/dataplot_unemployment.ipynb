{
 "cells": [
  {
   "cell_type": "code",
   "execution_count": 1,
   "metadata": {},
   "outputs": [],
   "source": [
    "import numpy as np\n",
    "import pandas as pd\n",
    "import matplotlib.pyplot as plt"
   ]
  },
  {
   "cell_type": "code",
   "execution_count": 2,
   "metadata": {},
   "outputs": [],
   "source": [
    "%matplotlib inline"
   ]
  },
  {
   "cell_type": "code",
   "execution_count": 3,
   "metadata": {},
   "outputs": [
    {
     "data": {
      "text/html": [
       "<div>\n",
       "<style scoped>\n",
       "    .dataframe tbody tr th:only-of-type {\n",
       "        vertical-align: middle;\n",
       "    }\n",
       "\n",
       "    .dataframe tbody tr th {\n",
       "        vertical-align: top;\n",
       "    }\n",
       "\n",
       "    .dataframe thead th {\n",
       "        text-align: right;\n",
       "    }\n",
       "</style>\n",
       "<table border=\"1\" class=\"dataframe\">\n",
       "  <thead>\n",
       "    <tr style=\"text-align: right;\">\n",
       "      <th></th>\n",
       "      <th>Area</th>\n",
       "      <th>Year</th>\n",
       "      <th>Month</th>\n",
       "      <th>Labor Force</th>\n",
       "      <th>Employed</th>\n",
       "      <th>Unemployed</th>\n",
       "      <th>Unemployment Rate</th>\n",
       "    </tr>\n",
       "  </thead>\n",
       "  <tbody>\n",
       "    <tr>\n",
       "      <th>0</th>\n",
       "      <td>New York State</td>\n",
       "      <td>2018</td>\n",
       "      <td>1</td>\n",
       "      <td>9660300</td>\n",
       "      <td>9165100</td>\n",
       "      <td>495200</td>\n",
       "      <td>5.1%</td>\n",
       "    </tr>\n",
       "    <tr>\n",
       "      <th>1</th>\n",
       "      <td>New York State</td>\n",
       "      <td>2017</td>\n",
       "      <td>1</td>\n",
       "      <td>9619800</td>\n",
       "      <td>9115700</td>\n",
       "      <td>504100</td>\n",
       "      <td>5.2%</td>\n",
       "    </tr>\n",
       "    <tr>\n",
       "      <th>2</th>\n",
       "      <td>New York State</td>\n",
       "      <td>2017</td>\n",
       "      <td>2</td>\n",
       "      <td>9678400</td>\n",
       "      <td>9168700</td>\n",
       "      <td>509700</td>\n",
       "      <td>5.3%</td>\n",
       "    </tr>\n",
       "    <tr>\n",
       "      <th>3</th>\n",
       "      <td>New York State</td>\n",
       "      <td>2017</td>\n",
       "      <td>3</td>\n",
       "      <td>9711000</td>\n",
       "      <td>9258000</td>\n",
       "      <td>453000</td>\n",
       "      <td>4.7%</td>\n",
       "    </tr>\n",
       "    <tr>\n",
       "      <th>4</th>\n",
       "      <td>New York State</td>\n",
       "      <td>2017</td>\n",
       "      <td>4</td>\n",
       "      <td>9687000</td>\n",
       "      <td>9265600</td>\n",
       "      <td>421400</td>\n",
       "      <td>4.4%</td>\n",
       "    </tr>\n",
       "    <tr>\n",
       "      <th>5</th>\n",
       "      <td>New York State</td>\n",
       "      <td>2017</td>\n",
       "      <td>5</td>\n",
       "      <td>9690500</td>\n",
       "      <td>9261900</td>\n",
       "      <td>428600</td>\n",
       "      <td>4.4%</td>\n",
       "    </tr>\n",
       "    <tr>\n",
       "      <th>6</th>\n",
       "      <td>New York State</td>\n",
       "      <td>2017</td>\n",
       "      <td>6</td>\n",
       "      <td>9794300</td>\n",
       "      <td>9341300</td>\n",
       "      <td>453000</td>\n",
       "      <td>4.6%</td>\n",
       "    </tr>\n",
       "    <tr>\n",
       "      <th>7</th>\n",
       "      <td>New York State</td>\n",
       "      <td>2017</td>\n",
       "      <td>7</td>\n",
       "      <td>9858500</td>\n",
       "      <td>9372700</td>\n",
       "      <td>485700</td>\n",
       "      <td>4.9%</td>\n",
       "    </tr>\n",
       "    <tr>\n",
       "      <th>8</th>\n",
       "      <td>New York State</td>\n",
       "      <td>2017</td>\n",
       "      <td>8</td>\n",
       "      <td>9767100</td>\n",
       "      <td>9285400</td>\n",
       "      <td>481800</td>\n",
       "      <td>4.9%</td>\n",
       "    </tr>\n",
       "    <tr>\n",
       "      <th>9</th>\n",
       "      <td>New York State</td>\n",
       "      <td>2017</td>\n",
       "      <td>9</td>\n",
       "      <td>9743400</td>\n",
       "      <td>9296700</td>\n",
       "      <td>446700</td>\n",
       "      <td>4.6%</td>\n",
       "    </tr>\n",
       "  </tbody>\n",
       "</table>\n",
       "</div>"
      ],
      "text/plain": [
       "             Area  Year  Month  Labor Force  Employed  Unemployed  \\\n",
       "0  New York State  2018      1      9660300   9165100      495200   \n",
       "1  New York State  2017      1      9619800   9115700      504100   \n",
       "2  New York State  2017      2      9678400   9168700      509700   \n",
       "3  New York State  2017      3      9711000   9258000      453000   \n",
       "4  New York State  2017      4      9687000   9265600      421400   \n",
       "5  New York State  2017      5      9690500   9261900      428600   \n",
       "6  New York State  2017      6      9794300   9341300      453000   \n",
       "7  New York State  2017      7      9858500   9372700      485700   \n",
       "8  New York State  2017      8      9767100   9285400      481800   \n",
       "9  New York State  2017      9      9743400   9296700      446700   \n",
       "\n",
       "  Unemployment Rate                                                                                                                                                                        \n",
       "0                                               5.1%                                                                                                                                       \n",
       "1                                               5.2%                                                                                                                                       \n",
       "2                                               5.3%                                                                                                                                       \n",
       "3                                               4.7%                                                                                                                                       \n",
       "4                                               4.4%                                                                                                                                       \n",
       "5                                               4.4%                                                                                                                                       \n",
       "6                                               4.6%                                                                                                                                       \n",
       "7                                               4.9%                                                                                                                                       \n",
       "8                                               4.9%                                                                                                                                       \n",
       "9                                               4.6%                                                                                                                                       "
      ]
     },
     "execution_count": 3,
     "metadata": {},
     "output_type": "execute_result"
    }
   ],
   "source": [
    "data = pd.read_csv('../data/Local_Area_Unemployment_Statistics__Beginning_1976.csv')\n",
    "data[:10]"
   ]
  },
  {
   "cell_type": "code",
   "execution_count": 4,
   "metadata": {},
   "outputs": [],
   "source": [
    "dates = data.apply(lambda x: pd.Timestamp('%d-%d-01' % (x.Year, x.Month)), axis=1)\n",
    "d = pd.concat((data,pd.DataFrame({'date':dates})), axis=1)"
   ]
  },
  {
   "cell_type": "code",
   "execution_count": 5,
   "metadata": {},
   "outputs": [],
   "source": [
    "# Plot NY State Labor Labor Force, Employed, and Unemployed\n",
    "ny = d[d.Area == 'New York State']\n",
    "ny = ny.sort_values(by='date')"
   ]
  },
  {
   "cell_type": "code",
   "execution_count": 6,
   "metadata": {},
   "outputs": [
    {
     "data": {
      "text/plain": [
       "Text(0, 0.5, 'Number of People')"
      ]
     },
     "execution_count": 6,
     "metadata": {},
     "output_type": "execute_result"
    },
    {
     "data": {
      "image/png": "[encoded data removed]",
      "text/plain": [
       "<Figure size 432x288 with 1 Axes>"
      ]
     },
     "metadata": {
      "needs_background": "light"
     },
     "output_type": "display_data"
    }
   ],
   "source": [
    "plt.plot(ny.date, ny['Labor Force'], label='Labor Force')\n",
    "plt.plot(ny.date, ny['Employed'], label='Employed')\n",
    "plt.plot(ny.date, ny['Unemployed'], label='Unemployed')\n",
    "plt.legend(loc='best')\n",
    "plt.xlabel('date')\n",
    "plt.ylabel('Number of People')"
   ]
  },
  {
   "cell_type": "code",
   "execution_count": null,
   "metadata": {},
   "outputs": [],
   "source": []
  }
 ],
 "metadata": {
  "kernelspec": {
   "display_name": "Python 3",
   "language": "python",
   "name": "python3"
  },
  "language_info": {
   "codemirror_mode": {
    "name": "ipython",
    "version": 3
   },
   "file_extension": ".py",
   "mimetype": "text/x-python",
   "name": "python",
   "nbconvert_exporter": "python",
   "pygments_lexer": "ipython3",
   "version": "3.7.4"
  }
 },
 "nbformat": 4,
 "nbformat_minor": 1
}
