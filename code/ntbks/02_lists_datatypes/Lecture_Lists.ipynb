{
 "cells": [
  {
   "cell_type": "markdown",
   "metadata": {},
   "source": [
    "## Lists in Python\n",
    "- Lists are so-called containers in Python\n",
    "- containers are able to hold data types of any kind or even other containers \n",
    "- lists are defined using square brackets\n",
    "- all elements in a list are ordered\n",
    "- each element is seperated by a comma\n",
    "- each element can be accessed using bracket notation\n",
    "- the elements in a list are 0-indexed\n",
    "- the last element in a list is at position n - 1, n being the number of elements in the list"
   ]
  },
  {
   "cell_type": "code",
   "execution_count": 404,
   "metadata": {
    "scrolled": true
   },
   "outputs": [
    {
     "name": "stdout",
     "output_type": "stream",
     "text": [
      "[]\n",
      "[1, 2, 3, 4, 5, 6, 7]\n",
      "['a', 'b', 'c', 'd']\n",
      "['this', 'that']\n",
      "4\n"
     ]
    }
   ],
   "source": [
    "empty_list = []\n",
    "numbers = [1,2,3,4,5,6,7]\n",
    "letters = ['a', 'b', 'c', 'd']\n",
    "data = ['data', 'science', 'machine', 'learning', 'artificial', 'intelligence']\n",
    "\n",
    "# you can also use the list contstructor to create a new list\n",
    "l = list(('this', 'that'))\n",
    "\n",
    "print(empty_list)\n",
    "print(numbers)\n",
    "print(letters)\n",
    "print(l)\n",
    "\n",
    "# the method len() returns the number of elements of e.g. a list\n",
    "print(len(letters))"
   ]
  },
  {
   "attachments": {},
   "cell_type": "markdown",
   "metadata": {},
   "source": [
    "- accessing specific elements in a container by index happens quite frequently\n",
    "- you need to be careful here as using an index that is larger than the length of the container will lead to a crash\n",
    "- wrong indices will not necessarily lead to crashes (as long as it still is a valid index for the container) but rather give you the wrong results as you access the wrong element"
   ]
  },
  {
   "cell_type": "code",
   "execution_count": 405,
   "metadata": {},
   "outputs": [
    {
     "name": "stdout",
     "output_type": "stream",
     "text": [
      "4\n"
     ]
    }
   ],
   "source": [
    "print(numbers[3])  # accessing the fourth element in a container by index (since first element has index 0)"
   ]
  },
  {
   "attachments": {},
   "cell_type": "markdown",
   "metadata": {},
   "source": [
    "- you need to be careful when doing that since errors may arise from 'overreaching' an element in a container\n",
    "- there are multiple ways to access an element at the 'edge' (first and last index) of a container, such as this:"
   ]
  },
  {
   "cell_type": "code",
   "execution_count": 406,
   "metadata": {},
   "outputs": [
    {
     "name": "stdout",
     "output_type": "stream",
     "text": [
      "a\n",
      "d\n",
      "d\n"
     ]
    }
   ],
   "source": [
    "print(letters[0])  # accessing the first element in a container by index (always index 0, IF there is any element in the container)\n",
    "\n",
    "print(letters[len(letters) - 1]) # this way allows you to access the last element in a list\n",
    "print(letters[-1]) # this is a much shorter way than above"
   ]
  },
  {
   "cell_type": "markdown",
   "metadata": {},
   "source": [
    "- elements in a list can be reached in a cirular fashion\n",
    "- 0 indexes the first element, - 1 indexes the element the end of a list\n",
    "- this patterns extends even further down the list"
   ]
  },
  {
   "cell_type": "code",
   "execution_count": 407,
   "metadata": {},
   "outputs": [
    {
     "name": "stdout",
     "output_type": "stream",
     "text": [
      "b\n"
     ]
    }
   ],
   "source": [
    "print(letters[-3]) #this works\n",
    "# print(letters[-6]) # this won't work any more"
   ]
  },
  {
   "attachments": {},
   "cell_type": "markdown",
   "metadata": {},
   "source": [
    "- you can slice a list (taking out a range of consecutive elements by addressing them via indices) in the following way:"
   ]
  },
  {
   "cell_type": "code",
   "execution_count": 408,
   "metadata": {},
   "outputs": [
    {
     "name": "stdout",
     "output_type": "stream",
     "text": [
      "['b', 'c', 'd']\n",
      "['c', 'd']\n",
      "['a', 'b', 'c', 'd']\n",
      "['a', 'c']\n"
     ]
    }
   ],
   "source": [
    "print(letters[1:4])\n",
    "print(letters[2:])\n",
    "print(letters[:4])\n",
    "\n",
    "# start from index 0 but only take every second element\n",
    "print(letters[:4:2])"
   ]
  },
  {
   "attachments": {},
   "cell_type": "markdown",
   "metadata": {},
   "source": [
    "- check whether some value matches an element/value in a container:"
   ]
  },
  {
   "cell_type": "code",
   "execution_count": 409,
   "metadata": {},
   "outputs": [
    {
     "name": "stdout",
     "output_type": "stream",
     "text": [
      "True\n"
     ]
    }
   ],
   "source": [
    "if 'machine' in data:\n",
    "    print(True)\n",
    "else:\n",
    "    print(False)"
   ]
  },
  {
   "attachments": {},
   "cell_type": "markdown",
   "metadata": {},
   "source": [
    "- you can replace the value at any position in the container in the following way (notice how the if-clause now returns \"False\" due to being case-sensitive)"
   ]
  },
  {
   "cell_type": "code",
   "execution_count": 410,
   "metadata": {},
   "outputs": [
    {
     "name": "stdout",
     "output_type": "stream",
     "text": [
      "['data', 'science', 'Machine', 'learning', 'artificial', 'intelligence']\n",
      "False\n"
     ]
    }
   ],
   "source": [
    "data[2] = 'Machine'\n",
    "print(data)\n",
    "\n",
    "if 'machine' in data:\n",
    "    print(True)\n",
    "else:\n",
    "    print(False)"
   ]
  },
  {
   "attachments": {},
   "cell_type": "markdown",
   "metadata": {},
   "source": [
    "- you can also replace/assign multiple new values to a list:"
   ]
  },
  {
   "cell_type": "code",
   "execution_count": 411,
   "metadata": {},
   "outputs": [
    {
     "name": "stdout",
     "output_type": "stream",
     "text": [
      "['data', 'Data', 'Analysis', 'Machine', 'learning', 'artificial', 'intelligence']\n"
     ]
    }
   ],
   "source": [
    "data[1:2] = ['Data', 'Analysis']\n",
    "print(data)"
   ]
  },
  {
   "attachments": {},
   "cell_type": "markdown",
   "metadata": {},
   "source": [
    "- aside from using the index directly, there are various ways to insert (at a given position), append (add to the end of the list) or extend (add to the end of list but as singular elements) elements into a list."
   ]
  },
  {
   "cell_type": "code",
   "execution_count": 412,
   "metadata": {},
   "outputs": [
    {
     "name": "stdout",
     "output_type": "stream",
     "text": [
      "['data', 'science', 'Data', 'Analysis', 'Machine', 'learning', 'artificial', 'intelligence']\n"
     ]
    }
   ],
   "source": [
    "data.insert(1,'science')\n",
    "print(data)"
   ]
  },
  {
   "cell_type": "code",
   "execution_count": 413,
   "metadata": {},
   "outputs": [
    {
     "name": "stdout",
     "output_type": "stream",
     "text": [
      "['data', 'science', 'Data', 'Analysis', 'Machine', 'learning', 'artificial', 'intelligence', 'more data']\n"
     ]
    }
   ],
   "source": [
    "data.append('more data')\n",
    "print(data)"
   ]
  },
  {
   "attachments": {},
   "cell_type": "markdown",
   "metadata": {},
   "source": [
    "- take note of the differences between using \"append\" and \"extend\""
   ]
  },
  {
   "cell_type": "code",
   "execution_count": 414,
   "metadata": {},
   "outputs": [
    {
     "name": "stdout",
     "output_type": "stream",
     "text": [
      "['data', 'science', 'Data', 'Analysis', 'Machine', 'learning', 'artificial', 'intelligence', 'more data', ['this', 'that'], 'this', 'that']\n",
      "['data', 'science', 'Data', 'Analysis', 'Machine', 'learning', 'artificial', 'intelligence', 'more data', ['this', 'that'], 'this', 'that', 'statistical', 'analysis']\n"
     ]
    }
   ],
   "source": [
    "dataList = ['this','that']\n",
    "data.append(dataList)\n",
    "data.extend(dataList)\n",
    "print(data)\n",
    "data.extend(('statistical', 'analysis'))\n",
    "print(data)"
   ]
  },
  {
   "attachments": {},
   "cell_type": "markdown",
   "metadata": {},
   "source": [
    "- if you want to remove a specific element from a list by its value you can use the following method:"
   ]
  },
  {
   "cell_type": "code",
   "execution_count": 415,
   "metadata": {},
   "outputs": [
    {
     "name": "stdout",
     "output_type": "stream",
     "text": [
      "['data', 'science', 'Data', 'Analysis', 'Machine', 'learning', 'artificial', 'intelligence', 'more data', ['this', 'that'], 'this', 'that', 'analysis']\n",
      "['science', 'Data', 'Analysis', 'Machine', 'learning', 'artificial', 'intelligence', 'more data', ['this', 'that'], 'this', 'that', 'analysis']\n"
     ]
    }
   ],
   "source": [
    "data.remove('statistical')\n",
    "print(data)\n",
    "data.remove('data')\n",
    "print(data)"
   ]
  },
  {
   "attachments": {},
   "cell_type": "markdown",
   "metadata": {},
   "source": [
    "- another way of removing an item is by using \"pop()\", which removes the last item from a list (unless an index is specifically defined) and returns the value of that item"
   ]
  },
  {
   "cell_type": "code",
   "execution_count": 416,
   "metadata": {},
   "outputs": [
    {
     "name": "stdout",
     "output_type": "stream",
     "text": [
      "removed item: analysis\n",
      "remaining list: ['science', 'Data', 'Analysis', 'Machine', 'learning', 'artificial', 'intelligence', 'more data', ['this', 'that'], 'this', 'that']\n",
      "\n",
      "removed item: artificial\n",
      "remaining list: ['science', 'Data', 'Analysis', 'Machine', 'learning', 'intelligence', 'more data', ['this', 'that'], 'this', 'that']\n",
      "\n",
      "removed item: science\n",
      "remaining list: ['Data', 'Analysis', 'Machine', 'learning', 'intelligence', 'more data', ['this', 'that'], 'this', 'that']\n"
     ]
    }
   ],
   "source": [
    "item = data.pop() # remove last item and return its value\n",
    "print(f\"removed item: {item}\")\n",
    "print(f\"remaining list: {data}\")\n",
    "print()\n",
    "\n",
    "item = data.pop(5) # remove item at index 5\n",
    "print(f\"removed item: {item}\")\n",
    "print(f\"remaining list: {data}\")\n",
    "print()\n",
    "\n",
    "item = data.pop(0) # remove first item from list (index 0)\n",
    "print(f\"removed item: {item}\")\n",
    "print(f\"remaining list: {data}\")"
   ]
  },
  {
   "attachments": {},
   "cell_type": "markdown",
   "metadata": {},
   "source": [
    "- removing with 'del' also works - you need to provide the list and the index (or you can delete the whole list by not giving any specific index). The latter will not only remove the elements stored in the container but also the list itself, which cannot be accessed afterwards."
   ]
  },
  {
   "cell_type": "code",
   "execution_count": 458,
   "metadata": {},
   "outputs": [
    {
     "ename": "IndexError",
     "evalue": "list assignment index out of range",
     "output_type": "error",
     "traceback": [
      "\u001b[0;31m---------------------------------------------------------------------------\u001b[0m",
      "\u001b[0;31mIndexError\u001b[0m                                Traceback (most recent call last)",
      "\u001b[0;32m/tmp/ipykernel_8817/3429167358.py\u001b[0m in \u001b[0;36m<module>\u001b[0;34m\u001b[0m\n\u001b[1;32m      1\u001b[0m \u001b[0;31m# del data[len(data)-3]\u001b[0m\u001b[0;34m\u001b[0m\u001b[0;34m\u001b[0m\u001b[0m\n\u001b[0;32m----> 2\u001b[0;31m \u001b[0;32mdel\u001b[0m \u001b[0mdata\u001b[0m\u001b[0;34m[\u001b[0m\u001b[0;34m-\u001b[0m\u001b[0;36m3\u001b[0m\u001b[0;34m]\u001b[0m\u001b[0;34m\u001b[0m\u001b[0;34m\u001b[0m\u001b[0m\n\u001b[0m\u001b[1;32m      3\u001b[0m \u001b[0mprint\u001b[0m\u001b[0;34m(\u001b[0m\u001b[0mdata\u001b[0m\u001b[0;34m)\u001b[0m\u001b[0;34m\u001b[0m\u001b[0;34m\u001b[0m\u001b[0m\n\u001b[1;32m      4\u001b[0m \u001b[0;34m\u001b[0m\u001b[0m\n\u001b[1;32m      5\u001b[0m \u001b[0;31m#delete the whole data list (the variable itself will also be deleted, so trying to access it will lead to an error and crash)\u001b[0m\u001b[0;34m\u001b[0m\u001b[0;34m\u001b[0m\u001b[0m\n",
      "\u001b[0;31mIndexError\u001b[0m: list assignment index out of range"
     ]
    }
   ],
   "source": [
    "# del data[len(data)-3]\n",
    "del data[-3]\n",
    "print(data)\n",
    "\n",
    "#delete the whole data list (the variable itself will also be deleted, so trying to access it will lead to an error and crash)\n",
    "del data"
   ]
  },
  {
   "attachments": {},
   "cell_type": "markdown",
   "metadata": {},
   "source": [
    "- by using \"clear\" you can delete all elements from a list but keep the (now) empty list as a variable which you can access."
   ]
  },
  {
   "cell_type": "code",
   "execution_count": 457,
   "metadata": {},
   "outputs": [
    {
     "name": "stdout",
     "output_type": "stream",
     "text": [
      "None\n"
     ]
    },
    {
     "data": {
      "text/plain": [
       "[]"
      ]
     },
     "execution_count": 457,
     "metadata": {},
     "output_type": "execute_result"
    }
   ],
   "source": [
    "print(data.clear())\n",
    "data"
   ]
  },
  {
   "attachments": {},
   "cell_type": "markdown",
   "metadata": {},
   "source": [
    " <table style=\"width:50%\" align=\"left\">\n",
    "  <tr>\n",
    "    <th>Operation</th>\n",
    "    <th>Output</th>\n",
    "    <th>Explanation</th>\n",
    "  </tr>\n",
    "  <tr>\n",
    "    <td>len([0,1,2,3,4])</td>\n",
    "    <td>5</td>\n",
    "    <td>Length</td>\n",
    "  </tr>\n",
    "  <tr>\n",
    "    <td>[1, 2, 3] + [4, 5, 6]</td>\n",
    "    <td>[1, 2, 3, 4, 5, 6] </td>\n",
    "    <td>Concatenation</td>\n",
    "  </tr>\n",
    "  <tr>\n",
    "    <td>[1,0] * 3</td>\n",
    "    <td>[1, 0, 1, 0, 1, 0] </td>\n",
    "    <td>Repetition</td>\n",
    "  </tr>\n",
    "  <tr>\n",
    "    <td>4 in [1, 2, 3, 4, 5, 6]</td>\n",
    "    <td>True </td>\n",
    "    <td>Membership check</td>\n",
    "  </tr>\n",
    "  <tr>\n",
    "    <td>for elem in [1,2,3]: print(elem)</td>\n",
    "    <td>1 2 3</td>\n",
    "    <td>Iteration</td>\n",
    "  </tr>\n",
    "      \n",
    "</table> "
   ]
  },
  {
   "attachments": {},
   "cell_type": "markdown",
   "metadata": {},
   "source": [
    "### Iterating over lists"
   ]
  },
  {
   "attachments": {},
   "cell_type": "markdown",
   "metadata": {},
   "source": [
    "- There are multiple different ways to iterate over lists (which are iterable objects) when using python:"
   ]
  },
  {
   "cell_type": "code",
   "execution_count": 447,
   "metadata": {},
   "outputs": [
    {
     "name": "stdout",
     "output_type": "stream",
     "text": [
      "data\n",
      "science\n",
      "machine\n",
      "learning\n",
      "artificial\n",
      "intelligence\n",
      "\n",
      "type(r): <class 'range'>  r: range(0, 10)\n",
      "0\n",
      "1\n",
      "2\n",
      "3\n",
      "4\n",
      "5\n",
      "6\n",
      "7\n",
      "8\n",
      "9\n"
     ]
    }
   ],
   "source": [
    "data = ['data', 'science', 'machine', 'learning', 'artificial', 'intelligence']\n",
    "\n",
    "# the simplest way to access each element, but won't give you the index\n",
    "for element in data:\n",
    "    print(element)\n",
    "print()\n",
    "\n",
    "# \"range\" defines a range of numbers which can be iterated over. It always includes the start index (0 if not defined otherwise) but excludes the last index (10 in this case)\n",
    "r = range(10)\n",
    "print(f\"type(r): {type(r)}  r: {r}\")\n",
    "for i in r:\n",
    "    print(i)"
   ]
  },
  {
   "attachments": {},
   "cell_type": "markdown",
   "metadata": {},
   "source": [
    "- range and enumerate are very useful when iterating over lists"
   ]
  },
  {
   "cell_type": "code",
   "execution_count": 453,
   "metadata": {},
   "outputs": [
    {
     "name": "stdout",
     "output_type": "stream",
     "text": [
      "range(len(data)): range(0, 6)\n",
      "i: 0   data[0]: data\n",
      "i: 1   data[1]: science\n",
      "i: 2   data[2]: machine\n",
      "i: 3   data[3]: learning\n",
      "i: 4   data[4]: artificial\n",
      "i: 5   data[5]: intelligence\n",
      "\n",
      "i: 0   data[0]: data\n",
      "i: 1   data[1]: science\n",
      "i: 2   data[2]: machine\n",
      "i: 3   data[3]: learning\n",
      "i: 4   data[4]: artificial\n",
      "i: 5   data[5]: intelligence\n",
      "\n",
      "i: 0  elementofcrime: heute\n",
      "i: 1  elementofcrime: scheint\n",
      "i: 2  elementofcrime: die\n",
      "i: 3  elementofcrime: Sonne\n"
     ]
    }
   ],
   "source": [
    "r = range(len(data))\n",
    "print(f\"range(len(data)): {r}\")\n",
    "for i in range(len(data)):\n",
    "    print(f\"i: {i}   data[{i}]: {data[i]}\")\n",
    "\n",
    "print()\n",
    "for i, item in enumerate(data):\n",
    "    print(f\"i: {i}   data[{i}]: {data[i]}\")\n",
    "\n",
    "# you don't need the index to access the right element as enumerate returns index and element at index. \n",
    "# so you can make also write it like this (which is the preferred way for me)\n",
    "print()\n",
    "moredata = ['heute', 'scheint', 'die', 'Sonne']\n",
    "for i, elementofcrime in enumerate(moredata):\n",
    "    print(f\"i: {i}  elementofcrime: {elementofcrime}\")"
   ]
  },
  {
   "attachments": {},
   "cell_type": "markdown",
   "metadata": {},
   "source": [
    "- there are also other types of loops, here an example for a \"while\" loop:"
   ]
  },
  {
   "cell_type": "code",
   "execution_count": 455,
   "metadata": {},
   "outputs": [
    {
     "name": "stdout",
     "output_type": "stream",
     "text": [
      "i: 0  elementofcrime: heute\n",
      "i: 1  elementofcrime: scheint\n",
      "i: 2  elementofcrime: die\n",
      "i: 3  elementofcrime: Sonne\n"
     ]
    }
   ],
   "source": [
    "# notice that there is no enumerate AND the index doesn't get incremented automatically!\n",
    "i = 0\n",
    "while i < len(moredata) :\n",
    "    print(f\"i: {i}  elementofcrime: {moredata[i]}\")\n",
    "    i = i + 1"
   ]
  },
  {
   "attachments": {},
   "cell_type": "markdown",
   "metadata": {},
   "source": [
    "### Sorting lists"
   ]
  },
  {
   "cell_type": "code",
   "execution_count": null,
   "metadata": {},
   "outputs": [],
   "source": [
    "math = ['stats', 'algebra', 'Statistics', 'geometry']"
   ]
  },
  {
   "cell_type": "code",
   "execution_count": null,
   "metadata": {
    "scrolled": true
   },
   "outputs": [
    {
     "name": "stdout",
     "output_type": "stream",
     "text": [
      "['Statistics', 'algebra', 'geometry', 'stats']\n"
     ]
    }
   ],
   "source": [
    "math.sort()#alphabetical sorting, numerical sorting works the same way\n",
    "print(math)"
   ]
  },
  {
   "cell_type": "code",
   "execution_count": null,
   "metadata": {},
   "outputs": [],
   "source": [
    "#string sorting is case sensitive - what does this mean and how can we change that?\n",
    "#..."
   ]
  },
  {
   "cell_type": "code",
   "execution_count": null,
   "metadata": {},
   "outputs": [],
   "source": [
    "#sorting can be reversed\n",
    "math.sort(reverse=True)"
   ]
  },
  {
   "cell_type": "code",
   "execution_count": null,
   "metadata": {},
   "outputs": [
    {
     "data": {
      "text/plain": [
       "['stats', 'geometry', 'algebra', 'Statistics']"
      ]
     },
     "execution_count": 381,
     "metadata": {},
     "output_type": "execute_result"
    }
   ],
   "source": [
    "math"
   ]
  },
  {
   "cell_type": "code",
   "execution_count": null,
   "metadata": {},
   "outputs": [
    {
     "name": "stdout",
     "output_type": "stream",
     "text": [
      "[50, 30, 10, 120, -20]\n"
     ]
    }
   ],
   "source": [
    "#customize sorting: how close is a number to 50?\n",
    "\n",
    "l = [10,30, 50, 120 , -20]\n",
    "\n",
    "def sortFunction(n):\n",
    "    return abs(n - 50)\n",
    "l.sort(key = sortFunction)\n",
    "print(l)"
   ]
  },
  {
   "cell_type": "markdown",
   "metadata": {},
   "source": [
    "### Copying lists\n",
    "List cannot simply be copied by using the = operator. Doing something like l1 = l2 creates a reference to l1 and therefore changes made in l2 will also change elements in l1. We need to use the copy function to create an own list copying all elements from the first."
   ]
  },
  {
   "cell_type": "code",
   "execution_count": 468,
   "metadata": {},
   "outputs": [
    {
     "name": "stdout",
     "output_type": "stream",
     "text": [
      "a: ['me', 'myself', 'and I']\n",
      "b: ['me', 'myself', 'and I']\n",
      "\n",
      "a: ['me', 'yourself', 'and I']\n",
      "b: ['me', 'yourself', 'and I']\n",
      "\n",
      "c: ['me', 'yourself', 'and I']\n",
      "\n",
      "a: ['me', 'yourself', 'and I']\n",
      "b: ['me', 'yourself', 'and I']\n",
      "c: ['me', 'myself', 'and I']\n",
      "\n",
      "c: ['me', 'myself', 'and I']\n",
      "d: ['me', 'myself', 'and I']\n",
      "\n",
      "c: ['me', 'myself', 'and I']\n",
      "d: ['me', 'whatever', 'and I']\n"
     ]
    }
   ],
   "source": [
    "a = ['me', 'myself', 'and I']\n",
    "b = a\n",
    "\n",
    "print(f\"a: {a}\")\n",
    "print(f\"b: {b}\")\n",
    "\n",
    "b[1] = 'yourself'\n",
    "\n",
    "print()\n",
    "print(f\"a: {a}\")\n",
    "print(f\"b: {b}\")\n",
    "# => the changes happen in both lists\n",
    "\n",
    "c = a.copy()\n",
    "print()\n",
    "print(f\"c: {c}\")\n",
    "\n",
    "c[1] = 'myself'\n",
    "\n",
    "print()\n",
    "print(f\"a: {a}\")\n",
    "print(f\"b: {b}\")\n",
    "print(f\"c: {c}\")\n",
    "# => the changes in list c do not lead to any change in list a\n",
    "\n",
    "# this bevaviour can also be achieved by using the list() constructor as follows:\n",
    "d = list(c)\n",
    "\n",
    "print()\n",
    "print(f\"c: {c}\")\n",
    "print(f\"d: {d}\")\n",
    "\n",
    "d[1] = 'whatever'\n",
    "\n",
    "print()\n",
    "print(f\"c: {c}\")\n",
    "print(f\"d: {d}\")"
   ]
  },
  {
   "cell_type": "markdown",
   "metadata": {},
   "source": [
    "### Putting lists together"
   ]
  },
  {
   "cell_type": "code",
   "execution_count": null,
   "metadata": {},
   "outputs": [],
   "source": [
    "#using + operator\n",
    "#using a loop\n",
    "#using extend\n"
   ]
  },
  {
   "cell_type": "code",
   "execution_count": null,
   "metadata": {},
   "outputs": [
    {
     "name": "stdout",
     "output_type": "stream",
     "text": [
      "['me', 'yourself', 'and I', 'me', 'myself', 'and I']\n"
     ]
    }
   ],
   "source": [
    "print(a+c)"
   ]
  },
  {
   "cell_type": "code",
   "execution_count": null,
   "metadata": {},
   "outputs": [
    {
     "name": "stdout",
     "output_type": "stream",
     "text": [
      "None\n"
     ]
    }
   ],
   "source": [
    "print(a.extend(c))"
   ]
  },
  {
   "cell_type": "code",
   "execution_count": null,
   "metadata": {},
   "outputs": [
    {
     "name": "stdout",
     "output_type": "stream",
     "text": [
      "['me', 'yourself', 'and I', 'me', 'myself', 'and I']\n"
     ]
    }
   ],
   "source": [
    "print(a)"
   ]
  },
  {
   "cell_type": "code",
   "execution_count": null,
   "metadata": {},
   "outputs": [],
   "source": [
    "b.extend(d)"
   ]
  },
  {
   "cell_type": "code",
   "execution_count": null,
   "metadata": {},
   "outputs": [
    {
     "name": "stdout",
     "output_type": "stream",
     "text": [
      "['me', 'yourself', 'and I', 'me', 'myself', 'and I', 'me', 'whatever', 'and I']\n"
     ]
    }
   ],
   "source": [
    "print(b)"
   ]
  },
  {
   "cell_type": "markdown",
   "metadata": {},
   "source": [
    "### Some useful list methods\n",
    "- append( )\t| Adds an element at the end of the list\n",
    "- clear( )  | Removes all the elements from the list\n",
    "- copy( )\t| Returns a copy of the list\n",
    "- count( )\t| Returns the number of elements with the specified value\n",
    "- extend( )\t| Add the elements of a list (or any iterable), to the end of the current list\n",
    "- index( )\t| Returns the index of the first element with the specified value\n",
    "- insert( )\t| Adds an element at the specified position\n",
    "- pop()\t    | Removes the element at the specified position\n",
    "- remove( )\t| Removes the item with the specified value\n",
    "- reverse( )| Reverses the order of the list\n",
    "- sort( )\t| Sorts the list"
   ]
  },
  {
   "cell_type": "code",
   "execution_count": null,
   "metadata": {},
   "outputs": [
    {
     "data": {
      "text/plain": [
       "3"
      ]
     },
     "execution_count": 400,
     "metadata": {},
     "output_type": "execute_result"
    }
   ],
   "source": [
    "b.count('me')"
   ]
  },
  {
   "cell_type": "markdown",
   "metadata": {},
   "source": [
    "## Exercises"
   ]
  },
  {
   "cell_type": "code",
   "execution_count": 419,
   "metadata": {},
   "outputs": [
    {
     "name": "stdout",
     "output_type": "stream",
     "text": [
      "321\n"
     ]
    }
   ],
   "source": [
    "# given a 3x3 matrix - display the matrix with lists and \n",
    "# calculate the sum of the diagonal elements\n",
    "\n",
    "matrix = [[1,2,3], [10,20,30], [100,200,300]]\n",
    "\n",
    "sum = 0\n",
    "\n",
    "for i in range(len(matrix)):\n",
    "    sum = sum + matrix[i][i] \n",
    "    \n",
    "print(sum)"
   ]
  },
  {
   "cell_type": "code",
   "execution_count": null,
   "metadata": {},
   "outputs": [
    {
     "name": "stdout",
     "output_type": "stream",
     "text": [
      "more\n",
      "data\n",
      "200\n"
     ]
    },
    {
     "ename": "TypeError",
     "evalue": "'int' object is not iterable",
     "output_type": "error",
     "traceback": [
      "\u001b[0;31m---------------------------------------------------------------------------\u001b[0m",
      "\u001b[0;31mTypeError\u001b[0m                                 Traceback (most recent call last)",
      "\u001b[0;32m/tmp/ipykernel_8817/1467930447.py\u001b[0m in \u001b[0;36m<module>\u001b[0;34m\u001b[0m\n\u001b[1;32m     11\u001b[0m         \u001b[0mstrs\u001b[0m\u001b[0;34m.\u001b[0m\u001b[0mappend\u001b[0m\u001b[0;34m(\u001b[0m\u001b[0melement\u001b[0m\u001b[0;34m)\u001b[0m\u001b[0;34m\u001b[0m\u001b[0;34m\u001b[0m\u001b[0m\n\u001b[1;32m     12\u001b[0m     \u001b[0;32melse\u001b[0m\u001b[0;34m:\u001b[0m\u001b[0;34m\u001b[0m\u001b[0;34m\u001b[0m\u001b[0m\n\u001b[0;32m---> 13\u001b[0;31m         \u001b[0mint_s\u001b[0m\u001b[0;34m.\u001b[0m\u001b[0mextend\u001b[0m\u001b[0;34m(\u001b[0m\u001b[0melement\u001b[0m\u001b[0;34m)\u001b[0m\u001b[0;31m##CHECK\u001b[0m\u001b[0;34m\u001b[0m\u001b[0;34m\u001b[0m\u001b[0m\n\u001b[0m",
      "\u001b[0;31mTypeError\u001b[0m: 'int' object is not iterable"
     ]
    }
   ],
   "source": [
    "# given the following list - split them by data type and sort the lists in ascending order\n",
    "#each outcoming list should hold the same data type \n",
    "l = ['more', 'data', 200, [100, 220], 'science', 300]\n",
    "\n",
    "int_s = []\n",
    "strs = []\n",
    "\n",
    "for element in l:\n",
    "    print(element)\n",
    "    if type(element) == str:\n",
    "        strs.append(element)\n",
    "    else:\n",
    "        int_s.extend(element)##CHECK"
   ]
  },
  {
   "cell_type": "code",
   "execution_count": null,
   "metadata": {},
   "outputs": [],
   "source": [
    "# write a function returing the two best grades from this list as a tuple\n",
    "# do not use sort(), handle the search automatically\n",
    "grades = [96,86,95,85,85,93,23,45,8,1,23,40]"
   ]
  }
 ],
 "metadata": {
  "kernelspec": {
   "display_name": "Python 3",
   "language": "python",
   "name": "python3"
  },
  "language_info": {
   "codemirror_mode": {
    "name": "ipython",
    "version": 3
   },
   "file_extension": ".py",
   "mimetype": "text/x-python",
   "name": "python",
   "nbconvert_exporter": "python",
   "pygments_lexer": "ipython3",
   "version": "3.10.4"
  }
 },
 "nbformat": 4,
 "nbformat_minor": 2
}
