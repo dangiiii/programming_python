{
 "cells": [
  {
   "attachments": {},
   "cell_type": "markdown",
   "metadata": {},
   "source": [
    "## 11 Numpy \n",
    "Numpy is a commonly used library for the scientific use of python.\n",
    "The package allows high-performance computation on multidimensional arrays. There are a lot of built-in functions for working with arrays. \n",
    "This notebook wants to show basic and advanced functionalities of numpy."
   ]
  },
  {
   "cell_type": "code",
   "execution_count": 11,
   "metadata": {},
   "outputs": [],
   "source": [
    "import numpy as np # importing numpy with an alias for easy use"
   ]
  },
  {
   "cell_type": "markdown",
   "metadata": {},
   "source": [
    "Initializing arrays and accessing elements and information about a given array"
   ]
  },
  {
   "cell_type": "code",
   "execution_count": 12,
   "metadata": {},
   "outputs": [
    {
     "name": "stdout",
     "output_type": "stream",
     "text": [
      "[1 2 3 4 5]\n",
      "<class 'numpy.ndarray'>\n",
      "(5,)\n",
      "1\n",
      "[6 2 3 4 5]\n"
     ]
    }
   ],
   "source": [
    "a = np.array([1, 2, 3, 4, 5])\n",
    "\n",
    "print(a)\n",
    "print(type(a)) # python built-in function for any python object\n",
    "print(a.shape) # function of the numpy object that returns the shape of the array\n",
    "\n",
    "print(a[0]) # access elements like in a python list\n",
    "\n",
    "a[0] = 6 # change a list object value\n",
    "print(a)\n"
   ]
  },
  {
   "cell_type": "markdown",
   "metadata": {},
   "source": [
    "Creating multidimensional arrays or matrices"
   ]
  },
  {
   "cell_type": "code",
   "execution_count": 13,
   "metadata": {},
   "outputs": [
    {
     "name": "stdout",
     "output_type": "stream",
     "text": [
      "(3, 3)\n",
      "[[1 2 3]\n",
      " [4 5 6]\n",
      " [7 8 9]]\n",
      "b[0, 0]: 1  ,  b[1, 2]: 6\n"
     ]
    }
   ],
   "source": [
    "b = np.array([[1, 2, 3], [4, 5, 6], [7, 8, 9]])\n",
    "print(b.shape)\n",
    "print(b)\n",
    "print(f\"b[0, 0]: {b[0][0]}  ,  b[1, 2]: {b[1][2]}\")"
   ]
  },
  {
   "cell_type": "markdown",
   "metadata": {},
   "source": [
    "Convenience functions for easy array creation"
   ]
  },
  {
   "cell_type": "code",
   "execution_count": 14,
   "metadata": {},
   "outputs": [
    {
     "name": "stdout",
     "output_type": "stream",
     "text": [
      "[[0. 0. 0.]\n",
      " [0. 0. 0.]\n",
      " [0. 0. 0.]]\n",
      "[[1. 1.]]\n",
      "[[1. 0. 0.]\n",
      " [0. 1. 0.]\n",
      " [0. 0. 1.]]\n",
      "[[0.34545575 0.79850944 0.28970133]\n",
      " [0.41972691 0.62655038 0.89506978]\n",
      " [0.21492131 0.70660553 0.36802376]]\n"
     ]
    }
   ],
   "source": [
    "a = np.zeros((3,3))\n",
    "print(a)\n",
    "\n",
    "b = np.ones((1, 2))\n",
    "print(b)\n",
    "\n",
    "c = np.eye(3) # creates a 3 dimensional identity matrix\n",
    "print(c)\n",
    "\n",
    "d = np.random.random((3,3)) #creates a 3x3 matrix with random values between 0 and 1\n",
    "print(d)"
   ]
  },
  {
   "attachments": {},
   "cell_type": "markdown",
   "metadata": {},
   "source": [
    "Numpy offers two built-in methods that allow you to create ranges (similar to the python method <i>range()</i>), one called np.arange() and the other np.linspace():<br>  \n",
    "As the name suggests, np.arange() behaves in the same way as the python-internal method in that it lets you set a range and a step size, it's recommended by the official numpy docs for creating integer sequences. It includes the start value but not the stop value, similar to range() ( [start, stop) )<br>\n",
    "np.linspace() on the other hand lets you define a range, set the amount of steps you want and then returns evenly spaced numbers from that interval, inferring the step size from the given information. The range includes the start and stop value (the borders of the interval, [start, stop] )The method is recommended for the use with floating point numbers.<br>\n",
    "In practice it does not matter which method you choose for which data type, as long as you understand how your preferred method works you will get out the correct numbers:"
   ]
  },
  {
   "cell_type": "code",
   "execution_count": 15,
   "metadata": {},
   "outputs": [
    {
     "name": "stdout",
     "output_type": "stream",
     "text": [
      "linspace_int_range: [ 0.  1.  2.  3.  4.  5.  6.  7.  8.  9. 10.]\n",
      "linspace_float_range: [ 0.          1.11111111  2.22222222  3.33333333  4.44444444  5.55555556\n",
      "  6.66666667  7.77777778  8.88888889 10.        ]\n",
      "arange_int_range: [0 1 2 3 4 5 6 7 8 9]\n",
      "arange_float_range: [0.  0.1 0.2 0.3 0.4 0.5 0.6 0.7 0.8 0.9 1.  1.1 1.2 1.3 1.4 1.5 1.6 1.7\n",
      " 1.8 1.9 2.  2.1 2.2 2.3 2.4 2.5 2.6 2.7 2.8 2.9 3.  3.1 3.2 3.3 3.4 3.5\n",
      " 3.6 3.7 3.8 3.9 4.  4.1 4.2 4.3 4.4 4.5 4.6 4.7 4.8 4.9 5.  5.1 5.2 5.3\n",
      " 5.4 5.5 5.6 5.7 5.8 5.9 6.  6.1 6.2 6.3 6.4 6.5 6.6 6.7 6.8 6.9 7.  7.1\n",
      " 7.2 7.3 7.4 7.5 7.6 7.7 7.8 7.9 8.  8.1 8.2 8.3 8.4 8.5 8.6 8.7 8.8 8.9\n",
      " 9.  9.1 9.2 9.3 9.4 9.5 9.6 9.7 9.8 9.9]\n"
     ]
    }
   ],
   "source": [
    "linspace_int_range = np.linspace(start=0, stop=10, num=11)\n",
    "linspace_float_range = np.linspace(start=0, stop=10, num=10)\n",
    "arange_int_range = np.arange(start=0,stop=10,step=1)\n",
    "arange_float_range = np.arange(start=0,stop=10,step=0.1)\n",
    "\n",
    "print(f\"linspace_int_range: {linspace_int_range}\")\n",
    "print(f\"linspace_float_range: {linspace_float_range}\")\n",
    "print(f\"arange_int_range: {arange_int_range}\")\n",
    "print(f\"arange_float_range: {arange_float_range}\")"
   ]
  },
  {
   "cell_type": "markdown",
   "metadata": {},
   "source": [
    "### Exercise 11.1\n",
    "Create an array with shape (3,7) filled like\n",
    "[[1, 2, 3 ,4 , 5, 6, 7]\n",
    " [8, 9, ...\n",
    " ]]"
   ]
  },
  {
   "cell_type": "code",
   "execution_count": 16,
   "metadata": {},
   "outputs": [],
   "source": [
    "### your code here"
   ]
  },
  {
   "cell_type": "markdown",
   "metadata": {},
   "source": [
    "Selecting and modifying elements from a matrix with lists:"
   ]
  },
  {
   "cell_type": "code",
   "execution_count": 17,
   "metadata": {},
   "outputs": [],
   "source": [
    "c = np.array([ 2, 3, 6])\n",
    "#selects one elements from each row with the indices given by c\n",
    "print(a[np.arange(3), c])\n",
    "#add 10 to those elements\n",
    "a[np.arange(3), c ] += 10\n",
    "print(a)"
   ]
  },
  {
   "cell_type": "markdown",
   "metadata": {},
   "source": [
    "### Exercise 11.2\n",
    "Create an array that contains the elements from the last two rows from column three to five"
   ]
  },
  {
   "cell_type": "code",
   "execution_count": 18,
   "metadata": {},
   "outputs": [],
   "source": [
    "### your code here"
   ]
  },
  {
   "attachments": {},
   "cell_type": "markdown",
   "metadata": {},
   "source": [
    "### Exercise 11.3:\n",
    "\n",
    "Select the third, sixths and second element of row one, two and three from the array and multiply all elements by ten"
   ]
  },
  {
   "cell_type": "code",
   "execution_count": 19,
   "metadata": {},
   "outputs": [],
   "source": [
    "### your code here"
   ]
  },
  {
   "attachments": {},
   "cell_type": "markdown",
   "metadata": {},
   "source": [
    "### Boolean indexing and masks"
   ]
  },
  {
   "cell_type": "code",
   "execution_count": 20,
   "metadata": {},
   "outputs": [
    {
     "name": "stdout",
     "output_type": "stream",
     "text": [
      "[[False False False]\n",
      " [False False False]\n",
      " [False False False]]\n",
      "[]\n",
      "[]\n"
     ]
    }
   ],
   "source": [
    "mask = (a>9) #creates a boolean array where the element in a is larger than 9\n",
    "print(mask)\n",
    "\n",
    "print(a[mask]) #prints all values that fulfill the condition\n",
    "\n",
    "print(a[a>2]) # in one line (very convenient for filtering data)"
   ]
  },
  {
   "cell_type": "markdown",
   "metadata": {},
   "source": [
    "## Datatypes in numpy\n",
    "\n",
    "numpy chooses the datatype according to the values in the list.\n",
    "A particular datatype can be enforced during initialization to avoid issues in calculations and assertions"
   ]
  },
  {
   "cell_type": "code",
   "execution_count": 21,
   "metadata": {},
   "outputs": [
    {
     "name": "stdout",
     "output_type": "stream",
     "text": [
      "int64\n",
      "float64\n",
      "int8\n"
     ]
    }
   ],
   "source": [
    "x = np.array([1,2])\n",
    "print(x.dtype)\n",
    "\n",
    "x = np.array([1.0, 2.0])\n",
    "print(x.dtype)\n",
    "\n",
    "x = np.array([1, 2], dtype=np.int8) #forces the datatype to be int8\n",
    "print(x.dtype)"
   ]
  },
  {
   "cell_type": "markdown",
   "metadata": {},
   "source": [
    "## The useful stuff: Math with numpy arrays\n",
    "\n",
    "numpy has a lot of built-in functionalities for basic maths"
   ]
  },
  {
   "cell_type": "code",
   "execution_count": 22,
   "metadata": {},
   "outputs": [
    {
     "name": "stdout",
     "output_type": "stream",
     "text": [
      "x:\n",
      " [[1 2 3]\n",
      " [4 5 6]\n",
      " [7 8 9]]\n",
      "y:\n",
      " [[2. 0. 0.]\n",
      " [0. 2. 0.]\n",
      " [0. 0. 2.]]\n",
      "\n",
      "elementwise addition:\n",
      "[[ 3.  2.  3.]\n",
      " [ 4.  7.  6.]\n",
      " [ 7.  8. 11.]]\n",
      "[[ 3.  2.  3.]\n",
      " [ 4.  7.  6.]\n",
      " [ 7.  8. 11.]]\n",
      "\n",
      "elementwise subtraction:\n",
      "[[-1.  2.  3.]\n",
      " [ 4.  3.  6.]\n",
      " [ 7.  8.  7.]]\n",
      "[[-1.  2.  3.]\n",
      " [ 4.  3.  6.]\n",
      " [ 7.  8.  7.]]\n",
      "\n",
      "elementwise multiplication:\n",
      "[[ 2.  0.  0.]\n",
      " [ 0. 10.  0.]\n",
      " [ 0.  0. 18.]]\n",
      "[[ 2.  0.  0.]\n",
      " [ 0. 10.  0.]\n",
      " [ 0.  0. 18.]]\n",
      "\n",
      "elementwise division:\n",
      "[[1. 1. 1.]\n",
      " [1. 1. 1.]\n",
      " [1. 1. 1.]]\n",
      "[[1. 1. 1.]\n",
      " [1. 1. 1.]\n",
      " [1. 1. 1.]]\n",
      "\n",
      "elementwise square root:\n",
      "[[1.         1.41421356 1.73205081]\n",
      " [2.         2.23606798 2.44948974]\n",
      " [2.64575131 2.82842712 3.        ]]\n"
     ]
    }
   ],
   "source": [
    "x = np.array([[1, 2, 3], [4, 5, 6], [7, 8, 9]])\n",
    "y = 2*np.eye(3)\n",
    "\n",
    "print(f\"x:\\n {x}\")\n",
    "print(f\"y:\\n {y}\\n\")\n",
    "\n",
    "#elementwise addition\n",
    "print(\"elementwise addition:\")\n",
    "print(x+y) \n",
    "print(f\"{np.add(x,y)}\\n\")\n",
    "#elementwise subtraction\n",
    "print(\"elementwise subtraction:\")\n",
    "print(x-y) \n",
    "print(f\"{np.subtract(x,y)}\\n\")\n",
    "#elementwise multiplication\n",
    "print(\"elementwise multiplication:\")\n",
    "print(x*y)\n",
    "print(f\"{np.multiply(x,y)}\\n\")\n",
    "#elementwise division\n",
    "print(\"elementwise division:\")\n",
    "print(x/x)\n",
    "print(f\"{np.divide(x,x)}\\n\")\n",
    "#elementwise square root\n",
    "print(\"elementwise square root:\")\n",
    "print(np.sqrt(x))"
   ]
  },
  {
   "cell_type": "markdown",
   "metadata": {},
   "source": [
    "### Matrix multiplication"
   ]
  },
  {
   "attachments": {},
   "cell_type": "markdown",
   "metadata": {},
   "source": [
    "You can utilize numpy to easily calculate the dot or cross product for matrices..."
   ]
  },
  {
   "cell_type": "code",
   "execution_count": 23,
   "metadata": {},
   "outputs": [
    {
     "name": "stdout",
     "output_type": "stream",
     "text": [
      "x:\n",
      " [[1 2 3]\n",
      " [4 5 6]\n",
      " [7 8 9]]\n",
      "y:\n",
      " [[2. 0. 0.]\n",
      " [0. 2. 0.]\n",
      " [0. 0. 2.]]\n",
      "\n",
      "dot product methods:\n",
      "[[ 2.  4.  6.]\n",
      " [ 8. 10. 12.]\n",
      " [14. 16. 18.]]\n",
      "[[ 2.  4.  6.]\n",
      " [ 8. 10. 12.]\n",
      " [14. 16. 18.]]\n",
      "[[ 2.  4.  6.]\n",
      " [ 8. 10. 12.]\n",
      " [14. 16. 18.]]\n",
      "\n",
      "cross product (row wise)\n",
      "[[  0.   6.  -4.]\n",
      " [-12.   0.   8.]\n",
      " [ 16. -14.   0.]]\n"
     ]
    }
   ],
   "source": [
    "print(f\"x:\\n {x}\")\n",
    "print(f\"y:\\n {y}\\n\")\n",
    "\n",
    "print(f\"dot product methods:\")\n",
    "print(x.dot(y))\n",
    "print(np.dot(x,y))\n",
    "print(x@y) #this method is preferred in newer versions of numpy\n",
    "\n",
    "print(\"\\ncross product (row wise)\")\n",
    "print(np.cross(x, y)) #cross product of vectors (row wise)"
   ]
  },
  {
   "attachments": {},
   "cell_type": "markdown",
   "metadata": {},
   "source": [
    "... and vectors:"
   ]
  },
  {
   "cell_type": "code",
   "execution_count": 24,
   "metadata": {},
   "outputs": [
    {
     "name": "stdout",
     "output_type": "stream",
     "text": [
      "v: [1 2 3]\n",
      "w: [4 5 6]\n",
      "\n",
      "scalar product methods:\n",
      "32\n",
      "32\n",
      "\n",
      "dot product vector/matrix:\n",
      "[14 32 50]\n",
      "[14 32 50]\n",
      "[14 32 50]\n",
      "\n",
      "cross product (vector orthogonal to v, w):\n",
      "[-3  6 -3]\n"
     ]
    }
   ],
   "source": [
    "v = np.array([1, 2, 3]) #vector for matrix vector multiplication\n",
    "w = np.array([4, 5, 6])\n",
    "\n",
    "print(f\"v: {v}\")\n",
    "print(f\"w: {w}\\n\")\n",
    "\n",
    "print(\"scalar product methods:\")\n",
    "print(v.dot(w)) #scalar product\n",
    "print(np.dot(v, w))\n",
    "\n",
    "print(\"\\ndot product vector/matrix:\")\n",
    "print(x.dot(v))\n",
    "print(np.dot(x,v))\n",
    "print(x@v)\n",
    "\n",
    "print(\"\\ncross product (vector orthogonal to v, w):\")\n",
    "print(np.cross(v,w)) # vector orthogonal to v, w"
   ]
  },
  {
   "attachments": {},
   "cell_type": "markdown",
   "metadata": {},
   "source": [
    "### More built-in functions"
   ]
  },
  {
   "attachments": {},
   "cell_type": "markdown",
   "metadata": {},
   "source": [
    "np.sum() sums up all elements in a array/matrix. The axis parameter lets you choose between rows and columns (this is used in many other numpy methods as well):"
   ]
  },
  {
   "cell_type": "code",
   "execution_count": 25,
   "metadata": {},
   "outputs": [
    {
     "name": "stdout",
     "output_type": "stream",
     "text": [
      "np.sum(x): 45\n",
      "np.sum(x, axis=0): [12 15 18]\n",
      "np.sum(x, axis=1): [ 6 15 24]\n"
     ]
    }
   ],
   "source": [
    "print(f\"np.sum(x): {np.sum(x)}\") # sums up all elements\n",
    "print(f\"np.sum(x, axis=0): {np.sum(x, axis=0)}\") # sums up all columns\n",
    "print(f\"np.sum(x, axis=1): {np.sum(x, axis=1)}\") # sums up all rows"
   ]
  },
  {
   "attachments": {},
   "cell_type": "markdown",
   "metadata": {},
   "source": [
    "np.abs() returns the absolute values from a list/array/matrix:"
   ]
  },
  {
   "cell_type": "code",
   "execution_count": 26,
   "metadata": {},
   "outputs": [
    {
     "name": "stdout",
     "output_type": "stream",
     "text": [
      "[1 2 4 6 8]\n"
     ]
    }
   ],
   "source": [
    "print(np.abs(np.array([1,2,-4,-6,8])))"
   ]
  },
  {
   "attachments": {},
   "cell_type": "markdown",
   "metadata": {},
   "source": [
    "np.average() and np.mean() behave quite similarly, both return either the average over an array/matrix or one of its axes. np.average() allows for an additional weight array to calculate the weighted average."
   ]
  },
  {
   "cell_type": "code",
   "execution_count": 27,
   "metadata": {},
   "outputs": [
    {
     "name": "stdout",
     "output_type": "stream",
     "text": [
      "np.average:\n",
      "np.average(x): 5.0\n",
      "np.average(x, axis=0): [4. 5. 6.]\n",
      "np.average(x, axis=1): [2. 5. 8.]\n",
      "np.average(x, axis=1), weighted: [2.54054054 5.54054054 8.54054054]\n",
      "\n",
      "np.mean:\n",
      "np.mean(x): 5.0\n",
      "np.mean(x, axis=1): [2. 5. 8.]\n"
     ]
    }
   ],
   "source": [
    "print(\"np.average:\")\n",
    "print(f\"np.average(x): {np.average(x)}\")\n",
    "print(f\"np.average(x, axis=0): {np.average(x, axis=0)}\")\n",
    "print(f\"np.average(x, axis=1): {np.average(x, axis=1)}\")\n",
    "print(f\"np.average(x, axis=1), weighted: {np.average(x, axis=1, weights=[5,7,25])}\") # avg = sum(x * weights) / sum(weights)\n",
    "\n",
    "print(\"\\nnp.mean:\")\n",
    "print(f\"np.mean(x): {np.mean(x)}\")\n",
    "print(f\"np.mean(x, axis=1): {np.mean(x, axis=1)}\")"
   ]
  },
  {
   "attachments": {},
   "cell_type": "markdown",
   "metadata": {},
   "source": [
    "np.argmax() can be used to return the indices of the maximum values along an axis, while np.argmin() does the same for the minimum values:"
   ]
  },
  {
   "cell_type": "code",
   "execution_count": 28,
   "metadata": {},
   "outputs": [
    {
     "name": "stdout",
     "output_type": "stream",
     "text": [
      "z:\n",
      "[[1 4 3]\n",
      " [7 2 5]\n",
      " [3 6 9]]\n",
      "\n",
      "np.argmax(z, axis=0): [1 2 2]\n",
      "np.argmax(z, axis=1): [1 0 2]\n",
      "np.argmin(z, axis=0): [0 1 0]\n",
      "np.argmin(z, axis=1): [0 1 0]\n"
     ]
    }
   ],
   "source": [
    "z = np.array([[1,4,3],[7,2,5],[3,6,9]])\n",
    "print(f\"z:\\n{z}\\n\")\n",
    "\n",
    "print(f\"np.argmax(z, axis=0): {np.argmax(z, axis=0)}\")\n",
    "print(f\"np.argmax(z, axis=1): {np.argmax(z, axis=1)}\")\n",
    "\n",
    "print(f\"np.argmin(z, axis=0): {np.argmin(z, axis=0)}\")\n",
    "print(f\"np.argmin(z, axis=1): {np.argmin(z, axis=1)}\")"
   ]
  },
  {
   "attachments": {},
   "cell_type": "markdown",
   "metadata": {},
   "source": [
    "### Randomisation"
   ]
  },
  {
   "attachments": {},
   "cell_type": "markdown",
   "metadata": {},
   "source": [
    "Numpy offers a wide range of functions that allow you to randomly sample from a given range or array. If you want your results to be reproducible you should opt to set a fixed seed:"
   ]
  },
  {
   "cell_type": "code",
   "execution_count": 29,
   "metadata": {},
   "outputs": [
    {
     "name": "stdout",
     "output_type": "stream",
     "text": [
      "rng.integers(endpoint=True):\n",
      "[ 6  9  7  2  5 10  4 10  3  9  5  1  0  2  1  3  3  5  6  9  2  0  5  2\n",
      "  9  8  1  4  3  0  8  4  5  3  2  0  0  9  5  0  4  9 10  5  9  0  0  8\n",
      "  3  8  5  7  6  0  7  6 10 10  8  8  3  2  4  0  0 10  3  8  5 10  6  8\n",
      "  8  1  7  1  3  2  4  6 10  7  0  8  4  4  3  3  6  9  5  1  9  2  7  3\n",
      "  0  8  2  5]\n",
      "rng.integers(endpoint=False):\n",
      "[5 8 2 9 7 2 9 3 6 1 9 1 1 8 4 2 6 0 7 8 9 3 7 8 4 0 1 6 1 0 2 4 7 3 5 2 7\n",
      " 2 2 2 3 7 1 1 8 6 6 1 1 9 3 5 1 5 6 6 3 4 7 7 4 4 5 6 1 1 6 7 6 5 7 1 6 3\n",
      " 5 5 7 0 6 9 4 5 2 2 4 6 2 0 6 1 6 6 8 1 2 9 0 9 0 3]\n",
      "\n",
      "rng.random(size=10):\n",
      "[0.13866216 0.94755104 0.50825476 0.67010873 0.53283281 0.27643336\n",
      " 0.27839879 0.41565925 0.25086189 0.50950071] <- sampled from 'continuous uniform' distribution\n",
      "\n",
      "rng.standard_normal(5): [ 0.12085028 -0.33929705 -0.4682714  -0.91131567 -0.84963165]\n",
      "\n",
      "2 + 4*rng.standard_normal(size=(3,4)):\n",
      "[[ 6.68242195  5.33367065 -4.0828517   5.34001929]\n",
      " [ 2.96679265  0.57094653 -2.40165729 10.33879524]\n",
      " [-3.29821357 -1.19766446  1.62191019 -5.51908478]] <- sampled from a shifted normal distribution\n",
      "\n",
      "choices array: [1, 2, 5, 19, 15, 12, 20, 21, 72, 45, 12, 5, 2, 3, 7, 40, 21, 42, 25]\n",
      "rng.choice(choices,size=10,replace=True,shuffle=False): [12  5 40 25  1  5  5 25 15  7] <- 5 appears 3 times\n",
      "rng.choice(choices,size=10,replace=True,shuffle=False): [ 5  3 12 42  2  1 45 25 72 40] <- all values unique\n",
      "\n",
      "rng.bytes(10): b'\\xc7\\xd8\\x81\\xf3\\x14#\\xc8\\xc5\\xac`'\n"
     ]
    }
   ],
   "source": [
    "rng = np.random.default_rng(seed=1337)\n",
    "\n",
    "print(f\"rng.integers(endpoint=True):\\n{rng.integers(low=0,high=10,size=100,endpoint=True)}\")\n",
    "print(f\"rng.integers(endpoint=False):\\n{rng.integers(low=0,high=10,size=100,endpoint=False)}\")\n",
    "\n",
    "# Return random floats in the half-open interval [0.0, 1.0). Results are from the “continuous uniform” distribution over the stated interval.\n",
    "print(f\"\\nrng.random(size=10):\\n{rng.random(10)} <- sampled from 'continuous uniform' distribution\")\n",
    "\n",
    "# array with 5 samples from the standard normal distribution\n",
    "print(f\"\\nrng.standard_normal(5): {rng.standard_normal(5)}\")\n",
    "\n",
    "# 3x4 array with samples from the normal distribution with mean=2 and standard deviation=4:\n",
    "print(f\"\\n2 + 4*rng.standard_normal(size=(3,4)):\\n{2 + 4*rng.standard_normal(size=(3,4))} <- sampled from a shifted normal distribution\")\n",
    "\n",
    "# Generates a random sample from a given array\n",
    "# replace: Whether the sample is with or without replacement. Default is True, meaning that a value of 'a' can be selected multiple times.\n",
    "# shuffle: Whether the sample is shuffled when sampling without replacement. Default is True, False provides a speedup.\n",
    "choices = [1,2,5,19,15,12,20,21,72,45,12,5,2,3,7,40,21,42,25]\n",
    "\n",
    "print(f\"\\nchoices array: {choices}\")\n",
    "print(f\"rng.choice(choices,size=10,replace=True,shuffle=False): {rng.choice(choices,size=10)} <- 5 appears 3 times\")\n",
    "print(f\"rng.choice(choices,size=10,replace=True,shuffle=False): {rng.choice(choices,size=10,replace=False)} <- all values unique\")\n",
    "\n",
    "# Return random bytes\n",
    "print(f\"\\nrng.bytes(10): {rng.bytes(10)}\")"
   ]
  },
  {
   "cell_type": "markdown",
   "metadata": {},
   "source": [
    "### Transposition\n"
   ]
  },
  {
   "cell_type": "code",
   "execution_count": 30,
   "metadata": {},
   "outputs": [
    {
     "name": "stdout",
     "output_type": "stream",
     "text": [
      "[[1 2 3]\n",
      " [4 5 6]\n",
      " [7 8 9]]\n",
      "[[1 4 7]\n",
      " [2 5 8]\n",
      " [3 6 9]]\n",
      "[1 2 3]\n",
      "[1 2 3]\n"
     ]
    }
   ],
   "source": [
    "print(x)\n",
    "print(x.T)\n",
    "print(v)\n",
    "print(v.T)"
   ]
  },
  {
   "cell_type": "markdown",
   "metadata": {},
   "source": [
    "### Broacasting and Reshaping\n",
    "Broadcasting can be used to add a constant vector to every row or column of a matrix. Numpy handles these operation itself."
   ]
  },
  {
   "cell_type": "code",
   "execution_count": 31,
   "metadata": {},
   "outputs": [
    {
     "name": "stdout",
     "output_type": "stream",
     "text": [
      "[[1 2 3]\n",
      " [4 5 6]\n",
      " [7 8 9]]\n",
      "[1 2 3]\n",
      "[[ 2  4  6]\n",
      " [ 5  7  9]\n",
      " [ 8 10 12]]\n"
     ]
    }
   ],
   "source": [
    "print(x)\n",
    "print(v)\n",
    "print(x + v) #this adds v elementwise to every column of x"
   ]
  },
  {
   "cell_type": "code",
   "execution_count": 32,
   "metadata": {},
   "outputs": [
    {
     "name": "stdout",
     "output_type": "stream",
     "text": [
      "[[1]\n",
      " [2]\n",
      " [3]]\n",
      "[[1 2]\n",
      " [2 4]\n",
      " [3 6]]\n"
     ]
    }
   ],
   "source": [
    "z = np.array([1,2])\n",
    "#outer product of vectors\n",
    "# reshaping the v vector to a column-like vector \n",
    "print(np.reshape(v, (3,1)))\n",
    "print(np.reshape(v, (3,1))* z)"
   ]
  },
  {
   "cell_type": "markdown",
   "metadata": {},
   "source": [
    "## Using skimage for image processing\n",
    "Images can be interpreted as matrices with RGB Values. These images can be read with skimage and other packages and be processed like numpy arrays."
   ]
  },
  {
   "cell_type": "code",
   "execution_count": 33,
   "metadata": {},
   "outputs": [
    {
     "name": "stdout",
     "output_type": "stream",
     "text": [
      "img.dtype: uint8\n",
      "img.shape: (1080, 1280, 3)\n",
      "\n",
      "img:\n",
      "[[[ 79  70  65]\n",
      "  [ 89  85  76]\n",
      "  [ 91  88  79]\n",
      "  ...\n",
      "  [ 38  30  27]\n",
      "  [ 40  32  29]\n",
      "  [ 36  28  25]]\n",
      "\n",
      " [[104  93  89]\n",
      "  [107  98  91]\n",
      "  [102  95  87]\n",
      "  ...\n",
      "  [ 37  29  26]\n",
      "  [ 37  29  26]\n",
      "  [ 38  30  27]]\n",
      "\n",
      " [[ 94  87  81]\n",
      "  [ 94  87  81]\n",
      "  [ 90  86  77]\n",
      "  ...\n",
      "  [ 38  30  27]\n",
      "  [ 36  28  25]\n",
      "  [ 35  30  26]]\n",
      "\n",
      " ...\n",
      "\n",
      " [[137 132 139]\n",
      "  [129 126 133]\n",
      "  [113 114 118]\n",
      "  ...\n",
      "  [211 204 194]\n",
      "  [210 204 192]\n",
      "  [210 204 192]]\n",
      "\n",
      " [[107 109 106]\n",
      "  [ 99 104 100]\n",
      "  [ 90  97  90]\n",
      "  ...\n",
      "  [211 204 196]\n",
      "  [210 203 195]\n",
      "  [210 203 195]]\n",
      "\n",
      " [[ 91  97  85]\n",
      "  [ 76  84  71]\n",
      "  [ 78  86  73]\n",
      "  ...\n",
      "  [211 204 198]\n",
      "  [209 202 196]\n",
      "  [208 201 195]]]\n",
      "\n",
      "img_bw:\n",
      "[[ 72.121  85.17   87.871 ...  32.05   34.05   30.05 ]\n",
      " [ 95.833  99.893  96.181 ...  31.05   31.05   32.05 ]\n",
      " [ 88.409  88.409  86.17  ...  32.05   30.05   31.039]\n",
      " ...\n",
      " [134.293 127.695 114.157 ... 204.953 204.426 204.426]\n",
      " [108.06  102.049  94.109 ... 205.181 204.181 204.181]\n",
      " [ 93.838  80.126  82.126 ... 205.409 203.409 202.409]]\n",
      "img_resizedmg.dtype: float64\n",
      "img_resized.shape: (200, 200, 3)\n",
      "\n"
     ]
    },
    {
     "name": "stderr",
     "output_type": "stream",
     "text": [
      "Lossy conversion from float64 to uint8. Range [0.0, 255.0]. Convert image to uint8 prior to saving to suppress this warning.\n",
      "Lossy conversion from float64 to uint8. Range [0.0, 255.0]. Convert image to uint8 prior to saving to suppress this warning.\n",
      "Lossy conversion from float64 to uint8. Range [2.674067327259919, 250.62336369373367]. Convert image to uint8 prior to saving to suppress this warning.\n"
     ]
    }
   ],
   "source": [
    "from skimage import transform, io\n",
    "\n",
    "img = io.imread('img/raccoon.jpg')\n",
    "print(f\"img.dtype: {img.dtype}\\nimg.shape: {img.shape}\\n\")\n",
    "print(f\"img:\\n{img}\")\n",
    "img_tinted = img * [1, 0.8, 0.9] #changes the rgb values of the image\n",
    "img_bw = np.dot(img[...,:3], [0.299, 0.587, 0.114]) #formula for greyscale conversion\n",
    "print(f\"\\nimg_bw:\\n{img_bw}\")\n",
    "img_resized = transform.resize(img, (200, 200), mode='symmetric', preserve_range=True) #resizes the image\n",
    "print(f\"img_resizedmg.dtype: {img_resized.dtype}\\nimg_resized.shape: {img_resized.shape}\\n\")\n",
    "io.imsave(arr=img_tinted, fname='img/raccoon_tinted.jpg')\n",
    "io.imsave(arr=img_bw, fname='img/raccoon_bw.jpg')\n",
    "io.imsave(arr=img_resized, fname='img/raccoon_resized.jpg')"
   ]
  }
 ],
 "metadata": {
  "kernelspec": {
   "display_name": "Python 3",
   "language": "python",
   "name": "python3"
  },
  "language_info": {
   "codemirror_mode": {
    "name": "ipython",
    "version": 3
   },
   "file_extension": ".py",
   "mimetype": "text/x-python",
   "name": "python",
   "nbconvert_exporter": "python",
   "pygments_lexer": "ipython3",
   "version": "3.10.4"
  }
 },
 "nbformat": 4,
 "nbformat_minor": 2
}
